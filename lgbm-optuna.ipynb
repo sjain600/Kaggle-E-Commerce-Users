{
 "cells": [
  {
   "cell_type": "code",
   "execution_count": 1,
   "id": "46bf22d8",
   "metadata": {
    "_cell_guid": "b1076dfc-b9ad-4769-8c92-a6c4dae69d19",
    "_uuid": "8f2839f25d086af736a60e9eeb907d3b93b6e0e5",
    "execution": {
     "iopub.execute_input": "2025-06-01T11:26:53.495656Z",
     "iopub.status.busy": "2025-06-01T11:26:53.495192Z",
     "iopub.status.idle": "2025-06-01T11:26:55.921048Z",
     "shell.execute_reply": "2025-06-01T11:26:55.919994Z"
    },
    "papermill": {
     "duration": 2.433887,
     "end_time": "2025-06-01T11:26:55.922962",
     "exception": false,
     "start_time": "2025-06-01T11:26:53.489075",
     "status": "completed"
    },
    "tags": []
   },
   "outputs": [
    {
     "name": "stdout",
     "output_type": "stream",
     "text": [
      "/kaggle/input/prediction-of-e-commerce-users/submission.csv\n",
      "/kaggle/input/prediction-of-e-commerce-users/train_df.csv\n",
      "/kaggle/input/prediction-of-e-commerce-users/test_df.csv\n"
     ]
    }
   ],
   "source": [
    "# This Python 3 environment comes with many helpful analytics libraries installed\n",
    "# It is defined by the kaggle/python Docker image: https://github.com/kaggle/docker-python\n",
    "# For example, here's several helpful packages to load\n",
    "#%load_ext cudf.pandas\n",
    "import numpy as np # linear algebra\n",
    "import pandas as pd # data processing, CSV file I/O (e.g. pd.read_csv)\n",
    "\n",
    "import optuna\n",
    "\n",
    "# Input data files are available in the read-only \"../input/\" directory\n",
    "# For example, running this (by clicking run or pressing Shift+Enter) will list all files under the input directory\n",
    "\n",
    "import os\n",
    "for dirname, _, filenames in os.walk('/kaggle/input'):\n",
    "    for filename in filenames:\n",
    "        print(os.path.join(dirname, filename))\n",
    "\n",
    "import warnings\n",
    "warnings.filterwarnings('ignore', category=pd.errors.PerformanceWarning)\n",
    "\n",
    "# You can write up to 20GB to the current directory (/kaggle/working/) that gets preserved as output when you create a version using \"Save & Run All\" \n",
    "# You can also write temporary files to /kaggle/temp/, but they won't be saved outside of the current session"
   ]
  },
  {
   "cell_type": "code",
   "execution_count": 2,
   "id": "8e35c839",
   "metadata": {
    "execution": {
     "iopub.execute_input": "2025-06-01T11:26:55.932644Z",
     "iopub.status.busy": "2025-06-01T11:26:55.932190Z",
     "iopub.status.idle": "2025-06-01T11:26:56.026356Z",
     "shell.execute_reply": "2025-06-01T11:26:56.025564Z"
    },
    "papermill": {
     "duration": 0.10075,
     "end_time": "2025-06-01T11:26:56.028111",
     "exception": false,
     "start_time": "2025-06-01T11:26:55.927361",
     "status": "completed"
    },
    "tags": []
   },
   "outputs": [],
   "source": [
    "train = pd.read_csv('/kaggle/input/prediction-of-e-commerce-users/train_df.csv', parse_dates=['datetime'])\n",
    "test = pd.read_csv('/kaggle/input/prediction-of-e-commerce-users/test_df.csv', parse_dates=['datetime'])"
   ]
  },
  {
   "cell_type": "code",
   "execution_count": 3,
   "id": "99c88c2a",
   "metadata": {
    "execution": {
     "iopub.execute_input": "2025-06-01T11:26:56.037400Z",
     "iopub.status.busy": "2025-06-01T11:26:56.037109Z",
     "iopub.status.idle": "2025-06-01T11:26:56.043465Z",
     "shell.execute_reply": "2025-06-01T11:26:56.042636Z"
    },
    "papermill": {
     "duration": 0.01259,
     "end_time": "2025-06-01T11:26:56.044873",
     "exception": false,
     "start_time": "2025-06-01T11:26:56.032283",
     "status": "completed"
    },
    "tags": []
   },
   "outputs": [
    {
     "data": {
      "text/plain": [
       "(23376, 5)"
      ]
     },
     "execution_count": 3,
     "metadata": {},
     "output_type": "execute_result"
    }
   ],
   "source": [
    "train.shape"
   ]
  },
  {
   "cell_type": "code",
   "execution_count": 4,
   "id": "30122895",
   "metadata": {
    "execution": {
     "iopub.execute_input": "2025-06-01T11:26:56.054103Z",
     "iopub.status.busy": "2025-06-01T11:26:56.053796Z",
     "iopub.status.idle": "2025-06-01T11:26:56.059227Z",
     "shell.execute_reply": "2025-06-01T11:26:56.058361Z"
    },
    "papermill": {
     "duration": 0.011725,
     "end_time": "2025-06-01T11:26:56.060648",
     "exception": false,
     "start_time": "2025-06-01T11:26:56.048923",
     "status": "completed"
    },
    "tags": []
   },
   "outputs": [
    {
     "data": {
      "text/plain": [
       "(2928, 4)"
      ]
     },
     "execution_count": 4,
     "metadata": {},
     "output_type": "execute_result"
    }
   ],
   "source": [
    "test.shape"
   ]
  },
  {
   "cell_type": "code",
   "execution_count": 5,
   "id": "fa727cf7",
   "metadata": {
    "execution": {
     "iopub.execute_input": "2025-06-01T11:26:56.069586Z",
     "iopub.status.busy": "2025-06-01T11:26:56.069264Z",
     "iopub.status.idle": "2025-06-01T11:26:56.105940Z",
     "shell.execute_reply": "2025-06-01T11:26:56.104760Z"
    },
    "papermill": {
     "duration": 0.043418,
     "end_time": "2025-06-01T11:26:56.108049",
     "exception": false,
     "start_time": "2025-06-01T11:26:56.064631",
     "status": "completed"
    },
    "tags": []
   },
   "outputs": [
    {
     "data": {
      "text/html": [
       "<div>\n",
       "<style scoped>\n",
       "    .dataframe tbody tr th:only-of-type {\n",
       "        vertical-align: middle;\n",
       "    }\n",
       "\n",
       "    .dataframe tbody tr th {\n",
       "        vertical-align: top;\n",
       "    }\n",
       "\n",
       "    .dataframe thead th {\n",
       "        text-align: right;\n",
       "    }\n",
       "</style>\n",
       "<table border=\"1\" class=\"dataframe\">\n",
       "  <thead>\n",
       "    <tr style=\"text-align: right;\">\n",
       "      <th></th>\n",
       "      <th>datetime</th>\n",
       "      <th>e_users</th>\n",
       "      <th>promotion_1</th>\n",
       "      <th>promotion_2</th>\n",
       "      <th>promotion_3</th>\n",
       "    </tr>\n",
       "  </thead>\n",
       "  <tbody>\n",
       "    <tr>\n",
       "      <th>18822</th>\n",
       "      <td>2024-02-24 06:00:00</td>\n",
       "      <td>54888</td>\n",
       "      <td>11.70</td>\n",
       "      <td>91.69</td>\n",
       "      <td>86.58</td>\n",
       "    </tr>\n",
       "    <tr>\n",
       "      <th>3523</th>\n",
       "      <td>2022-05-27 19:00:00</td>\n",
       "      <td>41214</td>\n",
       "      <td>19.85</td>\n",
       "      <td>83.24</td>\n",
       "      <td>75.13</td>\n",
       "    </tr>\n",
       "    <tr>\n",
       "      <th>18029</th>\n",
       "      <td>2024-01-22 05:00:00</td>\n",
       "      <td>66994</td>\n",
       "      <td>7.51</td>\n",
       "      <td>78.05</td>\n",
       "      <td>83.15</td>\n",
       "    </tr>\n",
       "    <tr>\n",
       "      <th>3558</th>\n",
       "      <td>2022-05-29 06:00:00</td>\n",
       "      <td>39884</td>\n",
       "      <td>16.74</td>\n",
       "      <td>92.08</td>\n",
       "      <td>90.06</td>\n",
       "    </tr>\n",
       "    <tr>\n",
       "      <th>21200</th>\n",
       "      <td>2024-06-02 08:00:00</td>\n",
       "      <td>42979</td>\n",
       "      <td>20.75</td>\n",
       "      <td>74.03</td>\n",
       "      <td>67.03</td>\n",
       "    </tr>\n",
       "    <tr>\n",
       "      <th>20871</th>\n",
       "      <td>2024-05-19 15:00:00</td>\n",
       "      <td>45855</td>\n",
       "      <td>22.32</td>\n",
       "      <td>74.93</td>\n",
       "      <td>50.44</td>\n",
       "    </tr>\n",
       "    <tr>\n",
       "      <th>20015</th>\n",
       "      <td>2024-04-13 23:00:00</td>\n",
       "      <td>44128</td>\n",
       "      <td>12.84</td>\n",
       "      <td>92.28</td>\n",
       "      <td>73.92</td>\n",
       "    </tr>\n",
       "    <tr>\n",
       "      <th>79</th>\n",
       "      <td>2022-01-04 07:00:00</td>\n",
       "      <td>61658</td>\n",
       "      <td>14.33</td>\n",
       "      <td>96.19</td>\n",
       "      <td>84.29</td>\n",
       "    </tr>\n",
       "  </tbody>\n",
       "</table>\n",
       "</div>"
      ],
      "text/plain": [
       "                 datetime  e_users  promotion_1  promotion_2  promotion_3\n",
       "18822 2024-02-24 06:00:00    54888        11.70        91.69        86.58\n",
       "3523  2022-05-27 19:00:00    41214        19.85        83.24        75.13\n",
       "18029 2024-01-22 05:00:00    66994         7.51        78.05        83.15\n",
       "3558  2022-05-29 06:00:00    39884        16.74        92.08        90.06\n",
       "21200 2024-06-02 08:00:00    42979        20.75        74.03        67.03\n",
       "20871 2024-05-19 15:00:00    45855        22.32        74.93        50.44\n",
       "20015 2024-04-13 23:00:00    44128        12.84        92.28        73.92\n",
       "79    2022-01-04 07:00:00    61658        14.33        96.19        84.29"
      ]
     },
     "execution_count": 5,
     "metadata": {},
     "output_type": "execute_result"
    }
   ],
   "source": [
    "train.sample(8)"
   ]
  },
  {
   "cell_type": "code",
   "execution_count": 6,
   "id": "0dd5ece2",
   "metadata": {
    "execution": {
     "iopub.execute_input": "2025-06-01T11:26:56.118230Z",
     "iopub.status.busy": "2025-06-01T11:26:56.117845Z",
     "iopub.status.idle": "2025-06-01T11:26:56.129896Z",
     "shell.execute_reply": "2025-06-01T11:26:56.128924Z"
    },
    "papermill": {
     "duration": 0.018863,
     "end_time": "2025-06-01T11:26:56.131423",
     "exception": false,
     "start_time": "2025-06-01T11:26:56.112560",
     "status": "completed"
    },
    "tags": []
   },
   "outputs": [
    {
     "data": {
      "text/plain": [
       "datetime       0\n",
       "e_users        0\n",
       "promotion_1    0\n",
       "promotion_2    0\n",
       "promotion_3    0\n",
       "dtype: int64"
      ]
     },
     "execution_count": 6,
     "metadata": {},
     "output_type": "execute_result"
    }
   ],
   "source": [
    "train.isnull().sum()"
   ]
  },
  {
   "cell_type": "code",
   "execution_count": 7,
   "id": "f27ef489",
   "metadata": {
    "execution": {
     "iopub.execute_input": "2025-06-01T11:26:56.146869Z",
     "iopub.status.busy": "2025-06-01T11:26:56.145498Z",
     "iopub.status.idle": "2025-06-01T11:26:56.156550Z",
     "shell.execute_reply": "2025-06-01T11:26:56.155267Z"
    },
    "papermill": {
     "duration": 0.020293,
     "end_time": "2025-06-01T11:26:56.158719",
     "exception": false,
     "start_time": "2025-06-01T11:26:56.138426",
     "status": "completed"
    },
    "tags": []
   },
   "outputs": [
    {
     "data": {
      "text/plain": [
       "datetime       0\n",
       "promotion_1    0\n",
       "promotion_2    0\n",
       "promotion_3    0\n",
       "dtype: int64"
      ]
     },
     "execution_count": 7,
     "metadata": {},
     "output_type": "execute_result"
    }
   ],
   "source": [
    "test.isnull().sum()"
   ]
  },
  {
   "cell_type": "code",
   "execution_count": 8,
   "id": "7aec0d4e",
   "metadata": {
    "execution": {
     "iopub.execute_input": "2025-06-01T11:26:56.175950Z",
     "iopub.status.busy": "2025-06-01T11:26:56.175339Z",
     "iopub.status.idle": "2025-06-01T11:26:56.221707Z",
     "shell.execute_reply": "2025-06-01T11:26:56.220620Z"
    },
    "papermill": {
     "duration": 0.05709,
     "end_time": "2025-06-01T11:26:56.223409",
     "exception": false,
     "start_time": "2025-06-01T11:26:56.166319",
     "status": "completed"
    },
    "tags": []
   },
   "outputs": [
    {
     "data": {
      "text/html": [
       "<div>\n",
       "<style scoped>\n",
       "    .dataframe tbody tr th:only-of-type {\n",
       "        vertical-align: middle;\n",
       "    }\n",
       "\n",
       "    .dataframe tbody tr th {\n",
       "        vertical-align: top;\n",
       "    }\n",
       "\n",
       "    .dataframe thead th {\n",
       "        text-align: right;\n",
       "    }\n",
       "</style>\n",
       "<table border=\"1\" class=\"dataframe\">\n",
       "  <thead>\n",
       "    <tr style=\"text-align: right;\">\n",
       "      <th></th>\n",
       "      <th>datetime</th>\n",
       "      <th>e_users</th>\n",
       "      <th>promotion_1</th>\n",
       "      <th>promotion_2</th>\n",
       "      <th>promotion_3</th>\n",
       "    </tr>\n",
       "  </thead>\n",
       "  <tbody>\n",
       "    <tr>\n",
       "      <th>count</th>\n",
       "      <td>23376</td>\n",
       "      <td>23376.000000</td>\n",
       "      <td>23376.000000</td>\n",
       "      <td>23376.000000</td>\n",
       "      <td>23376.000000</td>\n",
       "    </tr>\n",
       "    <tr>\n",
       "      <th>mean</th>\n",
       "      <td>2023-05-02 23:29:59.999999744</td>\n",
       "      <td>52846.660207</td>\n",
       "      <td>15.598461</td>\n",
       "      <td>81.392785</td>\n",
       "      <td>74.453931</td>\n",
       "    </tr>\n",
       "    <tr>\n",
       "      <th>min</th>\n",
       "      <td>2022-01-01 00:00:00</td>\n",
       "      <td>29365.000000</td>\n",
       "      <td>1.050000</td>\n",
       "      <td>15.930000</td>\n",
       "      <td>41.600000</td>\n",
       "    </tr>\n",
       "    <tr>\n",
       "      <th>25%</th>\n",
       "      <td>2022-09-01 11:45:00</td>\n",
       "      <td>43573.750000</td>\n",
       "      <td>11.890000</td>\n",
       "      <td>75.200000</td>\n",
       "      <td>67.880000</td>\n",
       "    </tr>\n",
       "    <tr>\n",
       "      <th>50%</th>\n",
       "      <td>2023-05-02 23:30:00</td>\n",
       "      <td>51071.500000</td>\n",
       "      <td>15.130000</td>\n",
       "      <td>86.310000</td>\n",
       "      <td>76.715000</td>\n",
       "    </tr>\n",
       "    <tr>\n",
       "      <th>75%</th>\n",
       "      <td>2024-01-01 11:15:00</td>\n",
       "      <td>61238.250000</td>\n",
       "      <td>18.972500</td>\n",
       "      <td>91.640000</td>\n",
       "      <td>82.360000</td>\n",
       "    </tr>\n",
       "    <tr>\n",
       "      <th>max</th>\n",
       "      <td>2024-08-31 23:00:00</td>\n",
       "      <td>96130.000000</td>\n",
       "      <td>31.480000</td>\n",
       "      <td>100.050000</td>\n",
       "      <td>92.480000</td>\n",
       "    </tr>\n",
       "    <tr>\n",
       "      <th>std</th>\n",
       "      <td>NaN</td>\n",
       "      <td>11911.319411</td>\n",
       "      <td>4.827803</td>\n",
       "      <td>14.246880</td>\n",
       "      <td>9.991424</td>\n",
       "    </tr>\n",
       "  </tbody>\n",
       "</table>\n",
       "</div>"
      ],
      "text/plain": [
       "                            datetime       e_users   promotion_1  \\\n",
       "count                          23376  23376.000000  23376.000000   \n",
       "mean   2023-05-02 23:29:59.999999744  52846.660207     15.598461   \n",
       "min              2022-01-01 00:00:00  29365.000000      1.050000   \n",
       "25%              2022-09-01 11:45:00  43573.750000     11.890000   \n",
       "50%              2023-05-02 23:30:00  51071.500000     15.130000   \n",
       "75%              2024-01-01 11:15:00  61238.250000     18.972500   \n",
       "max              2024-08-31 23:00:00  96130.000000     31.480000   \n",
       "std                              NaN  11911.319411      4.827803   \n",
       "\n",
       "        promotion_2   promotion_3  \n",
       "count  23376.000000  23376.000000  \n",
       "mean      81.392785     74.453931  \n",
       "min       15.930000     41.600000  \n",
       "25%       75.200000     67.880000  \n",
       "50%       86.310000     76.715000  \n",
       "75%       91.640000     82.360000  \n",
       "max      100.050000     92.480000  \n",
       "std       14.246880      9.991424  "
      ]
     },
     "execution_count": 8,
     "metadata": {},
     "output_type": "execute_result"
    }
   ],
   "source": [
    "train.describe()"
   ]
  },
  {
   "cell_type": "code",
   "execution_count": 9,
   "id": "f366f645",
   "metadata": {
    "execution": {
     "iopub.execute_input": "2025-06-01T11:26:56.238009Z",
     "iopub.status.busy": "2025-06-01T11:26:56.236727Z",
     "iopub.status.idle": "2025-06-01T11:26:56.258261Z",
     "shell.execute_reply": "2025-06-01T11:26:56.257311Z"
    },
    "papermill": {
     "duration": 0.028842,
     "end_time": "2025-06-01T11:26:56.259854",
     "exception": false,
     "start_time": "2025-06-01T11:26:56.231012",
     "status": "completed"
    },
    "tags": []
   },
   "outputs": [
    {
     "name": "stdout",
     "output_type": "stream",
     "text": [
      "<class 'pandas.core.frame.DataFrame'>\n",
      "RangeIndex: 23376 entries, 0 to 23375\n",
      "Data columns (total 5 columns):\n",
      " #   Column       Non-Null Count  Dtype         \n",
      "---  ------       --------------  -----         \n",
      " 0   datetime     23376 non-null  datetime64[ns]\n",
      " 1   e_users      23376 non-null  int64         \n",
      " 2   promotion_1  23376 non-null  float64       \n",
      " 3   promotion_2  23376 non-null  float64       \n",
      " 4   promotion_3  23376 non-null  float64       \n",
      "dtypes: datetime64[ns](1), float64(3), int64(1)\n",
      "memory usage: 913.3 KB\n"
     ]
    }
   ],
   "source": [
    "train.info()"
   ]
  },
  {
   "cell_type": "code",
   "execution_count": 10,
   "id": "8ed02053",
   "metadata": {
    "execution": {
     "iopub.execute_input": "2025-06-01T11:26:56.270516Z",
     "iopub.status.busy": "2025-06-01T11:26:56.269925Z",
     "iopub.status.idle": "2025-06-01T11:26:56.275669Z",
     "shell.execute_reply": "2025-06-01T11:26:56.274951Z"
    },
    "papermill": {
     "duration": 0.012565,
     "end_time": "2025-06-01T11:26:56.276980",
     "exception": false,
     "start_time": "2025-06-01T11:26:56.264415",
     "status": "completed"
    },
    "tags": []
   },
   "outputs": [],
   "source": [
    "features = ['promotion_1', 'promotion_2', 'promotion_3']"
   ]
  },
  {
   "cell_type": "code",
   "execution_count": 11,
   "id": "7b07e119",
   "metadata": {
    "execution": {
     "iopub.execute_input": "2025-06-01T11:26:56.287459Z",
     "iopub.status.busy": "2025-06-01T11:26:56.287169Z",
     "iopub.status.idle": "2025-06-01T11:26:56.299139Z",
     "shell.execute_reply": "2025-06-01T11:26:56.298215Z"
    },
    "papermill": {
     "duration": 0.018982,
     "end_time": "2025-06-01T11:26:56.300643",
     "exception": false,
     "start_time": "2025-06-01T11:26:56.281661",
     "status": "completed"
    },
    "tags": []
   },
   "outputs": [],
   "source": [
    "def fe(df):\n",
    "    \n",
    "    df['day_of_year'] = df['datetime'].dt.dayofyear\n",
    "    df['year_sin'] = np.sin(2 * np.pi * df['day_of_year'] / 365)\n",
    "    df['year_cos'] = np.cos(2 * np.pi * df['day_of_year'] / 365)\n",
    "    \n",
    "    df['month'] = df['datetime'].dt.month\n",
    "    df['month_sin'] = np.sin(2 * np.pi * df['month'] / 12)\n",
    "    df['month_cos'] = np.cos(2 * np.pi * df['month'] / 12)\n",
    "    \n",
    "    df['hour'] = df['datetime'].dt.hour\n",
    "    df['hour_sin'] = np.sin(2 * np.pi * df['hour'] / 24)\n",
    "    df['hour_cos'] = np.cos(2 * np.pi * df['hour'] / 24)\n",
    "\n",
    "    df['week'] = df['datetime'].dt.isocalendar().week\n",
    "    df['sin_week'] = np.sin(2 * np.pi * df['week'] / 52).astype(float)\n",
    "    df['cos_week'] = np.cos(2 * np.pi * df['week'] / 52).astype(float)\n",
    "\n",
    "    df['dayofweek'] = df['datetime'].dt.dayofweek\n",
    "    df['sin_dayofweek'] = np.sin(2 * np.pi * df['dayofweek'] / 7)\n",
    "    df['cos_dayofweek'] = np.cos(2 * np.pi * df['dayofweek'] / 7)  \n",
    "\n",
    "    for lag in [1, 7, 10, 14, 24]:  \n",
    "        for col in ['promotion_1', 'promotion_2', 'promotion_3']:\n",
    "            df[f'{col}_lag_{lag}'] = df[col].shift(lag).fillna(0.0)\n",
    "    \n",
    "\n",
    "    df['day'] = df['datetime'].dt.day\n",
    "    df['year'] = df['datetime'].dt.year\n",
    "\n",
    "    df['on_season'] = np.where(df['datetime'].dt.month.isin([11, 12, 1, 2, 3, 4]), 1, 0)\n",
    "\n",
    "    df['is_off_week'] = np.where(df['datetime'].dt.dayofweek.isin([2,3,4]), 1, 0)\n",
    "\n",
    "    for period in [6, 12, 24, 48, 72]:\n",
    "        for col in features:\n",
    "            df[f'{col}_mean_{period}'] = df[col].rolling(period).mean()\n",
    "            df[f'{col}_std_{period}'] = df[col].rolling(period).std()\n",
    "            df[f'{col}_max_{period}'] = df[col].rolling(period).max()\n",
    "            df[f'{col}_min_{period}'] = df[col].rolling(period).min()\n",
    "            df[f'{col}_median_{period}'] = df[col].rolling(period).median()\n",
    "    \n",
    "    df.drop(['datetime'], axis=1, inplace=True)\n",
    "\n",
    "    return df"
   ]
  },
  {
   "cell_type": "code",
   "execution_count": 12,
   "id": "178b9e21",
   "metadata": {
    "execution": {
     "iopub.execute_input": "2025-06-01T11:26:56.311155Z",
     "iopub.status.busy": "2025-06-01T11:26:56.310890Z",
     "iopub.status.idle": "2025-06-01T11:26:56.316583Z",
     "shell.execute_reply": "2025-06-01T11:26:56.315566Z"
    },
    "papermill": {
     "duration": 0.012432,
     "end_time": "2025-06-01T11:26:56.317940",
     "exception": false,
     "start_time": "2025-06-01T11:26:56.305508",
     "status": "completed"
    },
    "tags": []
   },
   "outputs": [
    {
     "data": {
      "text/plain": [
       "Index(['datetime', 'e_users', 'promotion_1', 'promotion_2', 'promotion_3'], dtype='object')"
      ]
     },
     "execution_count": 12,
     "metadata": {},
     "output_type": "execute_result"
    }
   ],
   "source": [
    "train.columns"
   ]
  },
  {
   "cell_type": "code",
   "execution_count": 13,
   "id": "dca6fd91",
   "metadata": {
    "execution": {
     "iopub.execute_input": "2025-06-01T11:26:56.328188Z",
     "iopub.status.busy": "2025-06-01T11:26:56.327911Z",
     "iopub.status.idle": "2025-06-01T11:26:56.333234Z",
     "shell.execute_reply": "2025-06-01T11:26:56.332410Z"
    },
    "papermill": {
     "duration": 0.012259,
     "end_time": "2025-06-01T11:26:56.334802",
     "exception": false,
     "start_time": "2025-06-01T11:26:56.322543",
     "status": "completed"
    },
    "tags": []
   },
   "outputs": [],
   "source": [
    "def add_interact(df):\n",
    "    for i, c1 in enumerate(features):\n",
    "        for c2 in (features[i+1:]):\n",
    "            m = f'{c1}*{c2}'\n",
    "            df[m] = df[c1] * df[c2]\n",
    "            a = f'{c1}+{c2}'\n",
    "            df[a] = df[c1] + df[c2]\n",
    "            d = f'{c1}/{c2}'\n",
    "            df[d] = df[c1] / (df[c2] + 1e-5)\n",
    "    return df"
   ]
  },
  {
   "cell_type": "code",
   "execution_count": 14,
   "id": "3bb9c0ed",
   "metadata": {
    "execution": {
     "iopub.execute_input": "2025-06-01T11:26:56.345399Z",
     "iopub.status.busy": "2025-06-01T11:26:56.345096Z",
     "iopub.status.idle": "2025-06-01T11:26:56.784012Z",
     "shell.execute_reply": "2025-06-01T11:26:56.783144Z"
    },
    "papermill": {
     "duration": 0.446063,
     "end_time": "2025-06-01T11:26:56.785648",
     "exception": false,
     "start_time": "2025-06-01T11:26:56.339585",
     "status": "completed"
    },
    "tags": []
   },
   "outputs": [],
   "source": [
    "X = train.copy()\n",
    "y = X.pop('e_users')\n",
    "X = fe(X)\n",
    "X = add_interact(X)\n",
    "\n",
    "X_test = test.copy()\n",
    "X_test = fe(X_test)\n",
    "X_test = add_interact(X_test)\n",
    "\n",
    "oof_preds = {}\n",
    "test_preds = {}"
   ]
  },
  {
   "cell_type": "code",
   "execution_count": 15,
   "id": "5f953e16",
   "metadata": {
    "execution": {
     "iopub.execute_input": "2025-06-01T11:26:56.797019Z",
     "iopub.status.busy": "2025-06-01T11:26:56.796722Z",
     "iopub.status.idle": "2025-06-01T11:26:56.809029Z",
     "shell.execute_reply": "2025-06-01T11:26:56.808056Z"
    },
    "papermill": {
     "duration": 0.019903,
     "end_time": "2025-06-01T11:26:56.810299",
     "exception": false,
     "start_time": "2025-06-01T11:26:56.790396",
     "status": "completed"
    },
    "tags": []
   },
   "outputs": [
    {
     "name": "stdout",
     "output_type": "stream",
     "text": [
      "<class 'pandas.core.frame.DataFrame'>\n",
      "RangeIndex: 23376 entries, 0 to 23375\n",
      "Columns: 121 entries, promotion_1 to promotion_2/promotion_3\n",
      "dtypes: UInt32(1), float64(112), int32(6), int64(2)\n",
      "memory usage: 21.0 MB\n"
     ]
    }
   ],
   "source": [
    "X.info()"
   ]
  },
  {
   "cell_type": "code",
   "execution_count": 16,
   "id": "b209504a",
   "metadata": {
    "execution": {
     "iopub.execute_input": "2025-06-01T11:26:56.820789Z",
     "iopub.status.busy": "2025-06-01T11:26:56.820443Z",
     "iopub.status.idle": "2025-06-01T11:26:56.845758Z",
     "shell.execute_reply": "2025-06-01T11:26:56.844553Z"
    },
    "papermill": {
     "duration": 0.032488,
     "end_time": "2025-06-01T11:26:56.847476",
     "exception": false,
     "start_time": "2025-06-01T11:26:56.814988",
     "status": "completed"
    },
    "tags": []
   },
   "outputs": [
    {
     "name": "stderr",
     "output_type": "stream",
     "text": [
      "/usr/local/lib/python3.11/dist-packages/pandas/io/formats/format.py:1458: RuntimeWarning: invalid value encountered in greater\n",
      "  has_large_values = (abs_vals > 1e6).any()\n",
      "/usr/local/lib/python3.11/dist-packages/pandas/io/formats/format.py:1459: RuntimeWarning: invalid value encountered in less\n",
      "  has_small_values = ((abs_vals < 10 ** (-self.digits)) & (abs_vals > 0)).any()\n",
      "/usr/local/lib/python3.11/dist-packages/pandas/io/formats/format.py:1459: RuntimeWarning: invalid value encountered in greater\n",
      "  has_small_values = ((abs_vals < 10 ** (-self.digits)) & (abs_vals > 0)).any()\n",
      "/usr/local/lib/python3.11/dist-packages/pandas/io/formats/format.py:1458: RuntimeWarning: invalid value encountered in greater\n",
      "  has_large_values = (abs_vals > 1e6).any()\n",
      "/usr/local/lib/python3.11/dist-packages/pandas/io/formats/format.py:1459: RuntimeWarning: invalid value encountered in less\n",
      "  has_small_values = ((abs_vals < 10 ** (-self.digits)) & (abs_vals > 0)).any()\n",
      "/usr/local/lib/python3.11/dist-packages/pandas/io/formats/format.py:1459: RuntimeWarning: invalid value encountered in greater\n",
      "  has_small_values = ((abs_vals < 10 ** (-self.digits)) & (abs_vals > 0)).any()\n"
     ]
    },
    {
     "data": {
      "text/html": [
       "<div>\n",
       "<style scoped>\n",
       "    .dataframe tbody tr th:only-of-type {\n",
       "        vertical-align: middle;\n",
       "    }\n",
       "\n",
       "    .dataframe tbody tr th {\n",
       "        vertical-align: top;\n",
       "    }\n",
       "\n",
       "    .dataframe thead th {\n",
       "        text-align: right;\n",
       "    }\n",
       "</style>\n",
       "<table border=\"1\" class=\"dataframe\">\n",
       "  <thead>\n",
       "    <tr style=\"text-align: right;\">\n",
       "      <th></th>\n",
       "      <th>promotion_1</th>\n",
       "      <th>promotion_2</th>\n",
       "      <th>promotion_3</th>\n",
       "      <th>day_of_year</th>\n",
       "      <th>year_sin</th>\n",
       "      <th>year_cos</th>\n",
       "      <th>month</th>\n",
       "      <th>month_sin</th>\n",
       "      <th>month_cos</th>\n",
       "      <th>hour</th>\n",
       "      <th>...</th>\n",
       "      <th>promotion_3_median_72</th>\n",
       "      <th>promotion_1*promotion_2</th>\n",
       "      <th>promotion_1+promotion_2</th>\n",
       "      <th>promotion_1/promotion_2</th>\n",
       "      <th>promotion_1*promotion_3</th>\n",
       "      <th>promotion_1+promotion_3</th>\n",
       "      <th>promotion_1/promotion_3</th>\n",
       "      <th>promotion_2*promotion_3</th>\n",
       "      <th>promotion_2+promotion_3</th>\n",
       "      <th>promotion_2/promotion_3</th>\n",
       "    </tr>\n",
       "  </thead>\n",
       "  <tbody>\n",
       "    <tr>\n",
       "      <th>0</th>\n",
       "      <td>11.67</td>\n",
       "      <td>95.28</td>\n",
       "      <td>80.76</td>\n",
       "      <td>1</td>\n",
       "      <td>0.017213</td>\n",
       "      <td>0.999852</td>\n",
       "      <td>1</td>\n",
       "      <td>0.5</td>\n",
       "      <td>0.866025</td>\n",
       "      <td>0</td>\n",
       "      <td>...</td>\n",
       "      <td>NaN</td>\n",
       "      <td>1111.9176</td>\n",
       "      <td>106.95</td>\n",
       "      <td>0.122481</td>\n",
       "      <td>942.4692</td>\n",
       "      <td>92.43</td>\n",
       "      <td>0.144502</td>\n",
       "      <td>7694.8128</td>\n",
       "      <td>176.04</td>\n",
       "      <td>1.179792</td>\n",
       "    </tr>\n",
       "    <tr>\n",
       "      <th>1</th>\n",
       "      <td>11.33</td>\n",
       "      <td>93.25</td>\n",
       "      <td>80.81</td>\n",
       "      <td>1</td>\n",
       "      <td>0.017213</td>\n",
       "      <td>0.999852</td>\n",
       "      <td>1</td>\n",
       "      <td>0.5</td>\n",
       "      <td>0.866025</td>\n",
       "      <td>1</td>\n",
       "      <td>...</td>\n",
       "      <td>NaN</td>\n",
       "      <td>1056.5225</td>\n",
       "      <td>104.58</td>\n",
       "      <td>0.121501</td>\n",
       "      <td>915.5773</td>\n",
       "      <td>92.14</td>\n",
       "      <td>0.140205</td>\n",
       "      <td>7535.5325</td>\n",
       "      <td>174.06</td>\n",
       "      <td>1.153941</td>\n",
       "    </tr>\n",
       "    <tr>\n",
       "      <th>2</th>\n",
       "      <td>11.01</td>\n",
       "      <td>91.23</td>\n",
       "      <td>80.85</td>\n",
       "      <td>1</td>\n",
       "      <td>0.017213</td>\n",
       "      <td>0.999852</td>\n",
       "      <td>1</td>\n",
       "      <td>0.5</td>\n",
       "      <td>0.866025</td>\n",
       "      <td>2</td>\n",
       "      <td>...</td>\n",
       "      <td>NaN</td>\n",
       "      <td>1004.4423</td>\n",
       "      <td>102.24</td>\n",
       "      <td>0.120684</td>\n",
       "      <td>890.1585</td>\n",
       "      <td>91.86</td>\n",
       "      <td>0.136178</td>\n",
       "      <td>7375.9455</td>\n",
       "      <td>172.08</td>\n",
       "      <td>1.128386</td>\n",
       "    </tr>\n",
       "    <tr>\n",
       "      <th>3</th>\n",
       "      <td>10.82</td>\n",
       "      <td>89.40</td>\n",
       "      <td>80.89</td>\n",
       "      <td>1</td>\n",
       "      <td>0.017213</td>\n",
       "      <td>0.999852</td>\n",
       "      <td>1</td>\n",
       "      <td>0.5</td>\n",
       "      <td>0.866025</td>\n",
       "      <td>3</td>\n",
       "      <td>...</td>\n",
       "      <td>NaN</td>\n",
       "      <td>967.3080</td>\n",
       "      <td>100.22</td>\n",
       "      <td>0.121029</td>\n",
       "      <td>875.2298</td>\n",
       "      <td>91.71</td>\n",
       "      <td>0.133762</td>\n",
       "      <td>7231.5660</td>\n",
       "      <td>170.29</td>\n",
       "      <td>1.105204</td>\n",
       "    </tr>\n",
       "    <tr>\n",
       "      <th>4</th>\n",
       "      <td>10.80</td>\n",
       "      <td>88.14</td>\n",
       "      <td>80.94</td>\n",
       "      <td>1</td>\n",
       "      <td>0.017213</td>\n",
       "      <td>0.999852</td>\n",
       "      <td>1</td>\n",
       "      <td>0.5</td>\n",
       "      <td>0.866025</td>\n",
       "      <td>4</td>\n",
       "      <td>...</td>\n",
       "      <td>NaN</td>\n",
       "      <td>951.9120</td>\n",
       "      <td>98.94</td>\n",
       "      <td>0.122532</td>\n",
       "      <td>874.1520</td>\n",
       "      <td>91.74</td>\n",
       "      <td>0.133432</td>\n",
       "      <td>7134.0516</td>\n",
       "      <td>169.08</td>\n",
       "      <td>1.088955</td>\n",
       "    </tr>\n",
       "  </tbody>\n",
       "</table>\n",
       "<p>5 rows × 121 columns</p>\n",
       "</div>"
      ],
      "text/plain": [
       "   promotion_1  promotion_2  promotion_3  day_of_year  year_sin  year_cos  \\\n",
       "0        11.67        95.28        80.76            1  0.017213  0.999852   \n",
       "1        11.33        93.25        80.81            1  0.017213  0.999852   \n",
       "2        11.01        91.23        80.85            1  0.017213  0.999852   \n",
       "3        10.82        89.40        80.89            1  0.017213  0.999852   \n",
       "4        10.80        88.14        80.94            1  0.017213  0.999852   \n",
       "\n",
       "   month  month_sin  month_cos  hour  ...  promotion_3_median_72  \\\n",
       "0      1        0.5   0.866025     0  ...                    NaN   \n",
       "1      1        0.5   0.866025     1  ...                    NaN   \n",
       "2      1        0.5   0.866025     2  ...                    NaN   \n",
       "3      1        0.5   0.866025     3  ...                    NaN   \n",
       "4      1        0.5   0.866025     4  ...                    NaN   \n",
       "\n",
       "   promotion_1*promotion_2  promotion_1+promotion_2  promotion_1/promotion_2  \\\n",
       "0                1111.9176                   106.95                 0.122481   \n",
       "1                1056.5225                   104.58                 0.121501   \n",
       "2                1004.4423                   102.24                 0.120684   \n",
       "3                 967.3080                   100.22                 0.121029   \n",
       "4                 951.9120                    98.94                 0.122532   \n",
       "\n",
       "   promotion_1*promotion_3  promotion_1+promotion_3  promotion_1/promotion_3  \\\n",
       "0                 942.4692                    92.43                 0.144502   \n",
       "1                 915.5773                    92.14                 0.140205   \n",
       "2                 890.1585                    91.86                 0.136178   \n",
       "3                 875.2298                    91.71                 0.133762   \n",
       "4                 874.1520                    91.74                 0.133432   \n",
       "\n",
       "   promotion_2*promotion_3  promotion_2+promotion_3  promotion_2/promotion_3  \n",
       "0                7694.8128                   176.04                 1.179792  \n",
       "1                7535.5325                   174.06                 1.153941  \n",
       "2                7375.9455                   172.08                 1.128386  \n",
       "3                7231.5660                   170.29                 1.105204  \n",
       "4                7134.0516                   169.08                 1.088955  \n",
       "\n",
       "[5 rows x 121 columns]"
      ]
     },
     "execution_count": 16,
     "metadata": {},
     "output_type": "execute_result"
    }
   ],
   "source": [
    "X.head()"
   ]
  },
  {
   "cell_type": "code",
   "execution_count": 17,
   "id": "d3330c8e",
   "metadata": {
    "execution": {
     "iopub.execute_input": "2025-06-01T11:26:56.859453Z",
     "iopub.status.busy": "2025-06-01T11:26:56.858827Z",
     "iopub.status.idle": "2025-06-01T12:04:18.852281Z",
     "shell.execute_reply": "2025-06-01T12:04:18.851538Z"
    },
    "papermill": {
     "duration": 2242.006533,
     "end_time": "2025-06-01T12:04:18.859242",
     "exception": false,
     "start_time": "2025-06-01T11:26:56.852709",
     "status": "completed"
    },
    "tags": []
   },
   "outputs": [
    {
     "name": "stderr",
     "output_type": "stream",
     "text": [
      "[I 2025-06-01 11:27:03,734] A new study created in memory with name: LGBM-RMSE-Optimization\n",
      "[I 2025-06-01 11:29:47,686] Trial 0 finished with value: 3077.744978533651 and parameters: {'n_estimators': 9371, 'min_child_samples': 9, 'num_leaves': 32, 'learning_rate': 0.008540184005285069, 'min_split_gain': 0.28828392618322773, 'max_depth': 9, 'reg_alpha': 8.21052332120606, 'reg_lambda': 2.414847737842317, 'colsample_bytree': 0.5803833580558936, 'min_child_weight': 0.744541391700195, 'boosting_type': 'gbdt'}. Best is trial 0 with value: 3077.744978533651.\n",
      "[I 2025-06-01 11:30:58,288] Trial 1 finished with value: 3359.753490239296 and parameters: {'n_estimators': 8458, 'min_child_samples': 9, 'num_leaves': 182, 'learning_rate': 0.04147741571817897, 'min_split_gain': 0.32018411235077604, 'max_depth': 8, 'reg_alpha': 5.863331324008509, 'reg_lambda': 3.2937071914663805, 'colsample_bytree': 0.7569571709296823, 'min_child_weight': 0.6791799223293601, 'boosting_type': 'gbdt'}. Best is trial 0 with value: 3077.744978533651.\n",
      "[I 2025-06-01 11:34:52,122] Trial 2 finished with value: 3255.2487728246724 and parameters: {'n_estimators': 2355, 'min_child_samples': 9, 'num_leaves': 103, 'learning_rate': 0.007419214282190358, 'min_split_gain': 5.018414090739081, 'max_depth': 9, 'reg_alpha': 8.973538490685316, 'reg_lambda': 6.788271463236853, 'colsample_bytree': 0.6604850823561947, 'min_child_weight': 0.9183956139190954, 'boosting_type': 'gbdt'}. Best is trial 0 with value: 3077.744978533651.\n",
      "[I 2025-06-01 11:35:55,172] Trial 3 finished with value: 3115.7545654179016 and parameters: {'n_estimators': 8917, 'min_child_samples': 10, 'num_leaves': 167, 'learning_rate': 0.011189195595274225, 'min_split_gain': 7.998179313769082, 'max_depth': 5, 'reg_alpha': 8.958264705070086, 'reg_lambda': 0.5778884006316906, 'colsample_bytree': 0.5821369720798333, 'min_child_weight': 0.6805055822650268, 'boosting_type': 'gbdt'}. Best is trial 0 with value: 3077.744978533651.\n",
      "[I 2025-06-01 11:36:53,320] Trial 4 finished with value: 3204.3642140482457 and parameters: {'n_estimators': 6509, 'min_child_samples': 9, 'num_leaves': 199, 'learning_rate': 0.009245121253895715, 'min_split_gain': 4.446912723402421, 'max_depth': 4, 'reg_alpha': 7.4215072349928235, 'reg_lambda': 8.509692972682203, 'colsample_bytree': 0.7495541732611872, 'min_child_weight': 0.7992375995364835, 'boosting_type': 'gbdt'}. Best is trial 0 with value: 3077.744978533651.\n",
      "[I 2025-06-01 11:37:23,853] Trial 5 finished with value: 3161.374206706897 and parameters: {'n_estimators': 6877, 'min_child_samples': 3, 'num_leaves': 65, 'learning_rate': 0.027505979978347268, 'min_split_gain': 5.894740200951731, 'max_depth': 5, 'reg_alpha': 6.357572841746045, 'reg_lambda': 8.503438106094768, 'colsample_bytree': 0.6962522026321789, 'min_child_weight': 0.9359776277728589, 'boosting_type': 'goss'}. Best is trial 0 with value: 3077.744978533651.\n",
      "[I 2025-06-01 11:42:25,722] Trial 6 finished with value: 3222.8139982659827 and parameters: {'n_estimators': 9132, 'min_child_samples': 8, 'num_leaves': 62, 'learning_rate': 0.004041493360874938, 'min_split_gain': 3.0050972418980475, 'max_depth': 13, 'reg_alpha': 6.747705748389494, 'reg_lambda': 4.533782745864259, 'colsample_bytree': 0.6933621058690634, 'min_child_weight': 0.6085784144808744, 'boosting_type': 'goss'}. Best is trial 0 with value: 3077.744978533651.\n",
      "[I 2025-06-01 11:43:11,017] Trial 7 finished with value: 3244.888791870023 and parameters: {'n_estimators': 3345, 'min_child_samples': 4, 'num_leaves': 131, 'learning_rate': 0.007220095127515275, 'min_split_gain': 4.94675101537321, 'max_depth': 3, 'reg_alpha': 4.47591160844864, 'reg_lambda': 0.24433515844226578, 'colsample_bytree': 0.7673387322701608, 'min_child_weight': 0.6729112579247876, 'boosting_type': 'gbdt'}. Best is trial 0 with value: 3077.744978533651.\n",
      "[I 2025-06-01 11:56:19,398] Trial 8 finished with value: 3275.824096585202 and parameters: {'n_estimators': 9054, 'min_child_samples': 4, 'num_leaves': 83, 'learning_rate': 0.002556992482886246, 'min_split_gain': 2.750165489463943, 'max_depth': 13, 'reg_alpha': 5.233364712818652, 'reg_lambda': 4.442322105808341, 'colsample_bytree': 0.8074215630053706, 'min_child_weight': 0.5685005214902785, 'boosting_type': 'gbdt'}. Best is trial 0 with value: 3077.744978533651.\n",
      "[I 2025-06-01 11:56:42,595] Trial 9 finished with value: 3413.325382058575 and parameters: {'n_estimators': 9853, 'min_child_samples': 4, 'num_leaves': 78, 'learning_rate': 0.11279158985777644, 'min_split_gain': 5.433708774903079, 'max_depth': 10, 'reg_alpha': 2.724986206733983, 'reg_lambda': 7.624619105648854, 'colsample_bytree': 0.6209044168033147, 'min_child_weight': 0.8029546230923673, 'boosting_type': 'goss'}. Best is trial 0 with value: 3077.744978533651.\n",
      "[I 2025-06-01 11:56:49,743] Trial 10 finished with value: 3303.8298838930095 and parameters: {'n_estimators': 11261, 'min_child_samples': 6, 'num_leaves': 5, 'learning_rate': 0.15686101411827538, 'min_split_gain': 0.17554867780244998, 'max_depth': 11, 'reg_alpha': 0.056679518917460925, 'reg_lambda': 10.66520450903505, 'colsample_bytree': 0.9399259648203175, 'min_child_weight': 0.8537346455189134, 'boosting_type': 'goss'}. Best is trial 0 with value: 3077.744978533651.\n",
      "[I 2025-06-01 12:01:37,632] Trial 11 finished with value: 3129.261218678563 and parameters: {'n_estimators': 11879, 'min_child_samples': 10, 'num_leaves': 20, 'learning_rate': 0.001244683857708616, 'min_split_gain': 7.9940286050291895, 'max_depth': 6, 'reg_alpha': 9.403247364836956, 'reg_lambda': 0.5271824413077466, 'colsample_bytree': 0.5022520486635123, 'min_child_weight': 0.7154366982775904, 'boosting_type': 'gbdt'}. Best is trial 0 with value: 3077.744978533651.\n",
      "[I 2025-06-01 12:01:52,687] Trial 12 finished with value: 3233.970694539214 and parameters: {'n_estimators': 4488, 'min_child_samples': 7, 'num_leaves': 151, 'learning_rate': 0.02121015946811353, 'min_split_gain': 7.627554094273044, 'max_depth': 2, 'reg_alpha': 8.270954571871302, 'reg_lambda': 2.181980907320779, 'colsample_bytree': 0.5351034053528773, 'min_child_weight': 0.5375951769108671, 'boosting_type': 'gbdt'}. Best is trial 0 with value: 3077.744978533651.\n",
      "[I 2025-06-01 12:02:26,051] Trial 13 finished with value: 3182.192716991026 and parameters: {'n_estimators': 7623, 'min_child_samples': 10, 'num_leaves': 157, 'learning_rate': 0.05267162684519793, 'min_split_gain': 2.116328012005665, 'max_depth': 7, 'reg_alpha': 9.82693533771762, 'reg_lambda': 1.60531235404701, 'colsample_bytree': 0.5838809856558778, 'min_child_weight': 0.633051013348499, 'boosting_type': 'gbdt'}. Best is trial 0 with value: 3077.744978533651.\n",
      "[I 2025-06-01 12:04:18,844] Trial 14 finished with value: 3093.6574039044617 and parameters: {'n_estimators': 5203, 'min_child_samples': 7, 'num_leaves': 39, 'learning_rate': 0.01324745157183142, 'min_split_gain': 6.752021957395339, 'max_depth': 7, 'reg_alpha': 7.828197257370128, 'reg_lambda': 2.3886315659768727, 'colsample_bytree': 0.5726992338979207, 'min_child_weight': 0.7587661389495916, 'boosting_type': 'gbdt'}. Best is trial 0 with value: 3077.744978533651.\n"
     ]
    },
    {
     "name": "stdout",
     "output_type": "stream",
     "text": [
      "Best cross-validation RMSE: 3,077.74498\n",
      "Best parameters: {'n_estimators': 9371, 'min_child_samples': 9, 'num_leaves': 32, 'learning_rate': 0.008540184005285069, 'min_split_gain': 0.28828392618322773, 'max_depth': 9, 'reg_alpha': 8.21052332120606, 'reg_lambda': 2.414847737842317, 'colsample_bytree': 0.5803833580558936, 'min_child_weight': 0.744541391700195, 'boosting_type': 'gbdt'}\n"
     ]
    }
   ],
   "source": [
    "from sklearn.model_selection import TimeSeriesSplit\n",
    "from lightgbm import LGBMRegressor\n",
    "from sklearn.metrics import mean_squared_error\n",
    "from sklearn.preprocessing import RobustScaler\n",
    "\n",
    "tscv = TimeSeriesSplit(n_splits=5)\n",
    "oof_lgbm = np.zeros(len(y))\n",
    "test_lgbm = np.zeros(len(X_test))\n",
    "\n",
    "def objective(trial):\n",
    "    params = {\n",
    "        'n_estimators': trial.suggest_int('n_estimators', 1000, 12000),\n",
    "        'min_child_samples': trial.suggest_int('min_child_samples', 3, 10),\n",
    "        'num_leaves': trial.suggest_int('num_leaves', 5, 200),\n",
    "        'learning_rate': trial.suggest_float('learning_rate', 0.001, 0.2, log=True),\n",
    "        'min_split_gain': trial.suggest_float('min_split_gain', 0.0, 8.0),\n",
    "        'max_depth': trial.suggest_int('max_depth', 1, 13),\n",
    "        'reg_alpha': trial.suggest_float('reg_alpha', 1e-3, 10),\n",
    "        'reg_lambda': trial.suggest_float('reg_lambda', 1e-3, 11),\n",
    "        'colsample_bytree': trial.suggest_float('colsample_bytree', 0.5, 1.0),\n",
    "        'min_child_weight': trial.suggest_float('min_child_weight', 0.5, 1.0),\n",
    "        'boosting_type': trial.suggest_categorical('boosting_type', ['gbdt', 'goss']),\n",
    "        'verbose': -1,\n",
    "        'n_jobs': -1,\n",
    "    }\n",
    "\n",
    "    scores = []\n",
    "    \n",
    "    for fold, (train_index, valid_index) in enumerate(tscv.split(X, y), start=1):\n",
    "        X_train, X_valid = X.iloc[train_index].copy(), X.iloc[valid_index].copy()\n",
    "        y_train, y_valid = y.iloc[train_index], y.iloc[valid_index]\n",
    "    \n",
    "        lgbm = LGBMRegressor(**params, early_stopping_rounds=50, random_state=100).fit(X_train, y_train, eval_set=[(X_valid, y_valid)])\n",
    "        lgbm_pred = lgbm.predict(X_valid)\n",
    "        fold_rmse = np.sqrt(mean_squared_error(y_valid, lgbm_pred))\n",
    "        scores.append(fold_rmse)\n",
    "    \n",
    "    return np.mean(scores)\n",
    "    \n",
    "study = optuna.create_study(direction='minimize', study_name='LGBM-RMSE-Optimization')\n",
    "study.optimize(objective, n_trials=15)\n",
    "\n",
    "print(f'Best cross-validation RMSE: {study.best_value:,.5f}')\n",
    "print(f'Best parameters: {study.best_params}')\n"
   ]
  },
  {
   "cell_type": "code",
   "execution_count": 18,
   "id": "ad5dc82a",
   "metadata": {
    "execution": {
     "iopub.execute_input": "2025-06-01T12:04:18.873819Z",
     "iopub.status.busy": "2025-06-01T12:04:18.873107Z",
     "iopub.status.idle": "2025-06-01T12:04:18.879273Z",
     "shell.execute_reply": "2025-06-01T12:04:18.878562Z"
    },
    "papermill": {
     "duration": 0.014462,
     "end_time": "2025-06-01T12:04:18.880897",
     "exception": false,
     "start_time": "2025-06-01T12:04:18.866435",
     "status": "completed"
    },
    "tags": []
   },
   "outputs": [],
   "source": [
    "import json\n",
    "\n",
    "with open('/kaggle/working/best_lgbm_params.json', 'w') as f:\n",
    "    json.dump(study.best_params, f)"
   ]
  },
  {
   "cell_type": "code",
   "execution_count": 19,
   "id": "1448727d",
   "metadata": {
    "execution": {
     "iopub.execute_input": "2025-06-01T12:04:18.966194Z",
     "iopub.status.busy": "2025-06-01T12:04:18.965887Z",
     "iopub.status.idle": "2025-06-01T12:06:24.258011Z",
     "shell.execute_reply": "2025-06-01T12:06:24.256797Z"
    },
    "papermill": {
     "duration": 125.301054,
     "end_time": "2025-06-01T12:06:24.259950",
     "exception": false,
     "start_time": "2025-06-01T12:04:18.958896",
     "status": "completed"
    },
    "tags": []
   },
   "outputs": [],
   "source": [
    "final_model = LGBMRegressor(**study.best_params).fit(X, y)\n",
    "test_lgbm = final_model.predict(X_test)"
   ]
  },
  {
   "cell_type": "code",
   "execution_count": 20,
   "id": "6eb8e99d",
   "metadata": {
    "execution": {
     "iopub.execute_input": "2025-06-01T12:06:24.277948Z",
     "iopub.status.busy": "2025-06-01T12:06:24.277244Z",
     "iopub.status.idle": "2025-06-01T12:06:24.320748Z",
     "shell.execute_reply": "2025-06-01T12:06:24.319315Z"
    },
    "papermill": {
     "duration": 0.054334,
     "end_time": "2025-06-01T12:06:24.322354",
     "exception": false,
     "start_time": "2025-06-01T12:06:24.268020",
     "status": "completed"
    },
    "tags": []
   },
   "outputs": [
    {
     "name": "stdout",
     "output_type": "stream",
     "text": [
      "Your submission was successfully saved!\n",
      "              datetime       e_users\n",
      "0  2024-09-01 00:00:00  50296.725021\n",
      "1  2024-09-01 01:00:00  47985.873109\n",
      "2  2024-09-01 02:00:00  47363.870368\n",
      "3  2024-09-01 03:00:00  44951.018478\n",
      "4  2024-09-01 04:00:00  43564.323514\n",
      "5  2024-09-01 05:00:00  42423.202305\n",
      "6  2024-09-01 06:00:00  43324.454340\n",
      "7  2024-09-01 07:00:00  44735.747604\n"
     ]
    }
   ],
   "source": [
    "sub = pd.read_csv('/kaggle/input/prediction-of-e-commerce-users/submission.csv')\n",
    "sub['e_users'] = test_lgbm\n",
    "sub.to_csv('submission.csv', index=False)\n",
    "print(\"Your submission was successfully saved!\")\n",
    "print(sub.head(8))"
   ]
  }
 ],
 "metadata": {
  "kaggle": {
   "accelerator": "none",
   "dataSources": [
    {
     "databundleVersionId": 11515802,
     "sourceId": 96904,
     "sourceType": "competition"
    }
   ],
   "dockerImageVersionId": 31040,
   "isGpuEnabled": false,
   "isInternetEnabled": true,
   "language": "python",
   "sourceType": "notebook"
  },
  "kernelspec": {
   "display_name": "Python 3",
   "language": "python",
   "name": "python3"
  },
  "language_info": {
   "codemirror_mode": {
    "name": "ipython",
    "version": 3
   },
   "file_extension": ".py",
   "mimetype": "text/x-python",
   "name": "python",
   "nbconvert_exporter": "python",
   "pygments_lexer": "ipython3",
   "version": "3.11.11"
  },
  "papermill": {
   "default_parameters": {},
   "duration": 2376.724518,
   "end_time": "2025-06-01T12:06:25.353217",
   "environment_variables": {},
   "exception": null,
   "input_path": "__notebook__.ipynb",
   "output_path": "__notebook__.ipynb",
   "parameters": {},
   "start_time": "2025-06-01T11:26:48.628699",
   "version": "2.6.0"
  }
 },
 "nbformat": 4,
 "nbformat_minor": 5
}
