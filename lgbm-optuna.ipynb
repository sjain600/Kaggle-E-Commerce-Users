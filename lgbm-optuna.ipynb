{
 "cells": [
  {
   "cell_type": "code",
   "execution_count": 1,
   "id": "7fc39ad4",
   "metadata": {
    "_cell_guid": "b1076dfc-b9ad-4769-8c92-a6c4dae69d19",
    "_uuid": "8f2839f25d086af736a60e9eeb907d3b93b6e0e5",
    "execution": {
     "iopub.execute_input": "2025-06-01T10:40:59.839241Z",
     "iopub.status.busy": "2025-06-01T10:40:59.838806Z",
     "iopub.status.idle": "2025-06-01T10:41:02.561532Z",
     "shell.execute_reply": "2025-06-01T10:41:02.560398Z"
    },
    "papermill": {
     "duration": 2.730905,
     "end_time": "2025-06-01T10:41:02.563202",
     "exception": false,
     "start_time": "2025-06-01T10:40:59.832297",
     "status": "completed"
    },
    "tags": []
   },
   "outputs": [
    {
     "name": "stdout",
     "output_type": "stream",
     "text": [
      "/kaggle/input/prediction-of-e-commerce-users/submission.csv\n",
      "/kaggle/input/prediction-of-e-commerce-users/train_df.csv\n",
      "/kaggle/input/prediction-of-e-commerce-users/test_df.csv\n"
     ]
    }
   ],
   "source": [
    "# This Python 3 environment comes with many helpful analytics libraries installed\n",
    "# It is defined by the kaggle/python Docker image: https://github.com/kaggle/docker-python\n",
    "# For example, here's several helpful packages to load\n",
    "#%load_ext cudf.pandas\n",
    "import numpy as np # linear algebra\n",
    "import pandas as pd # data processing, CSV file I/O (e.g. pd.read_csv)\n",
    "\n",
    "import optuna\n",
    "\n",
    "# Input data files are available in the read-only \"../input/\" directory\n",
    "# For example, running this (by clicking run or pressing Shift+Enter) will list all files under the input directory\n",
    "\n",
    "import os\n",
    "for dirname, _, filenames in os.walk('/kaggle/input'):\n",
    "    for filename in filenames:\n",
    "        print(os.path.join(dirname, filename))\n",
    "\n",
    "import warnings\n",
    "warnings.filterwarnings('ignore', category=pd.errors.PerformanceWarning)\n",
    "\n",
    "# You can write up to 20GB to the current directory (/kaggle/working/) that gets preserved as output when you create a version using \"Save & Run All\" \n",
    "# You can also write temporary files to /kaggle/temp/, but they won't be saved outside of the current session"
   ]
  },
  {
   "cell_type": "code",
   "execution_count": 2,
   "id": "e6e47034",
   "metadata": {
    "execution": {
     "iopub.execute_input": "2025-06-01T10:41:02.572769Z",
     "iopub.status.busy": "2025-06-01T10:41:02.572327Z",
     "iopub.status.idle": "2025-06-01T10:41:02.654520Z",
     "shell.execute_reply": "2025-06-01T10:41:02.653564Z"
    },
    "papermill": {
     "duration": 0.088863,
     "end_time": "2025-06-01T10:41:02.656272",
     "exception": false,
     "start_time": "2025-06-01T10:41:02.567409",
     "status": "completed"
    },
    "tags": []
   },
   "outputs": [],
   "source": [
    "train = pd.read_csv('/kaggle/input/prediction-of-e-commerce-users/train_df.csv', parse_dates=['datetime'])\n",
    "test = pd.read_csv('/kaggle/input/prediction-of-e-commerce-users/test_df.csv', parse_dates=['datetime'])"
   ]
  },
  {
   "cell_type": "code",
   "execution_count": 3,
   "id": "5f7c27a2",
   "metadata": {
    "execution": {
     "iopub.execute_input": "2025-06-01T10:41:02.665593Z",
     "iopub.status.busy": "2025-06-01T10:41:02.665259Z",
     "iopub.status.idle": "2025-06-01T10:41:02.671986Z",
     "shell.execute_reply": "2025-06-01T10:41:02.671016Z"
    },
    "papermill": {
     "duration": 0.01315,
     "end_time": "2025-06-01T10:41:02.673606",
     "exception": false,
     "start_time": "2025-06-01T10:41:02.660456",
     "status": "completed"
    },
    "tags": []
   },
   "outputs": [
    {
     "data": {
      "text/plain": [
       "(23376, 5)"
      ]
     },
     "execution_count": 3,
     "metadata": {},
     "output_type": "execute_result"
    }
   ],
   "source": [
    "train.shape"
   ]
  },
  {
   "cell_type": "code",
   "execution_count": 4,
   "id": "d0fc29ef",
   "metadata": {
    "execution": {
     "iopub.execute_input": "2025-06-01T10:41:02.683314Z",
     "iopub.status.busy": "2025-06-01T10:41:02.682964Z",
     "iopub.status.idle": "2025-06-01T10:41:02.689384Z",
     "shell.execute_reply": "2025-06-01T10:41:02.688394Z"
    },
    "papermill": {
     "duration": 0.013161,
     "end_time": "2025-06-01T10:41:02.691223",
     "exception": false,
     "start_time": "2025-06-01T10:41:02.678062",
     "status": "completed"
    },
    "tags": []
   },
   "outputs": [
    {
     "data": {
      "text/plain": [
       "(2928, 4)"
      ]
     },
     "execution_count": 4,
     "metadata": {},
     "output_type": "execute_result"
    }
   ],
   "source": [
    "test.shape"
   ]
  },
  {
   "cell_type": "code",
   "execution_count": 5,
   "id": "671092b9",
   "metadata": {
    "execution": {
     "iopub.execute_input": "2025-06-01T10:41:02.701524Z",
     "iopub.status.busy": "2025-06-01T10:41:02.701180Z",
     "iopub.status.idle": "2025-06-01T10:41:02.736810Z",
     "shell.execute_reply": "2025-06-01T10:41:02.735638Z"
    },
    "papermill": {
     "duration": 0.042718,
     "end_time": "2025-06-01T10:41:02.738481",
     "exception": false,
     "start_time": "2025-06-01T10:41:02.695763",
     "status": "completed"
    },
    "tags": []
   },
   "outputs": [
    {
     "data": {
      "text/html": [
       "<div>\n",
       "<style scoped>\n",
       "    .dataframe tbody tr th:only-of-type {\n",
       "        vertical-align: middle;\n",
       "    }\n",
       "\n",
       "    .dataframe tbody tr th {\n",
       "        vertical-align: top;\n",
       "    }\n",
       "\n",
       "    .dataframe thead th {\n",
       "        text-align: right;\n",
       "    }\n",
       "</style>\n",
       "<table border=\"1\" class=\"dataframe\">\n",
       "  <thead>\n",
       "    <tr style=\"text-align: right;\">\n",
       "      <th></th>\n",
       "      <th>datetime</th>\n",
       "      <th>e_users</th>\n",
       "      <th>promotion_1</th>\n",
       "      <th>promotion_2</th>\n",
       "      <th>promotion_3</th>\n",
       "    </tr>\n",
       "  </thead>\n",
       "  <tbody>\n",
       "    <tr>\n",
       "      <th>9997</th>\n",
       "      <td>2023-02-21 13:00:00</td>\n",
       "      <td>66787</td>\n",
       "      <td>16.91</td>\n",
       "      <td>60.22</td>\n",
       "      <td>61.17</td>\n",
       "    </tr>\n",
       "    <tr>\n",
       "      <th>18755</th>\n",
       "      <td>2024-02-21 11:00:00</td>\n",
       "      <td>69411</td>\n",
       "      <td>14.05</td>\n",
       "      <td>83.95</td>\n",
       "      <td>67.23</td>\n",
       "    </tr>\n",
       "    <tr>\n",
       "      <th>22372</th>\n",
       "      <td>2024-07-21 04:00:00</td>\n",
       "      <td>36559</td>\n",
       "      <td>17.07</td>\n",
       "      <td>64.87</td>\n",
       "      <td>77.27</td>\n",
       "    </tr>\n",
       "    <tr>\n",
       "      <th>13577</th>\n",
       "      <td>2023-07-20 17:00:00</td>\n",
       "      <td>43871</td>\n",
       "      <td>24.59</td>\n",
       "      <td>81.95</td>\n",
       "      <td>63.49</td>\n",
       "    </tr>\n",
       "    <tr>\n",
       "      <th>21120</th>\n",
       "      <td>2024-05-30 00:00:00</td>\n",
       "      <td>42471</td>\n",
       "      <td>15.35</td>\n",
       "      <td>64.95</td>\n",
       "      <td>72.39</td>\n",
       "    </tr>\n",
       "    <tr>\n",
       "      <th>18656</th>\n",
       "      <td>2024-02-17 08:00:00</td>\n",
       "      <td>63657</td>\n",
       "      <td>13.21</td>\n",
       "      <td>95.01</td>\n",
       "      <td>83.25</td>\n",
       "    </tr>\n",
       "    <tr>\n",
       "      <th>17998</th>\n",
       "      <td>2024-01-20 22:00:00</td>\n",
       "      <td>71446</td>\n",
       "      <td>8.46</td>\n",
       "      <td>93.11</td>\n",
       "      <td>77.29</td>\n",
       "    </tr>\n",
       "    <tr>\n",
       "      <th>14178</th>\n",
       "      <td>2023-08-14 18:00:00</td>\n",
       "      <td>42815</td>\n",
       "      <td>21.75</td>\n",
       "      <td>80.66</td>\n",
       "      <td>62.81</td>\n",
       "    </tr>\n",
       "  </tbody>\n",
       "</table>\n",
       "</div>"
      ],
      "text/plain": [
       "                 datetime  e_users  promotion_1  promotion_2  promotion_3\n",
       "9997  2023-02-21 13:00:00    66787        16.91        60.22        61.17\n",
       "18755 2024-02-21 11:00:00    69411        14.05        83.95        67.23\n",
       "22372 2024-07-21 04:00:00    36559        17.07        64.87        77.27\n",
       "13577 2023-07-20 17:00:00    43871        24.59        81.95        63.49\n",
       "21120 2024-05-30 00:00:00    42471        15.35        64.95        72.39\n",
       "18656 2024-02-17 08:00:00    63657        13.21        95.01        83.25\n",
       "17998 2024-01-20 22:00:00    71446         8.46        93.11        77.29\n",
       "14178 2023-08-14 18:00:00    42815        21.75        80.66        62.81"
      ]
     },
     "execution_count": 5,
     "metadata": {},
     "output_type": "execute_result"
    }
   ],
   "source": [
    "train.sample(8)"
   ]
  },
  {
   "cell_type": "code",
   "execution_count": 6,
   "id": "41e4a365",
   "metadata": {
    "execution": {
     "iopub.execute_input": "2025-06-01T10:41:02.749343Z",
     "iopub.status.busy": "2025-06-01T10:41:02.748886Z",
     "iopub.status.idle": "2025-06-01T10:41:02.761008Z",
     "shell.execute_reply": "2025-06-01T10:41:02.759961Z"
    },
    "papermill": {
     "duration": 0.01935,
     "end_time": "2025-06-01T10:41:02.762918",
     "exception": false,
     "start_time": "2025-06-01T10:41:02.743568",
     "status": "completed"
    },
    "tags": []
   },
   "outputs": [
    {
     "data": {
      "text/plain": [
       "datetime       0\n",
       "e_users        0\n",
       "promotion_1    0\n",
       "promotion_2    0\n",
       "promotion_3    0\n",
       "dtype: int64"
      ]
     },
     "execution_count": 6,
     "metadata": {},
     "output_type": "execute_result"
    }
   ],
   "source": [
    "train.isnull().sum()"
   ]
  },
  {
   "cell_type": "code",
   "execution_count": 7,
   "id": "ef9a5908",
   "metadata": {
    "execution": {
     "iopub.execute_input": "2025-06-01T10:41:02.773573Z",
     "iopub.status.busy": "2025-06-01T10:41:02.772530Z",
     "iopub.status.idle": "2025-06-01T10:41:02.781450Z",
     "shell.execute_reply": "2025-06-01T10:41:02.780355Z"
    },
    "papermill": {
     "duration": 0.015901,
     "end_time": "2025-06-01T10:41:02.783178",
     "exception": false,
     "start_time": "2025-06-01T10:41:02.767277",
     "status": "completed"
    },
    "tags": []
   },
   "outputs": [
    {
     "data": {
      "text/plain": [
       "datetime       0\n",
       "promotion_1    0\n",
       "promotion_2    0\n",
       "promotion_3    0\n",
       "dtype: int64"
      ]
     },
     "execution_count": 7,
     "metadata": {},
     "output_type": "execute_result"
    }
   ],
   "source": [
    "test.isnull().sum()"
   ]
  },
  {
   "cell_type": "code",
   "execution_count": 8,
   "id": "4dbac97d",
   "metadata": {
    "execution": {
     "iopub.execute_input": "2025-06-01T10:41:02.794806Z",
     "iopub.status.busy": "2025-06-01T10:41:02.794385Z",
     "iopub.status.idle": "2025-06-01T10:41:02.832080Z",
     "shell.execute_reply": "2025-06-01T10:41:02.830979Z"
    },
    "papermill": {
     "duration": 0.045511,
     "end_time": "2025-06-01T10:41:02.833649",
     "exception": false,
     "start_time": "2025-06-01T10:41:02.788138",
     "status": "completed"
    },
    "tags": []
   },
   "outputs": [
    {
     "data": {
      "text/html": [
       "<div>\n",
       "<style scoped>\n",
       "    .dataframe tbody tr th:only-of-type {\n",
       "        vertical-align: middle;\n",
       "    }\n",
       "\n",
       "    .dataframe tbody tr th {\n",
       "        vertical-align: top;\n",
       "    }\n",
       "\n",
       "    .dataframe thead th {\n",
       "        text-align: right;\n",
       "    }\n",
       "</style>\n",
       "<table border=\"1\" class=\"dataframe\">\n",
       "  <thead>\n",
       "    <tr style=\"text-align: right;\">\n",
       "      <th></th>\n",
       "      <th>datetime</th>\n",
       "      <th>e_users</th>\n",
       "      <th>promotion_1</th>\n",
       "      <th>promotion_2</th>\n",
       "      <th>promotion_3</th>\n",
       "    </tr>\n",
       "  </thead>\n",
       "  <tbody>\n",
       "    <tr>\n",
       "      <th>count</th>\n",
       "      <td>23376</td>\n",
       "      <td>23376.000000</td>\n",
       "      <td>23376.000000</td>\n",
       "      <td>23376.000000</td>\n",
       "      <td>23376.000000</td>\n",
       "    </tr>\n",
       "    <tr>\n",
       "      <th>mean</th>\n",
       "      <td>2023-05-02 23:29:59.999999744</td>\n",
       "      <td>52846.660207</td>\n",
       "      <td>15.598461</td>\n",
       "      <td>81.392785</td>\n",
       "      <td>74.453931</td>\n",
       "    </tr>\n",
       "    <tr>\n",
       "      <th>min</th>\n",
       "      <td>2022-01-01 00:00:00</td>\n",
       "      <td>29365.000000</td>\n",
       "      <td>1.050000</td>\n",
       "      <td>15.930000</td>\n",
       "      <td>41.600000</td>\n",
       "    </tr>\n",
       "    <tr>\n",
       "      <th>25%</th>\n",
       "      <td>2022-09-01 11:45:00</td>\n",
       "      <td>43573.750000</td>\n",
       "      <td>11.890000</td>\n",
       "      <td>75.200000</td>\n",
       "      <td>67.880000</td>\n",
       "    </tr>\n",
       "    <tr>\n",
       "      <th>50%</th>\n",
       "      <td>2023-05-02 23:30:00</td>\n",
       "      <td>51071.500000</td>\n",
       "      <td>15.130000</td>\n",
       "      <td>86.310000</td>\n",
       "      <td>76.715000</td>\n",
       "    </tr>\n",
       "    <tr>\n",
       "      <th>75%</th>\n",
       "      <td>2024-01-01 11:15:00</td>\n",
       "      <td>61238.250000</td>\n",
       "      <td>18.972500</td>\n",
       "      <td>91.640000</td>\n",
       "      <td>82.360000</td>\n",
       "    </tr>\n",
       "    <tr>\n",
       "      <th>max</th>\n",
       "      <td>2024-08-31 23:00:00</td>\n",
       "      <td>96130.000000</td>\n",
       "      <td>31.480000</td>\n",
       "      <td>100.050000</td>\n",
       "      <td>92.480000</td>\n",
       "    </tr>\n",
       "    <tr>\n",
       "      <th>std</th>\n",
       "      <td>NaN</td>\n",
       "      <td>11911.319411</td>\n",
       "      <td>4.827803</td>\n",
       "      <td>14.246880</td>\n",
       "      <td>9.991424</td>\n",
       "    </tr>\n",
       "  </tbody>\n",
       "</table>\n",
       "</div>"
      ],
      "text/plain": [
       "                            datetime       e_users   promotion_1  \\\n",
       "count                          23376  23376.000000  23376.000000   \n",
       "mean   2023-05-02 23:29:59.999999744  52846.660207     15.598461   \n",
       "min              2022-01-01 00:00:00  29365.000000      1.050000   \n",
       "25%              2022-09-01 11:45:00  43573.750000     11.890000   \n",
       "50%              2023-05-02 23:30:00  51071.500000     15.130000   \n",
       "75%              2024-01-01 11:15:00  61238.250000     18.972500   \n",
       "max              2024-08-31 23:00:00  96130.000000     31.480000   \n",
       "std                              NaN  11911.319411      4.827803   \n",
       "\n",
       "        promotion_2   promotion_3  \n",
       "count  23376.000000  23376.000000  \n",
       "mean      81.392785     74.453931  \n",
       "min       15.930000     41.600000  \n",
       "25%       75.200000     67.880000  \n",
       "50%       86.310000     76.715000  \n",
       "75%       91.640000     82.360000  \n",
       "max      100.050000     92.480000  \n",
       "std       14.246880      9.991424  "
      ]
     },
     "execution_count": 8,
     "metadata": {},
     "output_type": "execute_result"
    }
   ],
   "source": [
    "train.describe()"
   ]
  },
  {
   "cell_type": "code",
   "execution_count": 9,
   "id": "4f59cd4a",
   "metadata": {
    "execution": {
     "iopub.execute_input": "2025-06-01T10:41:02.844160Z",
     "iopub.status.busy": "2025-06-01T10:41:02.843643Z",
     "iopub.status.idle": "2025-06-01T10:41:02.868392Z",
     "shell.execute_reply": "2025-06-01T10:41:02.867243Z"
    },
    "papermill": {
     "duration": 0.031848,
     "end_time": "2025-06-01T10:41:02.870134",
     "exception": false,
     "start_time": "2025-06-01T10:41:02.838286",
     "status": "completed"
    },
    "tags": []
   },
   "outputs": [
    {
     "name": "stdout",
     "output_type": "stream",
     "text": [
      "<class 'pandas.core.frame.DataFrame'>\n",
      "RangeIndex: 23376 entries, 0 to 23375\n",
      "Data columns (total 5 columns):\n",
      " #   Column       Non-Null Count  Dtype         \n",
      "---  ------       --------------  -----         \n",
      " 0   datetime     23376 non-null  datetime64[ns]\n",
      " 1   e_users      23376 non-null  int64         \n",
      " 2   promotion_1  23376 non-null  float64       \n",
      " 3   promotion_2  23376 non-null  float64       \n",
      " 4   promotion_3  23376 non-null  float64       \n",
      "dtypes: datetime64[ns](1), float64(3), int64(1)\n",
      "memory usage: 913.3 KB\n"
     ]
    }
   ],
   "source": [
    "train.info()"
   ]
  },
  {
   "cell_type": "code",
   "execution_count": 10,
   "id": "cdbe545c",
   "metadata": {
    "execution": {
     "iopub.execute_input": "2025-06-01T10:41:02.880882Z",
     "iopub.status.busy": "2025-06-01T10:41:02.880243Z",
     "iopub.status.idle": "2025-06-01T10:41:02.884627Z",
     "shell.execute_reply": "2025-06-01T10:41:02.883798Z"
    },
    "papermill": {
     "duration": 0.011568,
     "end_time": "2025-06-01T10:41:02.886313",
     "exception": false,
     "start_time": "2025-06-01T10:41:02.874745",
     "status": "completed"
    },
    "tags": []
   },
   "outputs": [],
   "source": [
    "features = ['promotion_1', 'promotion_2', 'promotion_3']"
   ]
  },
  {
   "cell_type": "code",
   "execution_count": 11,
   "id": "a91ad808",
   "metadata": {
    "execution": {
     "iopub.execute_input": "2025-06-01T10:41:02.897374Z",
     "iopub.status.busy": "2025-06-01T10:41:02.897007Z",
     "iopub.status.idle": "2025-06-01T10:41:02.907928Z",
     "shell.execute_reply": "2025-06-01T10:41:02.906923Z"
    },
    "papermill": {
     "duration": 0.018593,
     "end_time": "2025-06-01T10:41:02.909607",
     "exception": false,
     "start_time": "2025-06-01T10:41:02.891014",
     "status": "completed"
    },
    "tags": []
   },
   "outputs": [],
   "source": [
    "def fe(df):\n",
    "    \n",
    "    df['day_of_year'] = df['datetime'].dt.dayofyear\n",
    "    df['year_sin'] = np.sin(2 * np.pi * df['day_of_year'] / 365)\n",
    "    df['year_cos'] = np.cos(2 * np.pi * df['day_of_year'] / 365)\n",
    "    \n",
    "    df['month'] = df['datetime'].dt.month\n",
    "    df['month_sin'] = np.sin(2 * np.pi * df['month'] / 12)\n",
    "    df['month_cos'] = np.cos(2 * np.pi * df['month'] / 12)\n",
    "    \n",
    "    df['hour'] = df['datetime'].dt.hour\n",
    "    df['hour_sin'] = np.sin(2 * np.pi * df['hour'] / 24)\n",
    "    df['hour_cos'] = np.cos(2 * np.pi * df['hour'] / 24)\n",
    "\n",
    "    df['week'] = df['datetime'].dt.isocalendar().week\n",
    "    df['sin_week'] = np.sin(2 * np.pi * df['week'] / 52).astype(float)\n",
    "    df['cos_week'] = np.cos(2 * np.pi * df['week'] / 52).astype(float)\n",
    "\n",
    "    df['dayofweek'] = df['datetime'].dt.dayofweek\n",
    "    df['sin_dayofweek'] = np.sin(2 * np.pi * df['dayofweek'] / 7)\n",
    "    df['cos_dayofweek'] = np.cos(2 * np.pi * df['dayofweek'] / 7)  \n",
    "\n",
    "    df['day'] = df['datetime'].dt.day\n",
    "    df['year'] = df['datetime'].dt.year\n",
    "\n",
    "    df['on_season'] = np.where(df['datetime'].dt.month.isin([11, 12, 1, 2, 3, 4]), 1, 0)\n",
    "\n",
    "    df['is_off_week'] = np.where(df['datetime'].dt.dayofweek.isin([2,3,4]), 1, 0)\n",
    "\n",
    "    for period in [6, 12, 24, 48, 72]:\n",
    "        for col in features:\n",
    "            df[f'{col}_mean_{period}'] = df[col].rolling(period).mean()\n",
    "            df[f'{col}_std_{period}'] = df[col].rolling(period).std()\n",
    "            df[f'{col}_max_{period}'] = df[col].rolling(period).max()\n",
    "            df[f'{col}_min_{period}'] = df[col].rolling(period).min()\n",
    "            df[f'{col}_median_{period}'] = df[col].rolling(period).median()\n",
    "    \n",
    "    df.drop(['datetime'], axis=1, inplace=True)\n",
    "\n",
    "    return df"
   ]
  },
  {
   "cell_type": "code",
   "execution_count": 12,
   "id": "dff66576",
   "metadata": {
    "execution": {
     "iopub.execute_input": "2025-06-01T10:41:02.920194Z",
     "iopub.status.busy": "2025-06-01T10:41:02.919785Z",
     "iopub.status.idle": "2025-06-01T10:41:02.926345Z",
     "shell.execute_reply": "2025-06-01T10:41:02.925243Z"
    },
    "papermill": {
     "duration": 0.013643,
     "end_time": "2025-06-01T10:41:02.927942",
     "exception": false,
     "start_time": "2025-06-01T10:41:02.914299",
     "status": "completed"
    },
    "tags": []
   },
   "outputs": [
    {
     "data": {
      "text/plain": [
       "Index(['datetime', 'e_users', 'promotion_1', 'promotion_2', 'promotion_3'], dtype='object')"
      ]
     },
     "execution_count": 12,
     "metadata": {},
     "output_type": "execute_result"
    }
   ],
   "source": [
    "train.columns"
   ]
  },
  {
   "cell_type": "code",
   "execution_count": 13,
   "id": "b4c2f6a3",
   "metadata": {
    "execution": {
     "iopub.execute_input": "2025-06-01T10:41:02.939013Z",
     "iopub.status.busy": "2025-06-01T10:41:02.938707Z",
     "iopub.status.idle": "2025-06-01T10:41:02.944477Z",
     "shell.execute_reply": "2025-06-01T10:41:02.943645Z"
    },
    "papermill": {
     "duration": 0.013124,
     "end_time": "2025-06-01T10:41:02.946140",
     "exception": false,
     "start_time": "2025-06-01T10:41:02.933016",
     "status": "completed"
    },
    "tags": []
   },
   "outputs": [],
   "source": [
    "def add_interact(df):\n",
    "    for i, c1 in enumerate(features):\n",
    "        for c2 in (features[i+1:]):\n",
    "            m = f'{c1}*{c2}'\n",
    "            df[m] = df[c1] * df[c2]\n",
    "            a = f'{c1}+{c2}'\n",
    "            df[a] = df[c1] + df[c2]\n",
    "            d = f'{c1}/{c2}'\n",
    "            df[d] = df[c1] / (df[c2] + 1e-5)\n",
    "    return df"
   ]
  },
  {
   "cell_type": "code",
   "execution_count": 14,
   "id": "c475cb51",
   "metadata": {
    "execution": {
     "iopub.execute_input": "2025-06-01T10:41:02.957088Z",
     "iopub.status.busy": "2025-06-01T10:41:02.956661Z",
     "iopub.status.idle": "2025-06-01T10:41:03.415984Z",
     "shell.execute_reply": "2025-06-01T10:41:03.414993Z"
    },
    "papermill": {
     "duration": 0.466554,
     "end_time": "2025-06-01T10:41:03.417686",
     "exception": false,
     "start_time": "2025-06-01T10:41:02.951132",
     "status": "completed"
    },
    "tags": []
   },
   "outputs": [],
   "source": [
    "X = train.copy()\n",
    "y = X.pop('e_users')\n",
    "X = fe(X)\n",
    "X = add_interact(X)\n",
    "\n",
    "X_test = test.copy()\n",
    "X_test = fe(X_test)\n",
    "X_test = add_interact(X_test)\n",
    "\n",
    "oof_preds = {}\n",
    "test_preds = {}"
   ]
  },
  {
   "cell_type": "code",
   "execution_count": 15,
   "id": "cc9b868b",
   "metadata": {
    "execution": {
     "iopub.execute_input": "2025-06-01T10:41:03.428298Z",
     "iopub.status.busy": "2025-06-01T10:41:03.427943Z",
     "iopub.status.idle": "2025-06-01T10:41:03.443235Z",
     "shell.execute_reply": "2025-06-01T10:41:03.442169Z"
    },
    "papermill": {
     "duration": 0.022348,
     "end_time": "2025-06-01T10:41:03.444769",
     "exception": false,
     "start_time": "2025-06-01T10:41:03.422421",
     "status": "completed"
    },
    "tags": []
   },
   "outputs": [
    {
     "name": "stdout",
     "output_type": "stream",
     "text": [
      "<class 'pandas.core.frame.DataFrame'>\n",
      "RangeIndex: 23376 entries, 0 to 23375\n",
      "Columns: 106 entries, promotion_1 to promotion_2/promotion_3\n",
      "dtypes: UInt32(1), float64(97), int32(6), int64(2)\n",
      "memory usage: 18.3 MB\n"
     ]
    }
   ],
   "source": [
    "X.info()"
   ]
  },
  {
   "cell_type": "code",
   "execution_count": 16,
   "id": "11986da4",
   "metadata": {
    "execution": {
     "iopub.execute_input": "2025-06-01T10:41:03.456923Z",
     "iopub.status.busy": "2025-06-01T10:41:03.456579Z",
     "iopub.status.idle": "2025-06-01T10:41:03.488144Z",
     "shell.execute_reply": "2025-06-01T10:41:03.486702Z"
    },
    "papermill": {
     "duration": 0.040025,
     "end_time": "2025-06-01T10:41:03.490172",
     "exception": false,
     "start_time": "2025-06-01T10:41:03.450147",
     "status": "completed"
    },
    "tags": []
   },
   "outputs": [
    {
     "name": "stderr",
     "output_type": "stream",
     "text": [
      "/usr/local/lib/python3.11/dist-packages/pandas/io/formats/format.py:1458: RuntimeWarning: invalid value encountered in greater\n",
      "  has_large_values = (abs_vals > 1e6).any()\n",
      "/usr/local/lib/python3.11/dist-packages/pandas/io/formats/format.py:1459: RuntimeWarning: invalid value encountered in less\n",
      "  has_small_values = ((abs_vals < 10 ** (-self.digits)) & (abs_vals > 0)).any()\n",
      "/usr/local/lib/python3.11/dist-packages/pandas/io/formats/format.py:1459: RuntimeWarning: invalid value encountered in greater\n",
      "  has_small_values = ((abs_vals < 10 ** (-self.digits)) & (abs_vals > 0)).any()\n",
      "/usr/local/lib/python3.11/dist-packages/pandas/io/formats/format.py:1458: RuntimeWarning: invalid value encountered in greater\n",
      "  has_large_values = (abs_vals > 1e6).any()\n",
      "/usr/local/lib/python3.11/dist-packages/pandas/io/formats/format.py:1459: RuntimeWarning: invalid value encountered in less\n",
      "  has_small_values = ((abs_vals < 10 ** (-self.digits)) & (abs_vals > 0)).any()\n",
      "/usr/local/lib/python3.11/dist-packages/pandas/io/formats/format.py:1459: RuntimeWarning: invalid value encountered in greater\n",
      "  has_small_values = ((abs_vals < 10 ** (-self.digits)) & (abs_vals > 0)).any()\n"
     ]
    },
    {
     "data": {
      "text/html": [
       "<div>\n",
       "<style scoped>\n",
       "    .dataframe tbody tr th:only-of-type {\n",
       "        vertical-align: middle;\n",
       "    }\n",
       "\n",
       "    .dataframe tbody tr th {\n",
       "        vertical-align: top;\n",
       "    }\n",
       "\n",
       "    .dataframe thead th {\n",
       "        text-align: right;\n",
       "    }\n",
       "</style>\n",
       "<table border=\"1\" class=\"dataframe\">\n",
       "  <thead>\n",
       "    <tr style=\"text-align: right;\">\n",
       "      <th></th>\n",
       "      <th>promotion_1</th>\n",
       "      <th>promotion_2</th>\n",
       "      <th>promotion_3</th>\n",
       "      <th>day_of_year</th>\n",
       "      <th>year_sin</th>\n",
       "      <th>year_cos</th>\n",
       "      <th>month</th>\n",
       "      <th>month_sin</th>\n",
       "      <th>month_cos</th>\n",
       "      <th>hour</th>\n",
       "      <th>...</th>\n",
       "      <th>promotion_3_median_72</th>\n",
       "      <th>promotion_1*promotion_2</th>\n",
       "      <th>promotion_1+promotion_2</th>\n",
       "      <th>promotion_1/promotion_2</th>\n",
       "      <th>promotion_1*promotion_3</th>\n",
       "      <th>promotion_1+promotion_3</th>\n",
       "      <th>promotion_1/promotion_3</th>\n",
       "      <th>promotion_2*promotion_3</th>\n",
       "      <th>promotion_2+promotion_3</th>\n",
       "      <th>promotion_2/promotion_3</th>\n",
       "    </tr>\n",
       "  </thead>\n",
       "  <tbody>\n",
       "    <tr>\n",
       "      <th>0</th>\n",
       "      <td>11.67</td>\n",
       "      <td>95.28</td>\n",
       "      <td>80.76</td>\n",
       "      <td>1</td>\n",
       "      <td>0.017213</td>\n",
       "      <td>0.999852</td>\n",
       "      <td>1</td>\n",
       "      <td>0.5</td>\n",
       "      <td>0.866025</td>\n",
       "      <td>0</td>\n",
       "      <td>...</td>\n",
       "      <td>NaN</td>\n",
       "      <td>1111.9176</td>\n",
       "      <td>106.95</td>\n",
       "      <td>0.122481</td>\n",
       "      <td>942.4692</td>\n",
       "      <td>92.43</td>\n",
       "      <td>0.144502</td>\n",
       "      <td>7694.8128</td>\n",
       "      <td>176.04</td>\n",
       "      <td>1.179792</td>\n",
       "    </tr>\n",
       "    <tr>\n",
       "      <th>1</th>\n",
       "      <td>11.33</td>\n",
       "      <td>93.25</td>\n",
       "      <td>80.81</td>\n",
       "      <td>1</td>\n",
       "      <td>0.017213</td>\n",
       "      <td>0.999852</td>\n",
       "      <td>1</td>\n",
       "      <td>0.5</td>\n",
       "      <td>0.866025</td>\n",
       "      <td>1</td>\n",
       "      <td>...</td>\n",
       "      <td>NaN</td>\n",
       "      <td>1056.5225</td>\n",
       "      <td>104.58</td>\n",
       "      <td>0.121501</td>\n",
       "      <td>915.5773</td>\n",
       "      <td>92.14</td>\n",
       "      <td>0.140205</td>\n",
       "      <td>7535.5325</td>\n",
       "      <td>174.06</td>\n",
       "      <td>1.153941</td>\n",
       "    </tr>\n",
       "    <tr>\n",
       "      <th>2</th>\n",
       "      <td>11.01</td>\n",
       "      <td>91.23</td>\n",
       "      <td>80.85</td>\n",
       "      <td>1</td>\n",
       "      <td>0.017213</td>\n",
       "      <td>0.999852</td>\n",
       "      <td>1</td>\n",
       "      <td>0.5</td>\n",
       "      <td>0.866025</td>\n",
       "      <td>2</td>\n",
       "      <td>...</td>\n",
       "      <td>NaN</td>\n",
       "      <td>1004.4423</td>\n",
       "      <td>102.24</td>\n",
       "      <td>0.120684</td>\n",
       "      <td>890.1585</td>\n",
       "      <td>91.86</td>\n",
       "      <td>0.136178</td>\n",
       "      <td>7375.9455</td>\n",
       "      <td>172.08</td>\n",
       "      <td>1.128386</td>\n",
       "    </tr>\n",
       "    <tr>\n",
       "      <th>3</th>\n",
       "      <td>10.82</td>\n",
       "      <td>89.40</td>\n",
       "      <td>80.89</td>\n",
       "      <td>1</td>\n",
       "      <td>0.017213</td>\n",
       "      <td>0.999852</td>\n",
       "      <td>1</td>\n",
       "      <td>0.5</td>\n",
       "      <td>0.866025</td>\n",
       "      <td>3</td>\n",
       "      <td>...</td>\n",
       "      <td>NaN</td>\n",
       "      <td>967.3080</td>\n",
       "      <td>100.22</td>\n",
       "      <td>0.121029</td>\n",
       "      <td>875.2298</td>\n",
       "      <td>91.71</td>\n",
       "      <td>0.133762</td>\n",
       "      <td>7231.5660</td>\n",
       "      <td>170.29</td>\n",
       "      <td>1.105204</td>\n",
       "    </tr>\n",
       "    <tr>\n",
       "      <th>4</th>\n",
       "      <td>10.80</td>\n",
       "      <td>88.14</td>\n",
       "      <td>80.94</td>\n",
       "      <td>1</td>\n",
       "      <td>0.017213</td>\n",
       "      <td>0.999852</td>\n",
       "      <td>1</td>\n",
       "      <td>0.5</td>\n",
       "      <td>0.866025</td>\n",
       "      <td>4</td>\n",
       "      <td>...</td>\n",
       "      <td>NaN</td>\n",
       "      <td>951.9120</td>\n",
       "      <td>98.94</td>\n",
       "      <td>0.122532</td>\n",
       "      <td>874.1520</td>\n",
       "      <td>91.74</td>\n",
       "      <td>0.133432</td>\n",
       "      <td>7134.0516</td>\n",
       "      <td>169.08</td>\n",
       "      <td>1.088955</td>\n",
       "    </tr>\n",
       "  </tbody>\n",
       "</table>\n",
       "<p>5 rows × 106 columns</p>\n",
       "</div>"
      ],
      "text/plain": [
       "   promotion_1  promotion_2  promotion_3  day_of_year  year_sin  year_cos  \\\n",
       "0        11.67        95.28        80.76            1  0.017213  0.999852   \n",
       "1        11.33        93.25        80.81            1  0.017213  0.999852   \n",
       "2        11.01        91.23        80.85            1  0.017213  0.999852   \n",
       "3        10.82        89.40        80.89            1  0.017213  0.999852   \n",
       "4        10.80        88.14        80.94            1  0.017213  0.999852   \n",
       "\n",
       "   month  month_sin  month_cos  hour  ...  promotion_3_median_72  \\\n",
       "0      1        0.5   0.866025     0  ...                    NaN   \n",
       "1      1        0.5   0.866025     1  ...                    NaN   \n",
       "2      1        0.5   0.866025     2  ...                    NaN   \n",
       "3      1        0.5   0.866025     3  ...                    NaN   \n",
       "4      1        0.5   0.866025     4  ...                    NaN   \n",
       "\n",
       "   promotion_1*promotion_2  promotion_1+promotion_2  promotion_1/promotion_2  \\\n",
       "0                1111.9176                   106.95                 0.122481   \n",
       "1                1056.5225                   104.58                 0.121501   \n",
       "2                1004.4423                   102.24                 0.120684   \n",
       "3                 967.3080                   100.22                 0.121029   \n",
       "4                 951.9120                    98.94                 0.122532   \n",
       "\n",
       "   promotion_1*promotion_3  promotion_1+promotion_3  promotion_1/promotion_3  \\\n",
       "0                 942.4692                    92.43                 0.144502   \n",
       "1                 915.5773                    92.14                 0.140205   \n",
       "2                 890.1585                    91.86                 0.136178   \n",
       "3                 875.2298                    91.71                 0.133762   \n",
       "4                 874.1520                    91.74                 0.133432   \n",
       "\n",
       "   promotion_2*promotion_3  promotion_2+promotion_3  promotion_2/promotion_3  \n",
       "0                7694.8128                   176.04                 1.179792  \n",
       "1                7535.5325                   174.06                 1.153941  \n",
       "2                7375.9455                   172.08                 1.128386  \n",
       "3                7231.5660                   170.29                 1.105204  \n",
       "4                7134.0516                   169.08                 1.088955  \n",
       "\n",
       "[5 rows x 106 columns]"
      ]
     },
     "execution_count": 16,
     "metadata": {},
     "output_type": "execute_result"
    }
   ],
   "source": [
    "X.head()"
   ]
  },
  {
   "cell_type": "code",
   "execution_count": 17,
   "id": "fb70b19a",
   "metadata": {
    "execution": {
     "iopub.execute_input": "2025-06-01T10:41:03.502007Z",
     "iopub.status.busy": "2025-06-01T10:41:03.501616Z",
     "iopub.status.idle": "2025-06-01T10:57:50.353270Z",
     "shell.execute_reply": "2025-06-01T10:57:50.349955Z"
    },
    "papermill": {
     "duration": 1006.864358,
     "end_time": "2025-06-01T10:57:50.359789",
     "exception": false,
     "start_time": "2025-06-01T10:41:03.495431",
     "status": "completed"
    },
    "tags": []
   },
   "outputs": [
    {
     "name": "stderr",
     "output_type": "stream",
     "text": [
      "[I 2025-06-01 10:41:11,474] A new study created in memory with name: LGBM-RMSE-Optimization\n",
      "[I 2025-06-01 10:42:13,351] Trial 0 finished with value: 4679.241972872519 and parameters: {'n_estimators': 4498, 'min_child_samples': 5, 'num_leaves': 9, 'learning_rate': 0.0031324317000397534, 'min_split_gain': 0.8559246426162899, 'max_depth': 6, 'reg_alpha': 1.3429630233782466, 'reg_lambda': 5.842642601464031, 'colsample_bytree': 0.9764735607669175, 'min_child_weight': 0.9869031573681188}. Best is trial 0 with value: 4679.241972872519.\n",
      "[I 2025-06-01 10:42:57,276] Trial 1 finished with value: 4769.507535406161 and parameters: {'n_estimators': 6806, 'min_child_samples': 9, 'num_leaves': 9, 'learning_rate': 0.004464960493103152, 'min_split_gain': 5.643929169237837, 'max_depth': 13, 'reg_alpha': 4.761699173511709, 'reg_lambda': 8.380693720335751, 'colsample_bytree': 0.9834834816701576, 'min_child_weight': 0.6942324122434372}. Best is trial 0 with value: 4679.241972872519.\n",
      "[I 2025-06-01 10:43:00,917] Trial 2 finished with value: 4513.60756069849 and parameters: {'n_estimators': 3321, 'min_child_samples': 6, 'num_leaves': 5, 'learning_rate': 0.0971687413852992, 'min_split_gain': 5.140316934612344, 'max_depth': 10, 'reg_alpha': 5.441055251518665, 'reg_lambda': 3.5154736199856655, 'colsample_bytree': 0.6112670234818247, 'min_child_weight': 0.59425432070164}. Best is trial 2 with value: 4513.60756069849.\n",
      "[I 2025-06-01 10:43:22,124] Trial 3 finished with value: 4389.675280089671 and parameters: {'n_estimators': 6355, 'min_child_samples': 10, 'num_leaves': 10, 'learning_rate': 0.012009313503145906, 'min_split_gain': 7.531708263052372, 'max_depth': 10, 'reg_alpha': 4.813208746551536, 'reg_lambda': 6.095073766493939, 'colsample_bytree': 0.8396042480524226, 'min_child_weight': 0.9418773024422387}. Best is trial 3 with value: 4389.675280089671.\n",
      "[I 2025-06-01 10:43:25,258] Trial 4 finished with value: 4512.014873934179 and parameters: {'n_estimators': 4678, 'min_child_samples': 9, 'num_leaves': 12, 'learning_rate': 0.1088019287804268, 'min_split_gain': 3.415456892359222, 'max_depth': 4, 'reg_alpha': 5.130494536009684, 'reg_lambda': 8.608411618494447, 'colsample_bytree': 0.7719332963356847, 'min_child_weight': 0.9702969894168423}. Best is trial 3 with value: 4389.675280089671.\n",
      "[I 2025-06-01 10:43:31,693] Trial 5 finished with value: 4472.0485248910345 and parameters: {'n_estimators': 10915, 'min_child_samples': 7, 'num_leaves': 10, 'learning_rate': 0.05264414456352098, 'min_split_gain': 7.2136537818594055, 'max_depth': 10, 'reg_alpha': 2.9174905020479978, 'reg_lambda': 3.6944238430772463, 'colsample_bytree': 0.8818071448722374, 'min_child_weight': 0.6659972814153502}. Best is trial 3 with value: 4389.675280089671.\n",
      "[I 2025-06-01 10:43:50,055] Trial 6 finished with value: 4328.960462694879 and parameters: {'n_estimators': 10387, 'min_child_samples': 9, 'num_leaves': 11, 'learning_rate': 0.014165691872259493, 'min_split_gain': 7.102078614412303, 'max_depth': 11, 'reg_alpha': 0.6137944169221261, 'reg_lambda': 8.05517235894025, 'colsample_bytree': 0.7391034566732455, 'min_child_weight': 0.8934299097365078}. Best is trial 6 with value: 4328.960462694879.\n",
      "[I 2025-06-01 10:44:30,115] Trial 7 finished with value: 4090.658050316548 and parameters: {'n_estimators': 7342, 'min_child_samples': 3, 'num_leaves': 10, 'learning_rate': 0.0022341713386860454, 'min_split_gain': 3.5709563233369988, 'max_depth': 3, 'reg_alpha': 7.5945574968295855, 'reg_lambda': 6.338856777664793, 'colsample_bytree': 0.5336911494724346, 'min_child_weight': 0.6532682654053027}. Best is trial 7 with value: 4090.658050316548.\n",
      "[I 2025-06-01 10:44:47,998] Trial 8 finished with value: 4622.522097559317 and parameters: {'n_estimators': 9736, 'min_child_samples': 8, 'num_leaves': 5, 'learning_rate': 0.00832639462242346, 'min_split_gain': 3.730579591341666, 'max_depth': 3, 'reg_alpha': 9.122323711475405, 'reg_lambda': 8.904143521116984, 'colsample_bytree': 0.9346266740163918, 'min_child_weight': 0.6868478896881667}. Best is trial 7 with value: 4090.658050316548.\n",
      "[I 2025-06-01 10:44:53,602] Trial 9 finished with value: 4457.627823484582 and parameters: {'n_estimators': 6057, 'min_child_samples': 5, 'num_leaves': 11, 'learning_rate': 0.08985496264531477, 'min_split_gain': 1.563434140638691, 'max_depth': 13, 'reg_alpha': 6.2256393182232355, 'reg_lambda': 0.8754856886870651, 'colsample_bytree': 0.8199853927866062, 'min_child_weight': 0.6842185033034853}. Best is trial 7 with value: 4090.658050316548.\n",
      "[I 2025-06-01 10:45:21,371] Trial 10 finished with value: 4902.288311804026 and parameters: {'n_estimators': 8353, 'min_child_samples': 3, 'num_leaves': 15, 'learning_rate': 0.0010148175982438376, 'min_split_gain': 2.2783703193518825, 'max_depth': 1, 'reg_alpha': 9.984684639520788, 'reg_lambda': 10.666978018613499, 'colsample_bytree': 0.5305327971019559, 'min_child_weight': 0.5114142866015937}. Best is trial 7 with value: 4090.658050316548.\n",
      "[I 2025-06-01 10:45:37,620] Trial 11 finished with value: 4174.996593876901 and parameters: {'n_estimators': 11985, 'min_child_samples': 3, 'num_leaves': 13, 'learning_rate': 0.021427241885462557, 'min_split_gain': 5.459330133012475, 'max_depth': 7, 'reg_alpha': 7.662168206818357, 'reg_lambda': 7.046651706359297, 'colsample_bytree': 0.6755569744970049, 'min_child_weight': 0.8564366213885863}. Best is trial 7 with value: 4090.658050316548.\n",
      "[I 2025-06-01 10:45:47,285] Trial 12 finished with value: 4203.852870595663 and parameters: {'n_estimators': 1003, 'min_child_samples': 3, 'num_leaves': 14, 'learning_rate': 0.024736035888251757, 'min_split_gain': 5.238958187209041, 'max_depth': 7, 'reg_alpha': 7.848924362193009, 'reg_lambda': 4.847673156874393, 'colsample_bytree': 0.6455497090665944, 'min_child_weight': 0.8354330735339455}. Best is trial 7 with value: 4090.658050316548.\n",
      "[I 2025-06-01 10:47:30,081] Trial 13 finished with value: 4029.376585720567 and parameters: {'n_estimators': 11824, 'min_child_samples': 4, 'num_leaves': 8, 'learning_rate': 0.0010021706498533726, 'min_split_gain': 2.740774106029132, 'max_depth': 5, 'reg_alpha': 7.397462572188567, 'reg_lambda': 6.614117660098329, 'colsample_bytree': 0.5186678846404255, 'min_child_weight': 0.799458413554931}. Best is trial 13 with value: 4029.376585720567.\n",
      "[I 2025-06-01 10:48:44,247] Trial 14 finished with value: 4094.3775885607397 and parameters: {'n_estimators': 8743, 'min_child_samples': 4, 'num_leaves': 7, 'learning_rate': 0.0010269454446647365, 'min_split_gain': 2.627005442459965, 'max_depth': 4, 'reg_alpha': 7.301243762152497, 'reg_lambda': 2.2210814606503213, 'colsample_bytree': 0.5020668711871243, 'min_child_weight': 0.780404960328761}. Best is trial 13 with value: 4029.376585720567.\n",
      "[I 2025-06-01 10:49:07,123] Trial 15 finished with value: 4669.198696833789 and parameters: {'n_estimators': 7967, 'min_child_samples': 4, 'num_leaves': 8, 'learning_rate': 0.002338575386403603, 'min_split_gain': 4.1977323602747045, 'max_depth': 1, 'reg_alpha': 8.792734693676742, 'reg_lambda': 10.377061093166631, 'colsample_bytree': 0.5736326243538133, 'min_child_weight': 0.7908507703459564}. Best is trial 13 with value: 4029.376585720567.\n",
      "[I 2025-06-01 10:50:03,361] Trial 16 finished with value: 4085.5644238840155 and parameters: {'n_estimators': 11879, 'min_child_samples': 5, 'num_leaves': 7, 'learning_rate': 0.0019129594132576062, 'min_split_gain': 0.688185903224511, 'max_depth': 5, 'reg_alpha': 6.463577505377433, 'reg_lambda': 4.6744990704263, 'colsample_bytree': 0.5622862254211871, 'min_child_weight': 0.5527384536734994}. Best is trial 13 with value: 4029.376585720567.\n",
      "[I 2025-06-01 10:50:34,995] Trial 17 finished with value: 4277.121824935852 and parameters: {'n_estimators': 11471, 'min_child_samples': 6, 'num_leaves': 7, 'learning_rate': 0.005413885549312701, 'min_split_gain': 0.022376903449465968, 'max_depth': 5, 'reg_alpha': 3.700851467403209, 'reg_lambda': 4.532372694457228, 'colsample_bytree': 0.700221550761964, 'min_child_weight': 0.5439805891578602}. Best is trial 13 with value: 4029.376585720567.\n",
      "[I 2025-06-01 10:51:38,016] Trial 18 finished with value: 4132.891493508347 and parameters: {'n_estimators': 9583, 'min_child_samples': 5, 'num_leaves': 6, 'learning_rate': 0.0016033811703837393, 'min_split_gain': 0.20865911444954938, 'max_depth': 6, 'reg_alpha': 6.430493904977139, 'reg_lambda': 0.08774603084739319, 'colsample_bytree': 0.5926204230663235, 'min_child_weight': 0.7410803950637104}. Best is trial 13 with value: 4029.376585720567.\n",
      "[I 2025-06-01 10:53:02,616] Trial 19 finished with value: 4072.1755830722973 and parameters: {'n_estimators': 10327, 'min_child_samples': 7, 'num_leaves': 7, 'learning_rate': 0.001396336273387869, 'min_split_gain': 1.520858577508324, 'max_depth': 9, 'reg_alpha': 3.4209748167555145, 'reg_lambda': 2.17835854566105, 'colsample_bytree': 0.5630282564941683, 'min_child_weight': 0.5818832307314843}. Best is trial 13 with value: 4029.376585720567.\n",
      "[I 2025-06-01 10:53:36,437] Trial 20 finished with value: 4126.268355877604 and parameters: {'n_estimators': 10027, 'min_child_samples': 7, 'num_leaves': 8, 'learning_rate': 0.004361710533974366, 'min_split_gain': 1.9914823169210285, 'max_depth': 8, 'reg_alpha': 2.9032917970431225, 'reg_lambda': 1.9995004501814955, 'colsample_bytree': 0.6287638366987517, 'min_child_weight': 0.6168569095604067}. Best is trial 13 with value: 4029.376585720567.\n",
      "[I 2025-06-01 10:54:46,788] Trial 21 finished with value: 4108.001498680183 and parameters: {'n_estimators': 11756, 'min_child_samples': 6, 'num_leaves': 7, 'learning_rate': 0.0015806604385497555, 'min_split_gain': 1.178075651729876, 'max_depth': 8, 'reg_alpha': 3.6802217261230425, 'reg_lambda': 2.7394362343117273, 'colsample_bytree': 0.5664189798139891, 'min_child_weight': 0.5758384193414373}. Best is trial 13 with value: 4029.376585720567.\n",
      "[I 2025-06-01 10:55:48,576] Trial 22 finished with value: 4038.132157508769 and parameters: {'n_estimators': 10915, 'min_child_samples': 4, 'num_leaves': 6, 'learning_rate': 0.00158641511220785, 'min_split_gain': 2.796598546496241, 'max_depth': 8, 'reg_alpha': 6.172778196487877, 'reg_lambda': 4.636030548521282, 'colsample_bytree': 0.5077746906445277, 'min_child_weight': 0.5092448697262806}. Best is trial 13 with value: 4029.376585720567.\n",
      "[I 2025-06-01 10:57:04,179] Trial 23 finished with value: 4094.4578819441485 and parameters: {'n_estimators': 8991, 'min_child_samples': 4, 'num_leaves': 6, 'learning_rate': 0.001002411172445888, 'min_split_gain': 2.7639390583407715, 'max_depth': 9, 'reg_alpha': 4.072062202543049, 'reg_lambda': 7.305673443758958, 'colsample_bytree': 0.5002947594693669, 'min_child_weight': 0.741587889003302}. Best is trial 13 with value: 4029.376585720567.\n",
      "[I 2025-06-01 10:57:50,346] Trial 24 finished with value: 4037.249151387344 and parameters: {'n_estimators': 10785, 'min_child_samples': 7, 'num_leaves': 6, 'learning_rate': 0.0030294073040113677, 'min_split_gain': 1.6659818344530364, 'max_depth': 8, 'reg_alpha': 1.868298480655513, 'reg_lambda': 3.130363294532292, 'colsample_bytree': 0.5342984363106166, 'min_child_weight': 0.5105323069183524}. Best is trial 13 with value: 4029.376585720567.\n"
     ]
    },
    {
     "name": "stdout",
     "output_type": "stream",
     "text": [
      "Best cross-validation RMSE: 4,029.37659\n",
      "Best parameters: {'n_estimators': 11824, 'min_child_samples': 4, 'num_leaves': 8, 'learning_rate': 0.0010021706498533726, 'min_split_gain': 2.740774106029132, 'max_depth': 5, 'reg_alpha': 7.397462572188567, 'reg_lambda': 6.614117660098329, 'colsample_bytree': 0.5186678846404255, 'min_child_weight': 0.799458413554931}\n"
     ]
    }
   ],
   "source": [
    "from sklearn.model_selection import TimeSeriesSplit\n",
    "from lightgbm import LGBMRegressor\n",
    "from sklearn.metrics import mean_squared_error\n",
    "from sklearn.preprocessing import RobustScaler\n",
    "\n",
    "tscv = TimeSeriesSplit(n_splits=3)\n",
    "oof_lgbm = np.zeros(len(y))\n",
    "test_lgbm = np.zeros(len(X_test))\n",
    "\n",
    "def objective(trial):\n",
    "    params = {\n",
    "        'n_estimators': trial.suggest_int('n_estimators', 1000, 12000),\n",
    "        'min_child_samples': trial.suggest_int('min_child_samples', 3, 10),\n",
    "        'num_leaves': trial.suggest_int('num_leaves', 5, 15),\n",
    "        'learning_rate': trial.suggest_float('learning_rate', 0.001, 0.2, log=True),\n",
    "        'min_split_gain': trial.suggest_float('min_split_gain', 0.0, 8.0),\n",
    "        'max_depth': trial.suggest_int('max_depth', 1, 13),\n",
    "        'reg_alpha': trial.suggest_float('reg_alpha', 1e-3, 10),\n",
    "        'reg_lambda': trial.suggest_float('reg_lambda', 1e-3, 11),\n",
    "        'colsample_bytree': trial.suggest_float('colsample_bytree', 0.5, 1.0),\n",
    "        'min_child_weight': trial.suggest_float('min_child_weight', 0.5, 1.0),\n",
    "        'verbose': -1,\n",
    "        'n_jobs': -1,\n",
    "        \"boosting_type\": \"goss\",\n",
    "    }\n",
    "\n",
    "    scores = []\n",
    "    \n",
    "    for fold, (train_index, valid_index) in enumerate(tscv.split(X, y), start=1):\n",
    "        X_train, X_valid = X.iloc[train_index].copy(), X.iloc[valid_index].copy()\n",
    "        y_train, y_valid = y.iloc[train_index], y.iloc[valid_index]\n",
    "    \n",
    "        lgbm = LGBMRegressor(**params, early_stopping_rounds=50, random_state=100).fit(X_train, y_train, eval_set=[(X_valid, y_valid)])\n",
    "        lgbm_pred = lgbm.predict(X_valid)\n",
    "        fold_rmse = np.sqrt(mean_squared_error(y_valid, lgbm_pred))\n",
    "        scores.append(fold_rmse)\n",
    "    \n",
    "    return np.mean(scores)\n",
    "    \n",
    "study = optuna.create_study(direction='minimize', study_name='LGBM-RMSE-Optimization')\n",
    "study.optimize(objective, n_trials=25)\n",
    "\n",
    "print(f'Best cross-validation RMSE: {study.best_value:,.5f}')\n",
    "print(f'Best parameters: {study.best_params}')\n"
   ]
  },
  {
   "cell_type": "code",
   "execution_count": 18,
   "id": "5bc92b79",
   "metadata": {
    "execution": {
     "iopub.execute_input": "2025-06-01T10:57:50.374428Z",
     "iopub.status.busy": "2025-06-01T10:57:50.373744Z",
     "iopub.status.idle": "2025-06-01T10:58:57.452590Z",
     "shell.execute_reply": "2025-06-01T10:58:57.451772Z"
    },
    "papermill": {
     "duration": 67.088051,
     "end_time": "2025-06-01T10:58:57.454440",
     "exception": false,
     "start_time": "2025-06-01T10:57:50.366389",
     "status": "completed"
    },
    "tags": []
   },
   "outputs": [],
   "source": [
    "final_model = LGBMRegressor(**study.best_params).fit(X, y)\n",
    "test_lgbm = final_model.predict(X_test)"
   ]
  },
  {
   "cell_type": "code",
   "execution_count": 19,
   "id": "8bc88333",
   "metadata": {
    "execution": {
     "iopub.execute_input": "2025-06-01T10:58:57.468911Z",
     "iopub.status.busy": "2025-06-01T10:58:57.468629Z",
     "iopub.status.idle": "2025-06-01T10:58:57.511634Z",
     "shell.execute_reply": "2025-06-01T10:58:57.510575Z"
    },
    "papermill": {
     "duration": 0.052003,
     "end_time": "2025-06-01T10:58:57.513364",
     "exception": false,
     "start_time": "2025-06-01T10:58:57.461361",
     "status": "completed"
    },
    "tags": []
   },
   "outputs": [
    {
     "name": "stdout",
     "output_type": "stream",
     "text": [
      "Your submission was successfully saved!\n",
      "              datetime       e_users\n",
      "0  2024-09-01 00:00:00  52252.289800\n",
      "1  2024-09-01 01:00:00  49632.172565\n",
      "2  2024-09-01 02:00:00  48501.352755\n",
      "3  2024-09-01 03:00:00  47477.421811\n",
      "4  2024-09-01 04:00:00  47286.265225\n",
      "5  2024-09-01 05:00:00  43877.396224\n",
      "6  2024-09-01 06:00:00  45899.796801\n",
      "7  2024-09-01 07:00:00  48835.546634\n"
     ]
    }
   ],
   "source": [
    "sub = pd.read_csv('/kaggle/input/prediction-of-e-commerce-users/submission.csv')\n",
    "sub['e_users'] = test_lgbm\n",
    "sub.to_csv('submission.csv', index=False)\n",
    "print(\"Your submission was successfully saved!\")\n",
    "print(sub.head(8))"
   ]
  }
 ],
 "metadata": {
  "kaggle": {
   "accelerator": "none",
   "dataSources": [
    {
     "databundleVersionId": 11515802,
     "sourceId": 96904,
     "sourceType": "competition"
    }
   ],
   "dockerImageVersionId": 31040,
   "isGpuEnabled": false,
   "isInternetEnabled": true,
   "language": "python",
   "sourceType": "notebook"
  },
  "kernelspec": {
   "display_name": "Python 3",
   "language": "python",
   "name": "python3"
  },
  "language_info": {
   "codemirror_mode": {
    "name": "ipython",
    "version": 3
   },
   "file_extension": ".py",
   "mimetype": "text/x-python",
   "name": "python",
   "nbconvert_exporter": "python",
   "pygments_lexer": "ipython3",
   "version": "3.11.11"
  },
  "papermill": {
   "default_parameters": {},
   "duration": 1083.968673,
   "end_time": "2025-06-01T10:58:58.543517",
   "environment_variables": {},
   "exception": null,
   "input_path": "__notebook__.ipynb",
   "output_path": "__notebook__.ipynb",
   "parameters": {},
   "start_time": "2025-06-01T10:40:54.574844",
   "version": "2.6.0"
  }
 },
 "nbformat": 4,
 "nbformat_minor": 5
}
