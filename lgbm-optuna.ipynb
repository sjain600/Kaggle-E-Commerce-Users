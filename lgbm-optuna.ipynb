{
 "cells": [
  {
   "cell_type": "code",
   "execution_count": 1,
   "id": "3df7bb28",
   "metadata": {
    "_cell_guid": "b1076dfc-b9ad-4769-8c92-a6c4dae69d19",
    "_uuid": "8f2839f25d086af736a60e9eeb907d3b93b6e0e5",
    "execution": {
     "iopub.execute_input": "2025-06-01T12:57:28.864122Z",
     "iopub.status.busy": "2025-06-01T12:57:28.863706Z",
     "iopub.status.idle": "2025-06-01T12:57:31.565077Z",
     "shell.execute_reply": "2025-06-01T12:57:31.563719Z"
    },
    "papermill": {
     "duration": 2.709491,
     "end_time": "2025-06-01T12:57:31.566878",
     "exception": false,
     "start_time": "2025-06-01T12:57:28.857387",
     "status": "completed"
    },
    "tags": []
   },
   "outputs": [
    {
     "name": "stdout",
     "output_type": "stream",
     "text": [
      "/kaggle/input/prediction-of-e-commerce-users/submission.csv\n",
      "/kaggle/input/prediction-of-e-commerce-users/train_df.csv\n",
      "/kaggle/input/prediction-of-e-commerce-users/test_df.csv\n"
     ]
    }
   ],
   "source": [
    "# This Python 3 environment comes with many helpful analytics libraries installed\n",
    "# It is defined by the kaggle/python Docker image: https://github.com/kaggle/docker-python\n",
    "# For example, here's several helpful packages to load\n",
    "#%load_ext cudf.pandas\n",
    "import numpy as np # linear algebra\n",
    "import pandas as pd # data processing, CSV file I/O (e.g. pd.read_csv)\n",
    "\n",
    "import optuna\n",
    "\n",
    "# Input data files are available in the read-only \"../input/\" directory\n",
    "# For example, running this (by clicking run or pressing Shift+Enter) will list all files under the input directory\n",
    "\n",
    "import os\n",
    "for dirname, _, filenames in os.walk('/kaggle/input'):\n",
    "    for filename in filenames:\n",
    "        print(os.path.join(dirname, filename))\n",
    "\n",
    "import warnings\n",
    "warnings.filterwarnings('ignore', category=pd.errors.PerformanceWarning)\n",
    "\n",
    "# You can write up to 20GB to the current directory (/kaggle/working/) that gets preserved as output when you create a version using \"Save & Run All\" \n",
    "# You can also write temporary files to /kaggle/temp/, but they won't be saved outside of the current session"
   ]
  },
  {
   "cell_type": "code",
   "execution_count": 2,
   "id": "67d5331d",
   "metadata": {
    "execution": {
     "iopub.execute_input": "2025-06-01T12:57:31.576854Z",
     "iopub.status.busy": "2025-06-01T12:57:31.576475Z",
     "iopub.status.idle": "2025-06-01T12:57:31.687402Z",
     "shell.execute_reply": "2025-06-01T12:57:31.686333Z"
    },
    "papermill": {
     "duration": 0.117975,
     "end_time": "2025-06-01T12:57:31.689438",
     "exception": false,
     "start_time": "2025-06-01T12:57:31.571463",
     "status": "completed"
    },
    "tags": []
   },
   "outputs": [],
   "source": [
    "train = pd.read_csv('/kaggle/input/prediction-of-e-commerce-users/train_df.csv', parse_dates=['datetime'])\n",
    "test = pd.read_csv('/kaggle/input/prediction-of-e-commerce-users/test_df.csv', parse_dates=['datetime'])"
   ]
  },
  {
   "cell_type": "code",
   "execution_count": 3,
   "id": "eeea21bb",
   "metadata": {
    "execution": {
     "iopub.execute_input": "2025-06-01T12:57:31.699001Z",
     "iopub.status.busy": "2025-06-01T12:57:31.698700Z",
     "iopub.status.idle": "2025-06-01T12:57:31.705859Z",
     "shell.execute_reply": "2025-06-01T12:57:31.704897Z"
    },
    "papermill": {
     "duration": 0.0139,
     "end_time": "2025-06-01T12:57:31.707634",
     "exception": false,
     "start_time": "2025-06-01T12:57:31.693734",
     "status": "completed"
    },
    "tags": []
   },
   "outputs": [
    {
     "data": {
      "text/plain": [
       "(23376, 5)"
      ]
     },
     "execution_count": 3,
     "metadata": {},
     "output_type": "execute_result"
    }
   ],
   "source": [
    "train.shape"
   ]
  },
  {
   "cell_type": "code",
   "execution_count": 4,
   "id": "b225a8e2",
   "metadata": {
    "execution": {
     "iopub.execute_input": "2025-06-01T12:57:31.723473Z",
     "iopub.status.busy": "2025-06-01T12:57:31.722727Z",
     "iopub.status.idle": "2025-06-01T12:57:31.729322Z",
     "shell.execute_reply": "2025-06-01T12:57:31.728175Z"
    },
    "papermill": {
     "duration": 0.015958,
     "end_time": "2025-06-01T12:57:31.730947",
     "exception": false,
     "start_time": "2025-06-01T12:57:31.714989",
     "status": "completed"
    },
    "tags": []
   },
   "outputs": [
    {
     "data": {
      "text/plain": [
       "(2928, 4)"
      ]
     },
     "execution_count": 4,
     "metadata": {},
     "output_type": "execute_result"
    }
   ],
   "source": [
    "test.shape"
   ]
  },
  {
   "cell_type": "code",
   "execution_count": 5,
   "id": "88d9e51e",
   "metadata": {
    "execution": {
     "iopub.execute_input": "2025-06-01T12:57:31.740634Z",
     "iopub.status.busy": "2025-06-01T12:57:31.740319Z",
     "iopub.status.idle": "2025-06-01T12:57:31.775991Z",
     "shell.execute_reply": "2025-06-01T12:57:31.775017Z"
    },
    "papermill": {
     "duration": 0.042232,
     "end_time": "2025-06-01T12:57:31.777487",
     "exception": false,
     "start_time": "2025-06-01T12:57:31.735255",
     "status": "completed"
    },
    "tags": []
   },
   "outputs": [
    {
     "data": {
      "text/html": [
       "<div>\n",
       "<style scoped>\n",
       "    .dataframe tbody tr th:only-of-type {\n",
       "        vertical-align: middle;\n",
       "    }\n",
       "\n",
       "    .dataframe tbody tr th {\n",
       "        vertical-align: top;\n",
       "    }\n",
       "\n",
       "    .dataframe thead th {\n",
       "        text-align: right;\n",
       "    }\n",
       "</style>\n",
       "<table border=\"1\" class=\"dataframe\">\n",
       "  <thead>\n",
       "    <tr style=\"text-align: right;\">\n",
       "      <th></th>\n",
       "      <th>datetime</th>\n",
       "      <th>e_users</th>\n",
       "      <th>promotion_1</th>\n",
       "      <th>promotion_2</th>\n",
       "      <th>promotion_3</th>\n",
       "    </tr>\n",
       "  </thead>\n",
       "  <tbody>\n",
       "    <tr>\n",
       "      <th>6305</th>\n",
       "      <td>2022-09-20 17:00:00</td>\n",
       "      <td>50601</td>\n",
       "      <td>24.00</td>\n",
       "      <td>69.55</td>\n",
       "      <td>59.42</td>\n",
       "    </tr>\n",
       "    <tr>\n",
       "      <th>15416</th>\n",
       "      <td>2023-10-05 08:00:00</td>\n",
       "      <td>41755</td>\n",
       "      <td>16.62</td>\n",
       "      <td>91.85</td>\n",
       "      <td>80.29</td>\n",
       "    </tr>\n",
       "    <tr>\n",
       "      <th>14777</th>\n",
       "      <td>2023-09-08 17:00:00</td>\n",
       "      <td>38014</td>\n",
       "      <td>18.82</td>\n",
       "      <td>73.05</td>\n",
       "      <td>57.41</td>\n",
       "    </tr>\n",
       "    <tr>\n",
       "      <th>111</th>\n",
       "      <td>2022-01-05 15:00:00</td>\n",
       "      <td>63658</td>\n",
       "      <td>13.88</td>\n",
       "      <td>89.28</td>\n",
       "      <td>77.89</td>\n",
       "    </tr>\n",
       "    <tr>\n",
       "      <th>701</th>\n",
       "      <td>2022-01-30 05:00:00</td>\n",
       "      <td>56272</td>\n",
       "      <td>10.34</td>\n",
       "      <td>94.20</td>\n",
       "      <td>89.17</td>\n",
       "    </tr>\n",
       "    <tr>\n",
       "      <th>18244</th>\n",
       "      <td>2024-01-31 04:00:00</td>\n",
       "      <td>52879</td>\n",
       "      <td>13.08</td>\n",
       "      <td>95.12</td>\n",
       "      <td>90.39</td>\n",
       "    </tr>\n",
       "    <tr>\n",
       "      <th>5472</th>\n",
       "      <td>2022-08-17 00:00:00</td>\n",
       "      <td>42476</td>\n",
       "      <td>19.28</td>\n",
       "      <td>87.44</td>\n",
       "      <td>81.11</td>\n",
       "    </tr>\n",
       "    <tr>\n",
       "      <th>23075</th>\n",
       "      <td>2024-08-19 11:00:00</td>\n",
       "      <td>47888</td>\n",
       "      <td>24.27</td>\n",
       "      <td>87.59</td>\n",
       "      <td>63.21</td>\n",
       "    </tr>\n",
       "  </tbody>\n",
       "</table>\n",
       "</div>"
      ],
      "text/plain": [
       "                 datetime  e_users  promotion_1  promotion_2  promotion_3\n",
       "6305  2022-09-20 17:00:00    50601        24.00        69.55        59.42\n",
       "15416 2023-10-05 08:00:00    41755        16.62        91.85        80.29\n",
       "14777 2023-09-08 17:00:00    38014        18.82        73.05        57.41\n",
       "111   2022-01-05 15:00:00    63658        13.88        89.28        77.89\n",
       "701   2022-01-30 05:00:00    56272        10.34        94.20        89.17\n",
       "18244 2024-01-31 04:00:00    52879        13.08        95.12        90.39\n",
       "5472  2022-08-17 00:00:00    42476        19.28        87.44        81.11\n",
       "23075 2024-08-19 11:00:00    47888        24.27        87.59        63.21"
      ]
     },
     "execution_count": 5,
     "metadata": {},
     "output_type": "execute_result"
    }
   ],
   "source": [
    "train.sample(8)"
   ]
  },
  {
   "cell_type": "code",
   "execution_count": 6,
   "id": "5a5a070a",
   "metadata": {
    "execution": {
     "iopub.execute_input": "2025-06-01T12:57:31.787736Z",
     "iopub.status.busy": "2025-06-01T12:57:31.787365Z",
     "iopub.status.idle": "2025-06-01T12:57:34.367843Z",
     "shell.execute_reply": "2025-06-01T12:57:34.366757Z"
    },
    "papermill": {
     "duration": 2.587632,
     "end_time": "2025-06-01T12:57:34.369624",
     "exception": false,
     "start_time": "2025-06-01T12:57:31.781992",
     "status": "completed"
    },
    "tags": []
   },
   "outputs": [
    {
     "name": "stderr",
     "output_type": "stream",
     "text": [
      "/usr/local/lib/python3.11/dist-packages/seaborn/_oldcore.py:1119: FutureWarning: use_inf_as_na option is deprecated and will be removed in a future version. Convert inf values to NaN before operating instead.\n",
      "  with pd.option_context('mode.use_inf_as_na', True):\n"
     ]
    },
    {
     "data": {
      "text/plain": [
       "<Axes: xlabel='e_users', ylabel='Count'>"
      ]
     },
     "execution_count": 6,
     "metadata": {},
     "output_type": "execute_result"
    },
    {
     "data": {
      "image/png": "[encoded data removed]",
      "text/plain": [
       "<Figure size 640x480 with 1 Axes>"
      ]
     },
     "metadata": {},
     "output_type": "display_data"
    }
   ],
   "source": [
    "import seaborn as sns\n",
    "import matplotlib.pyplot as plt\n",
    "\n",
    "sns.histplot(x='e_users', data=train, kde=True, bins=50,)"
   ]
  },
  {
   "cell_type": "code",
   "execution_count": 7,
   "id": "85b2a01b",
   "metadata": {
    "execution": {
     "iopub.execute_input": "2025-06-01T12:57:34.381248Z",
     "iopub.status.busy": "2025-06-01T12:57:34.380722Z",
     "iopub.status.idle": "2025-06-01T12:57:34.776087Z",
     "shell.execute_reply": "2025-06-01T12:57:34.775158Z"
    },
    "papermill": {
     "duration": 0.402957,
     "end_time": "2025-06-01T12:57:34.777621",
     "exception": false,
     "start_time": "2025-06-01T12:57:34.374664",
     "status": "completed"
    },
    "tags": []
   },
   "outputs": [
    {
     "name": "stderr",
     "output_type": "stream",
     "text": [
      "/usr/local/lib/python3.11/dist-packages/seaborn/_oldcore.py:1119: FutureWarning: use_inf_as_na option is deprecated and will be removed in a future version. Convert inf values to NaN before operating instead.\n",
      "  with pd.option_context('mode.use_inf_as_na', True):\n"
     ]
    },
    {
     "data": {
      "text/plain": [
       "<Axes: xlabel='e_users', ylabel='Count'>"
      ]
     },
     "execution_count": 7,
     "metadata": {},
     "output_type": "execute_result"
    },
    {
     "data": {
      "image/png": "[encoded data removed]",
      "text/plain": [
       "<Figure size 640x480 with 1 Axes>"
      ]
     },
     "metadata": {},
     "output_type": "display_data"
    }
   ],
   "source": [
    "sns.histplot(np.log1p(train['e_users']), kde=True, bins=50)"
   ]
  },
  {
   "cell_type": "markdown",
   "id": "8ff93007",
   "metadata": {
    "papermill": {
     "duration": 0.005601,
     "end_time": "2025-06-01T12:57:34.789110",
     "exception": false,
     "start_time": "2025-06-01T12:57:34.783509",
     "status": "completed"
    },
    "tags": []
   },
   "source": [
    "As we can see from both plots that the target variable is rightly-skewed but with log transformed is approximately normally distributed."
   ]
  },
  {
   "cell_type": "code",
   "execution_count": 8,
   "id": "2d8191ae",
   "metadata": {
    "execution": {
     "iopub.execute_input": "2025-06-01T12:57:34.802986Z",
     "iopub.status.busy": "2025-06-01T12:57:34.802649Z",
     "iopub.status.idle": "2025-06-01T12:57:34.811380Z",
     "shell.execute_reply": "2025-06-01T12:57:34.810348Z"
    },
    "papermill": {
     "duration": 0.01823,
     "end_time": "2025-06-01T12:57:34.812907",
     "exception": false,
     "start_time": "2025-06-01T12:57:34.794677",
     "status": "completed"
    },
    "tags": []
   },
   "outputs": [
    {
     "data": {
      "text/plain": [
       "datetime       0\n",
       "e_users        0\n",
       "promotion_1    0\n",
       "promotion_2    0\n",
       "promotion_3    0\n",
       "dtype: int64"
      ]
     },
     "execution_count": 8,
     "metadata": {},
     "output_type": "execute_result"
    }
   ],
   "source": [
    "train.isnull().sum()"
   ]
  },
  {
   "cell_type": "code",
   "execution_count": 9,
   "id": "ae4825f8",
   "metadata": {
    "execution": {
     "iopub.execute_input": "2025-06-01T12:57:34.825784Z",
     "iopub.status.busy": "2025-06-01T12:57:34.825440Z",
     "iopub.status.idle": "2025-06-01T12:57:34.833311Z",
     "shell.execute_reply": "2025-06-01T12:57:34.832135Z"
    },
    "papermill": {
     "duration": 0.016262,
     "end_time": "2025-06-01T12:57:34.834924",
     "exception": false,
     "start_time": "2025-06-01T12:57:34.818662",
     "status": "completed"
    },
    "tags": []
   },
   "outputs": [
    {
     "data": {
      "text/plain": [
       "datetime       0\n",
       "promotion_1    0\n",
       "promotion_2    0\n",
       "promotion_3    0\n",
       "dtype: int64"
      ]
     },
     "execution_count": 9,
     "metadata": {},
     "output_type": "execute_result"
    }
   ],
   "source": [
    "test.isnull().sum()"
   ]
  },
  {
   "cell_type": "code",
   "execution_count": 10,
   "id": "0681584f",
   "metadata": {
    "execution": {
     "iopub.execute_input": "2025-06-01T12:57:34.848278Z",
     "iopub.status.busy": "2025-06-01T12:57:34.847884Z",
     "iopub.status.idle": "2025-06-01T12:57:34.877507Z",
     "shell.execute_reply": "2025-06-01T12:57:34.876482Z"
    },
    "papermill": {
     "duration": 0.038032,
     "end_time": "2025-06-01T12:57:34.879110",
     "exception": false,
     "start_time": "2025-06-01T12:57:34.841078",
     "status": "completed"
    },
    "tags": []
   },
   "outputs": [
    {
     "data": {
      "text/html": [
       "<div>\n",
       "<style scoped>\n",
       "    .dataframe tbody tr th:only-of-type {\n",
       "        vertical-align: middle;\n",
       "    }\n",
       "\n",
       "    .dataframe tbody tr th {\n",
       "        vertical-align: top;\n",
       "    }\n",
       "\n",
       "    .dataframe thead th {\n",
       "        text-align: right;\n",
       "    }\n",
       "</style>\n",
       "<table border=\"1\" class=\"dataframe\">\n",
       "  <thead>\n",
       "    <tr style=\"text-align: right;\">\n",
       "      <th></th>\n",
       "      <th>datetime</th>\n",
       "      <th>e_users</th>\n",
       "      <th>promotion_1</th>\n",
       "      <th>promotion_2</th>\n",
       "      <th>promotion_3</th>\n",
       "    </tr>\n",
       "  </thead>\n",
       "  <tbody>\n",
       "    <tr>\n",
       "      <th>count</th>\n",
       "      <td>23376</td>\n",
       "      <td>23376.000000</td>\n",
       "      <td>23376.000000</td>\n",
       "      <td>23376.000000</td>\n",
       "      <td>23376.000000</td>\n",
       "    </tr>\n",
       "    <tr>\n",
       "      <th>mean</th>\n",
       "      <td>2023-05-02 23:29:59.999999744</td>\n",
       "      <td>52846.660207</td>\n",
       "      <td>15.598461</td>\n",
       "      <td>81.392785</td>\n",
       "      <td>74.453931</td>\n",
       "    </tr>\n",
       "    <tr>\n",
       "      <th>min</th>\n",
       "      <td>2022-01-01 00:00:00</td>\n",
       "      <td>29365.000000</td>\n",
       "      <td>1.050000</td>\n",
       "      <td>15.930000</td>\n",
       "      <td>41.600000</td>\n",
       "    </tr>\n",
       "    <tr>\n",
       "      <th>25%</th>\n",
       "      <td>2022-09-01 11:45:00</td>\n",
       "      <td>43573.750000</td>\n",
       "      <td>11.890000</td>\n",
       "      <td>75.200000</td>\n",
       "      <td>67.880000</td>\n",
       "    </tr>\n",
       "    <tr>\n",
       "      <th>50%</th>\n",
       "      <td>2023-05-02 23:30:00</td>\n",
       "      <td>51071.500000</td>\n",
       "      <td>15.130000</td>\n",
       "      <td>86.310000</td>\n",
       "      <td>76.715000</td>\n",
       "    </tr>\n",
       "    <tr>\n",
       "      <th>75%</th>\n",
       "      <td>2024-01-01 11:15:00</td>\n",
       "      <td>61238.250000</td>\n",
       "      <td>18.972500</td>\n",
       "      <td>91.640000</td>\n",
       "      <td>82.360000</td>\n",
       "    </tr>\n",
       "    <tr>\n",
       "      <th>max</th>\n",
       "      <td>2024-08-31 23:00:00</td>\n",
       "      <td>96130.000000</td>\n",
       "      <td>31.480000</td>\n",
       "      <td>100.050000</td>\n",
       "      <td>92.480000</td>\n",
       "    </tr>\n",
       "    <tr>\n",
       "      <th>std</th>\n",
       "      <td>NaN</td>\n",
       "      <td>11911.319411</td>\n",
       "      <td>4.827803</td>\n",
       "      <td>14.246880</td>\n",
       "      <td>9.991424</td>\n",
       "    </tr>\n",
       "  </tbody>\n",
       "</table>\n",
       "</div>"
      ],
      "text/plain": [
       "                            datetime       e_users   promotion_1  \\\n",
       "count                          23376  23376.000000  23376.000000   \n",
       "mean   2023-05-02 23:29:59.999999744  52846.660207     15.598461   \n",
       "min              2022-01-01 00:00:00  29365.000000      1.050000   \n",
       "25%              2022-09-01 11:45:00  43573.750000     11.890000   \n",
       "50%              2023-05-02 23:30:00  51071.500000     15.130000   \n",
       "75%              2024-01-01 11:15:00  61238.250000     18.972500   \n",
       "max              2024-08-31 23:00:00  96130.000000     31.480000   \n",
       "std                              NaN  11911.319411      4.827803   \n",
       "\n",
       "        promotion_2   promotion_3  \n",
       "count  23376.000000  23376.000000  \n",
       "mean      81.392785     74.453931  \n",
       "min       15.930000     41.600000  \n",
       "25%       75.200000     67.880000  \n",
       "50%       86.310000     76.715000  \n",
       "75%       91.640000     82.360000  \n",
       "max      100.050000     92.480000  \n",
       "std       14.246880      9.991424  "
      ]
     },
     "execution_count": 10,
     "metadata": {},
     "output_type": "execute_result"
    }
   ],
   "source": [
    "train.describe()"
   ]
  },
  {
   "cell_type": "code",
   "execution_count": 11,
   "id": "75244876",
   "metadata": {
    "execution": {
     "iopub.execute_input": "2025-06-01T12:57:34.892715Z",
     "iopub.status.busy": "2025-06-01T12:57:34.892404Z",
     "iopub.status.idle": "2025-06-01T12:57:34.911819Z",
     "shell.execute_reply": "2025-06-01T12:57:34.910659Z"
    },
    "papermill": {
     "duration": 0.028485,
     "end_time": "2025-06-01T12:57:34.913797",
     "exception": false,
     "start_time": "2025-06-01T12:57:34.885312",
     "status": "completed"
    },
    "tags": []
   },
   "outputs": [
    {
     "name": "stdout",
     "output_type": "stream",
     "text": [
      "<class 'pandas.core.frame.DataFrame'>\n",
      "RangeIndex: 23376 entries, 0 to 23375\n",
      "Data columns (total 5 columns):\n",
      " #   Column       Non-Null Count  Dtype         \n",
      "---  ------       --------------  -----         \n",
      " 0   datetime     23376 non-null  datetime64[ns]\n",
      " 1   e_users      23376 non-null  int64         \n",
      " 2   promotion_1  23376 non-null  float64       \n",
      " 3   promotion_2  23376 non-null  float64       \n",
      " 4   promotion_3  23376 non-null  float64       \n",
      "dtypes: datetime64[ns](1), float64(3), int64(1)\n",
      "memory usage: 913.3 KB\n"
     ]
    }
   ],
   "source": [
    "train.info()"
   ]
  },
  {
   "cell_type": "code",
   "execution_count": 12,
   "id": "792a37bf",
   "metadata": {
    "execution": {
     "iopub.execute_input": "2025-06-01T12:57:34.927122Z",
     "iopub.status.busy": "2025-06-01T12:57:34.926776Z",
     "iopub.status.idle": "2025-06-01T12:57:34.931421Z",
     "shell.execute_reply": "2025-06-01T12:57:34.930473Z"
    },
    "papermill": {
     "duration": 0.013204,
     "end_time": "2025-06-01T12:57:34.932969",
     "exception": false,
     "start_time": "2025-06-01T12:57:34.919765",
     "status": "completed"
    },
    "tags": []
   },
   "outputs": [],
   "source": [
    "features = ['promotion_1', 'promotion_2', 'promotion_3']"
   ]
  },
  {
   "cell_type": "code",
   "execution_count": 13,
   "id": "3a7a6820",
   "metadata": {
    "execution": {
     "iopub.execute_input": "2025-06-01T12:57:34.946741Z",
     "iopub.status.busy": "2025-06-01T12:57:34.946419Z",
     "iopub.status.idle": "2025-06-01T12:57:34.958930Z",
     "shell.execute_reply": "2025-06-01T12:57:34.957937Z"
    },
    "papermill": {
     "duration": 0.021436,
     "end_time": "2025-06-01T12:57:34.960818",
     "exception": false,
     "start_time": "2025-06-01T12:57:34.939382",
     "status": "completed"
    },
    "tags": []
   },
   "outputs": [],
   "source": [
    "def fe(df):\n",
    "    \n",
    "    df['day_of_year'] = df['datetime'].dt.dayofyear\n",
    "    df['year_sin'] = np.sin(2 * np.pi * df['day_of_year'] / 365)\n",
    "    df['year_cos'] = np.cos(2 * np.pi * df['day_of_year'] / 365)\n",
    "    \n",
    "    df['month'] = df['datetime'].dt.month\n",
    "    df['month_sin'] = np.sin(2 * np.pi * df['month'] / 12)\n",
    "    df['month_cos'] = np.cos(2 * np.pi * df['month'] / 12)\n",
    "    \n",
    "    df['hour'] = df['datetime'].dt.hour\n",
    "    df['hour_sin'] = np.sin(2 * np.pi * df['hour'] / 24)\n",
    "    df['hour_cos'] = np.cos(2 * np.pi * df['hour'] / 24)\n",
    "\n",
    "    df['week'] = df['datetime'].dt.isocalendar().week\n",
    "    df['sin_week'] = np.sin(2 * np.pi * df['week'] / 52).astype(float)\n",
    "    df['cos_week'] = np.cos(2 * np.pi * df['week'] / 52).astype(float)\n",
    "\n",
    "    df['dayofweek'] = df['datetime'].dt.dayofweek\n",
    "    df['sin_dayofweek'] = np.sin(2 * np.pi * df['dayofweek'] / 7)\n",
    "    df['cos_dayofweek'] = np.cos(2 * np.pi * df['dayofweek'] / 7)  \n",
    "\n",
    "    for lag in [1, 7, 10, 14, 24, 48, 72]:  \n",
    "        for col in ['promotion_1', 'promotion_2', 'promotion_3']:\n",
    "            df[f'{col}_lag_{lag}'] = df[col].shift(lag).fillna(0.0)\n",
    "            df[f'{col}_diff_{lag}'] = df[col].diff(lag).fillna(0.0)\n",
    "    \n",
    "\n",
    "    df['day'] = df['datetime'].dt.day\n",
    "    df['year'] = df['datetime'].dt.year\n",
    "\n",
    "    df['on_season'] = np.where(df['datetime'].dt.month.isin([11, 12, 1, 2, 3, 4]), 1, 0)\n",
    "\n",
    "    df['is_off_week'] = np.where(df['datetime'].dt.dayofweek.isin([2,3,4]), 1, 0)\n",
    "\n",
    "    for period in [6, 12, 24, 48, 72]:\n",
    "        for col in features:\n",
    "            df[f'{col}_mean_{period}'] = df[col].rolling(period).mean()\n",
    "            df[f'{col}_std_{period}'] = df[col].rolling(period).std()\n",
    "            df[f'{col}_max_{period}'] = df[col].rolling(period).max()\n",
    "            df[f'{col}_min_{period}'] = df[col].rolling(period).min()\n",
    "            df[f'{col}_median_{period}'] = df[col].rolling(period).median()\n",
    "    \n",
    "    df.drop(['datetime'], axis=1, inplace=True)\n",
    "\n",
    "    return df"
   ]
  },
  {
   "cell_type": "code",
   "execution_count": 14,
   "id": "47ff677e",
   "metadata": {
    "execution": {
     "iopub.execute_input": "2025-06-01T12:57:34.975299Z",
     "iopub.status.busy": "2025-06-01T12:57:34.974864Z",
     "iopub.status.idle": "2025-06-01T12:57:34.981029Z",
     "shell.execute_reply": "2025-06-01T12:57:34.979835Z"
    },
    "papermill": {
     "duration": 0.015054,
     "end_time": "2025-06-01T12:57:34.982805",
     "exception": false,
     "start_time": "2025-06-01T12:57:34.967751",
     "status": "completed"
    },
    "tags": []
   },
   "outputs": [],
   "source": [
    "def add_interact(df):\n",
    "    for i, c1 in enumerate(features):\n",
    "        for c2 in (features[i+1:]):\n",
    "            m = f'{c1}*{c2}'\n",
    "            df[m] = df[c1] * df[c2]\n",
    "            a = f'{c1}+{c2}'\n",
    "            df[a] = df[c1] + df[c2]\n",
    "            d = f'{c1}/{c2}'\n",
    "            df[d] = df[c1] / (df[c2] + 1e-5)\n",
    "    return df"
   ]
  },
  {
   "cell_type": "code",
   "execution_count": 15,
   "id": "2bf9d933",
   "metadata": {
    "execution": {
     "iopub.execute_input": "2025-06-01T12:57:34.996234Z",
     "iopub.status.busy": "2025-06-01T12:57:34.995849Z",
     "iopub.status.idle": "2025-06-01T12:57:35.483377Z",
     "shell.execute_reply": "2025-06-01T12:57:35.482394Z"
    },
    "papermill": {
     "duration": 0.496471,
     "end_time": "2025-06-01T12:57:35.485336",
     "exception": false,
     "start_time": "2025-06-01T12:57:34.988865",
     "status": "completed"
    },
    "tags": []
   },
   "outputs": [],
   "source": [
    "X = train.copy()\n",
    "y = X.pop('e_users')\n",
    "X = fe(X)\n",
    "X = add_interact(X)\n",
    "\n",
    "X_test = test.copy()\n",
    "X_test = fe(X_test)\n",
    "X_test = add_interact(X_test)"
   ]
  },
  {
   "cell_type": "code",
   "execution_count": 16,
   "id": "3a6b950c",
   "metadata": {
    "execution": {
     "iopub.execute_input": "2025-06-01T12:57:35.501337Z",
     "iopub.status.busy": "2025-06-01T12:57:35.500904Z",
     "iopub.status.idle": "2025-06-01T12:57:35.516457Z",
     "shell.execute_reply": "2025-06-01T12:57:35.515288Z"
    },
    "papermill": {
     "duration": 0.025436,
     "end_time": "2025-06-01T12:57:35.518058",
     "exception": false,
     "start_time": "2025-06-01T12:57:35.492622",
     "status": "completed"
    },
    "tags": []
   },
   "outputs": [
    {
     "name": "stdout",
     "output_type": "stream",
     "text": [
      "<class 'pandas.core.frame.DataFrame'>\n",
      "RangeIndex: 23376 entries, 0 to 23375\n",
      "Columns: 148 entries, promotion_1 to promotion_2/promotion_3\n",
      "dtypes: UInt32(1), float64(139), int32(6), int64(2)\n",
      "memory usage: 25.8 MB\n"
     ]
    }
   ],
   "source": [
    "X.info()"
   ]
  },
  {
   "cell_type": "code",
   "execution_count": 17,
   "id": "fd89ae76",
   "metadata": {
    "execution": {
     "iopub.execute_input": "2025-06-01T12:57:35.531771Z",
     "iopub.status.busy": "2025-06-01T12:57:35.531453Z",
     "iopub.status.idle": "2025-06-01T13:32:54.257519Z",
     "shell.execute_reply": "2025-06-01T13:32:54.254079Z"
    },
    "papermill": {
     "duration": 2118.741833,
     "end_time": "2025-06-01T13:32:54.266139",
     "exception": false,
     "start_time": "2025-06-01T12:57:35.524306",
     "status": "completed"
    },
    "tags": []
   },
   "outputs": [
    {
     "name": "stderr",
     "output_type": "stream",
     "text": [
      "[I 2025-06-01 12:57:41,766] A new study created in memory with name: LGBM-RMSE-Optimization\n",
      "[I 2025-06-01 12:57:51,224] Trial 0 finished with value: 3107.1673773634893 and parameters: {'n_estimators': 7260, 'min_child_samples': 16, 'num_leaves': 88, 'learning_rate': 0.0878729527635045, 'min_split_gain': 0.03775084952778052, 'max_depth': 2, 'reg_alpha': 6.707820098183061, 'reg_lambda': 9.084554453400418, 'colsample_bytree': 0.5683532948424765, 'min_child_weight': 5.7513582009430735, 'boosting_type': 'gbdt'}. Best is trial 0 with value: 3107.1673773634893.\n",
      "[I 2025-06-01 12:57:59,522] Trial 1 finished with value: 3095.8797929053494 and parameters: {'n_estimators': 5112, 'min_child_samples': 8, 'num_leaves': 48, 'learning_rate': 0.17858405626628282, 'min_split_gain': 6.493465192714586, 'max_depth': 3, 'reg_alpha': 8.162431262509674, 'reg_lambda': 3.0155371437116494, 'colsample_bytree': 0.7158520918315608, 'min_child_weight': 9.400358166404123, 'boosting_type': 'gbdt'}. Best is trial 1 with value: 3095.8797929053494.\n",
      "[I 2025-06-01 12:58:33,774] Trial 2 finished with value: 4235.451597473291 and parameters: {'n_estimators': 5052, 'min_child_samples': 20, 'num_leaves': 6, 'learning_rate': 0.0038092599530646773, 'min_split_gain': 6.365300067786299, 'max_depth': 1, 'reg_alpha': 5.988834925908001, 'reg_lambda': 6.642246124932347, 'colsample_bytree': 0.5525738427060282, 'min_child_weight': 3.8200525059861574, 'boosting_type': 'goss'}. Best is trial 1 with value: 3095.8797929053494.\n",
      "[I 2025-06-01 13:02:05,566] Trial 3 finished with value: 3330.090639971559 and parameters: {'n_estimators': 9886, 'min_child_samples': 5, 'num_leaves': 179, 'learning_rate': 0.021255320341791117, 'min_split_gain': 5.939837512783819, 'max_depth': 9, 'reg_alpha': 5.818840081795381, 'reg_lambda': 0.22581001316412783, 'colsample_bytree': 0.6050132888364304, 'min_child_weight': 5.447304096908297, 'boosting_type': 'gbdt'}. Best is trial 1 with value: 3095.8797929053494.\n",
      "[I 2025-06-01 13:02:20,713] Trial 4 finished with value: 3262.079062814101 and parameters: {'n_estimators': 5715, 'min_child_samples': 43, 'num_leaves': 196, 'learning_rate': 0.10866106820126445, 'min_split_gain': 2.876062751495218, 'max_depth': 8, 'reg_alpha': 3.5486013209613407, 'reg_lambda': 3.742752178861733, 'colsample_bytree': 0.5890404947529024, 'min_child_weight': 2.3777043920318803, 'boosting_type': 'goss'}. Best is trial 1 with value: 3095.8797929053494.\n",
      "[I 2025-06-01 13:17:36,533] Trial 5 finished with value: 3313.123858704562 and parameters: {'n_estimators': 6257, 'min_child_samples': 31, 'num_leaves': 128, 'learning_rate': 0.0021287644106457305, 'min_split_gain': 7.470730395731352, 'max_depth': 13, 'reg_alpha': 6.0233642806509256, 'reg_lambda': 4.266041317312612, 'colsample_bytree': 0.6815940020546749, 'min_child_weight': 2.0442484234095737, 'boosting_type': 'gbdt'}. Best is trial 1 with value: 3095.8797929053494.\n",
      "[I 2025-06-01 13:18:06,127] Trial 6 finished with value: 3119.564629493606 and parameters: {'n_estimators': 5041, 'min_child_samples': 49, 'num_leaves': 192, 'learning_rate': 0.02376596122700993, 'min_split_gain': 5.850406024479381, 'max_depth': 5, 'reg_alpha': 0.9214639781690089, 'reg_lambda': 5.099014710289688, 'colsample_bytree': 0.754349446619097, 'min_child_weight': 0.885513269855905, 'boosting_type': 'goss'}. Best is trial 1 with value: 3095.8797929053494.\n",
      "[I 2025-06-01 13:18:34,648] Trial 7 finished with value: 3299.2193818652354 and parameters: {'n_estimators': 6370, 'min_child_samples': 19, 'num_leaves': 162, 'learning_rate': 0.05442264732956856, 'min_split_gain': 2.5045315327080777, 'max_depth': 9, 'reg_alpha': 5.404505348431864, 'reg_lambda': 3.2654344659292818, 'colsample_bytree': 0.5553939505912229, 'min_child_weight': 3.1270903384595554, 'boosting_type': 'goss'}. Best is trial 1 with value: 3095.8797929053494.\n",
      "[I 2025-06-01 13:19:24,478] Trial 8 finished with value: 3275.421728304179 and parameters: {'n_estimators': 5525, 'min_child_samples': 33, 'num_leaves': 44, 'learning_rate': 0.03259976004644219, 'min_split_gain': 6.226313723598788, 'max_depth': 11, 'reg_alpha': 6.1036712039407295, 'reg_lambda': 3.3996948334198995, 'colsample_bytree': 0.848867453756478, 'min_child_weight': 8.596323338994923, 'boosting_type': 'goss'}. Best is trial 1 with value: 3095.8797929053494.\n",
      "[I 2025-06-01 13:23:07,497] Trial 9 finished with value: 3184.549059441981 and parameters: {'n_estimators': 9859, 'min_child_samples': 11, 'num_leaves': 9, 'learning_rate': 0.0023435705276447245, 'min_split_gain': 7.387974602072699, 'max_depth': 13, 'reg_alpha': 2.110573208765745, 'reg_lambda': 3.9664172337098753, 'colsample_bytree': 0.7746876308138361, 'min_child_weight': 2.719036660920544, 'boosting_type': 'goss'}. Best is trial 1 with value: 3095.8797929053494.\n",
      "[I 2025-06-01 13:23:19,494] Trial 10 finished with value: 3387.3245917613613 and parameters: {'n_estimators': 4023, 'min_child_samples': 5, 'num_leaves': 72, 'learning_rate': 0.18718779276518427, 'min_split_gain': 4.324753694362663, 'max_depth': 4, 'reg_alpha': 8.659675328783301, 'reg_lambda': 0.29588531331893897, 'colsample_bytree': 0.9753552302544801, 'min_child_weight': 9.971664004605419, 'boosting_type': 'gbdt'}. Best is trial 1 with value: 3095.8797929053494.\n",
      "[I 2025-06-01 13:23:34,271] Trial 11 finished with value: 3738.603860354096 and parameters: {'n_estimators': 7828, 'min_child_samples': 15, 'num_leaves': 87, 'learning_rate': 0.08069378934174212, 'min_split_gain': 0.2278501235454013, 'max_depth': 1, 'reg_alpha': 9.01653294909747, 'reg_lambda': 10.79836665311011, 'colsample_bytree': 0.6961386365561211, 'min_child_weight': 6.5721825422868605, 'boosting_type': 'gbdt'}. Best is trial 1 with value: 3095.8797929053494.\n",
      "[I 2025-06-01 13:24:58,386] Trial 12 finished with value: 3201.34008197046 and parameters: {'n_estimators': 7824, 'min_child_samples': 23, 'num_leaves': 57, 'learning_rate': 0.006920846636460173, 'min_split_gain': 0.37826523739612145, 'max_depth': 3, 'reg_alpha': 7.662954805795481, 'reg_lambda': 8.801640435880717, 'colsample_bytree': 0.8519288400279839, 'min_child_weight': 7.641362417350985, 'boosting_type': 'gbdt'}. Best is trial 1 with value: 3095.8797929053494.\n",
      "[I 2025-06-01 13:25:13,596] Trial 13 finished with value: 3298.2561923791436 and parameters: {'n_estimators': 7502, 'min_child_samples': 11, 'num_leaves': 123, 'learning_rate': 0.18745585859497096, 'min_split_gain': 4.3814500034671475, 'max_depth': 6, 'reg_alpha': 9.982293851640339, 'reg_lambda': 7.521153799018012, 'colsample_bytree': 0.5009166468870158, 'min_child_weight': 5.411794203570974, 'boosting_type': 'gbdt'}. Best is trial 1 with value: 3095.8797929053494.\n",
      "[I 2025-06-01 13:26:03,882] Trial 14 finished with value: 3111.1327396963998 and parameters: {'n_estimators': 8722, 'min_child_samples': 3, 'num_leaves': 38, 'learning_rate': 0.010716468679825666, 'min_split_gain': 1.436967016512383, 'max_depth': 3, 'reg_alpha': 7.631829851216714, 'reg_lambda': 2.0965357283051, 'colsample_bytree': 0.6635968504018865, 'min_child_weight': 9.30202601324421, 'boosting_type': 'gbdt'}. Best is trial 1 with value: 3095.8797929053494.\n",
      "[I 2025-06-01 13:26:20,100] Trial 15 finished with value: 3228.9367184234957 and parameters: {'n_estimators': 4004, 'min_child_samples': 12, 'num_leaves': 107, 'learning_rate': 0.06782284761712432, 'min_split_gain': 3.0990524097564727, 'max_depth': 2, 'reg_alpha': 3.692611765711246, 'reg_lambda': 10.509679109180095, 'colsample_bytree': 0.8203449129036796, 'min_child_weight': 7.350382842009144, 'boosting_type': 'gbdt'}. Best is trial 1 with value: 3095.8797929053494.\n",
      "[I 2025-06-01 13:26:50,167] Trial 16 finished with value: 3383.4714283220287 and parameters: {'n_estimators': 6740, 'min_child_samples': 28, 'num_leaves': 87, 'learning_rate': 0.11343723361973822, 'min_split_gain': 5.212372328368173, 'max_depth': 6, 'reg_alpha': 7.423278289199722, 'reg_lambda': 8.928422787418006, 'colsample_bytree': 0.933552071803297, 'min_child_weight': 6.589565060093441, 'boosting_type': 'gbdt'}. Best is trial 1 with value: 3095.8797929053494.\n",
      "[I 2025-06-01 13:27:23,088] Trial 17 finished with value: 3019.050775667458 and parameters: {'n_estimators': 8486, 'min_child_samples': 37, 'num_leaves': 31, 'learning_rate': 0.04240703399849636, 'min_split_gain': 1.292833945021509, 'max_depth': 4, 'reg_alpha': 3.8483059156800277, 'reg_lambda': 6.259533334869484, 'colsample_bytree': 0.6455815961528194, 'min_child_weight': 4.143843117716839, 'boosting_type': 'gbdt'}. Best is trial 17 with value: 3019.050775667458.\n",
      "[I 2025-06-01 13:32:18,003] Trial 18 finished with value: 3221.2495580385194 and parameters: {'n_estimators': 8618, 'min_child_samples': 38, 'num_leaves': 26, 'learning_rate': 0.0010387778423404598, 'min_split_gain': 1.6616946245786564, 'max_depth': 5, 'reg_alpha': 3.9154791642444997, 'reg_lambda': 6.311205033731762, 'colsample_bytree': 0.6515584911909483, 'min_child_weight': 4.159547051802142, 'boosting_type': 'gbdt'}. Best is trial 17 with value: 3019.050775667458.\n",
      "[I 2025-06-01 13:32:54,247] Trial 19 finished with value: 3030.358113963904 and parameters: {'n_estimators': 8690, 'min_child_samples': 38, 'num_leaves': 54, 'learning_rate': 0.03611171385668252, 'min_split_gain': 7.889265395563867, 'max_depth': 4, 'reg_alpha': 4.411920103145578, 'reg_lambda': 1.4519831621529091, 'colsample_bytree': 0.724410466285449, 'min_child_weight': 0.17797302229236145, 'boosting_type': 'gbdt'}. Best is trial 17 with value: 3019.050775667458.\n"
     ]
    },
    {
     "name": "stdout",
     "output_type": "stream",
     "text": [
      "Best cross-validation RMSE: 3,019.05078\n",
      "Best parameters: {'n_estimators': 8486, 'min_child_samples': 37, 'num_leaves': 31, 'learning_rate': 0.04240703399849636, 'min_split_gain': 1.292833945021509, 'max_depth': 4, 'reg_alpha': 3.8483059156800277, 'reg_lambda': 6.259533334869484, 'colsample_bytree': 0.6455815961528194, 'min_child_weight': 4.143843117716839, 'boosting_type': 'gbdt'}\n"
     ]
    }
   ],
   "source": [
    "from sklearn.model_selection import TimeSeriesSplit\n",
    "from lightgbm import LGBMRegressor\n",
    "from sklearn.metrics import mean_squared_error\n",
    "\n",
    "tscv = TimeSeriesSplit(n_splits=5)\n",
    "oof_lgbm = np.zeros(len(y))\n",
    "test_lgbm = np.zeros(len(X_test))\n",
    "\n",
    "def objective(trial):\n",
    "    params = {\n",
    "        'n_estimators': trial.suggest_int('n_estimators', 4000, 10000),\n",
    "        'min_child_samples': trial.suggest_int('min_child_samples', 3, 50),\n",
    "        'num_leaves': trial.suggest_int('num_leaves', 5, 200),\n",
    "        'learning_rate': trial.suggest_float('learning_rate', 0.001, 0.2, log=True),\n",
    "        'min_split_gain': trial.suggest_float('min_split_gain', 0.0, 8.0),\n",
    "        'max_depth': trial.suggest_int('max_depth', 1, 13),\n",
    "        'reg_alpha': trial.suggest_float('reg_alpha', 1e-3, 10),\n",
    "        'reg_lambda': trial.suggest_float('reg_lambda', 1e-3, 11),\n",
    "        'colsample_bytree': trial.suggest_float('colsample_bytree', 0.5, 1.0),\n",
    "        'min_child_weight': trial.suggest_float('min_child_weight', 1e-3, 10,),\n",
    "        'boosting_type': trial.suggest_categorical('boosting_type', ['gbdt', 'goss']),\n",
    "        'verbose': -1,\n",
    "        'n_jobs': -1,\n",
    "    }\n",
    "\n",
    "    scores = []\n",
    "    \n",
    "    for fold, (train_index, valid_index) in enumerate(tscv.split(X, y), start=1):\n",
    "        X_train, X_valid = X.iloc[train_index].copy(), X.iloc[valid_index].copy()\n",
    "        y_train, y_valid = y.iloc[train_index], y.iloc[valid_index]\n",
    "    \n",
    "        lgbm = LGBMRegressor(**params, early_stopping_rounds=50, random_state=100).fit(X_train, y_train, eval_set=[(X_valid, y_valid)])\n",
    "        lgbm_pred = lgbm.predict(X_valid)\n",
    "        fold_rmse = np.sqrt(mean_squared_error(y_valid, lgbm_pred))\n",
    "        scores.append(fold_rmse)\n",
    "    \n",
    "    return np.mean(scores)\n",
    "    \n",
    "study = optuna.create_study(direction='minimize', study_name='LGBM-RMSE-Optimization', sampler=optuna.samplers.TPESampler(seed=100))\n",
    "study.optimize(objective, n_trials=20)\n",
    "\n",
    "print(f'Best cross-validation RMSE: {study.best_value:,.5f}')\n",
    "print(f'Best parameters: {study.best_params}')"
   ]
  },
  {
   "cell_type": "code",
   "execution_count": 18,
   "id": "2dd674bf",
   "metadata": {
    "execution": {
     "iopub.execute_input": "2025-06-01T13:32:54.358302Z",
     "iopub.status.busy": "2025-06-01T13:32:54.357553Z",
     "iopub.status.idle": "2025-06-01T13:32:54.364245Z",
     "shell.execute_reply": "2025-06-01T13:32:54.363256Z"
    },
    "papermill": {
     "duration": 0.092483,
     "end_time": "2025-06-01T13:32:54.365995",
     "exception": false,
     "start_time": "2025-06-01T13:32:54.273512",
     "status": "completed"
    },
    "tags": []
   },
   "outputs": [],
   "source": [
    "import json\n",
    "\n",
    "with open('/kaggle/working/best_lgbm_params.json', 'w') as f:\n",
    "    json.dump(study.best_params, f)"
   ]
  },
  {
   "cell_type": "code",
   "execution_count": 19,
   "id": "c9de269e",
   "metadata": {
    "execution": {
     "iopub.execute_input": "2025-06-01T13:32:54.382808Z",
     "iopub.status.busy": "2025-06-01T13:32:54.382485Z",
     "iopub.status.idle": "2025-06-01T13:33:56.691094Z",
     "shell.execute_reply": "2025-06-01T13:33:56.690284Z"
    },
    "papermill": {
     "duration": 62.318827,
     "end_time": "2025-06-01T13:33:56.692922",
     "exception": false,
     "start_time": "2025-06-01T13:32:54.374095",
     "status": "completed"
    },
    "tags": []
   },
   "outputs": [],
   "source": [
    "final_model = LGBMRegressor(**study.best_params).fit(X, y)\n",
    "test_lgbm = final_model.predict(X_test)"
   ]
  },
  {
   "cell_type": "code",
   "execution_count": 20,
   "id": "65d2baee",
   "metadata": {
    "execution": {
     "iopub.execute_input": "2025-06-01T13:33:56.709373Z",
     "iopub.status.busy": "2025-06-01T13:33:56.709009Z",
     "iopub.status.idle": "2025-06-01T13:33:56.748821Z",
     "shell.execute_reply": "2025-06-01T13:33:56.747747Z"
    },
    "papermill": {
     "duration": 0.04961,
     "end_time": "2025-06-01T13:33:56.750445",
     "exception": false,
     "start_time": "2025-06-01T13:33:56.700835",
     "status": "completed"
    },
    "tags": []
   },
   "outputs": [
    {
     "name": "stdout",
     "output_type": "stream",
     "text": [
      "Your submission was successfully saved!\n",
      "              datetime       e_users\n",
      "0  2024-09-01 00:00:00  50792.533310\n",
      "1  2024-09-01 01:00:00  48206.631484\n",
      "2  2024-09-01 02:00:00  47862.245569\n",
      "3  2024-09-01 03:00:00  45423.653638\n",
      "4  2024-09-01 04:00:00  43650.969766\n",
      "5  2024-09-01 05:00:00  41717.555395\n",
      "6  2024-09-01 06:00:00  42867.621210\n",
      "7  2024-09-01 07:00:00  43859.759588\n"
     ]
    }
   ],
   "source": [
    "sub = pd.read_csv('/kaggle/input/prediction-of-e-commerce-users/submission.csv')\n",
    "sub['e_users'] = test_lgbm\n",
    "sub.to_csv('submission.csv', index=False)\n",
    "print(\"Your submission was successfully saved!\")\n",
    "print(sub.head(8))"
   ]
  }
 ],
 "metadata": {
  "kaggle": {
   "accelerator": "none",
   "dataSources": [
    {
     "databundleVersionId": 11515802,
     "sourceId": 96904,
     "sourceType": "competition"
    }
   ],
   "dockerImageVersionId": 31040,
   "isGpuEnabled": false,
   "isInternetEnabled": true,
   "language": "python",
   "sourceType": "notebook"
  },
  "kernelspec": {
   "display_name": "Python 3",
   "language": "python",
   "name": "python3"
  },
  "language_info": {
   "codemirror_mode": {
    "name": "ipython",
    "version": 3
   },
   "file_extension": ".py",
   "mimetype": "text/x-python",
   "name": "python",
   "nbconvert_exporter": "python",
   "pygments_lexer": "ipython3",
   "version": "3.11.11"
  },
  "papermill": {
   "default_parameters": {},
   "duration": 2194.287619,
   "end_time": "2025-06-01T13:33:57.883612",
   "environment_variables": {},
   "exception": null,
   "input_path": "__notebook__.ipynb",
   "output_path": "__notebook__.ipynb",
   "parameters": {},
   "start_time": "2025-06-01T12:57:23.595993",
   "version": "2.6.0"
  }
 },
 "nbformat": 4,
 "nbformat_minor": 5
}
