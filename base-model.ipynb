{
 "cells": [
  {
   "cell_type": "code",
   "execution_count": 1,
   "id": "f7328956",
   "metadata": {
    "_cell_guid": "b1076dfc-b9ad-4769-8c92-a6c4dae69d19",
    "_uuid": "8f2839f25d086af736a60e9eeb907d3b93b6e0e5",
    "execution": {
     "iopub.execute_input": "2025-05-22T08:08:44.789484Z",
     "iopub.status.busy": "2025-05-22T08:08:44.789093Z",
     "iopub.status.idle": "2025-05-22T08:08:46.636345Z",
     "shell.execute_reply": "2025-05-22T08:08:46.635408Z"
    },
    "papermill": {
     "duration": 1.856821,
     "end_time": "2025-05-22T08:08:46.638009",
     "exception": false,
     "start_time": "2025-05-22T08:08:44.781188",
     "status": "completed"
    },
    "tags": []
   },
   "outputs": [
    {
     "name": "stdout",
     "output_type": "stream",
     "text": [
      "/kaggle/input/prediction-of-e-commerce-users/submission.csv\n",
      "/kaggle/input/prediction-of-e-commerce-users/train_df.csv\n",
      "/kaggle/input/prediction-of-e-commerce-users/test_df.csv\n"
     ]
    }
   ],
   "source": [
    "# This Python 3 environment comes with many helpful analytics libraries installed\n",
    "# It is defined by the kaggle/python Docker image: https://github.com/kaggle/docker-python\n",
    "# For example, here's several helpful packages to load\n",
    "\n",
    "import numpy as np # linear algebra\n",
    "import pandas as pd # data processing, CSV file I/O (e.g. pd.read_csv)\n",
    "\n",
    "# Input data files are available in the read-only \"../input/\" directory\n",
    "# For example, running this (by clicking run or pressing Shift+Enter) will list all files under the input directory\n",
    "\n",
    "import os\n",
    "for dirname, _, filenames in os.walk('/kaggle/input'):\n",
    "    for filename in filenames:\n",
    "        print(os.path.join(dirname, filename))\n",
    "\n",
    "# You can write up to 20GB to the current directory (/kaggle/working/) that gets preserved as output when you create a version using \"Save & Run All\" \n",
    "# You can also write temporary files to /kaggle/temp/, but they won't be saved outside of the current session"
   ]
  },
  {
   "cell_type": "code",
   "execution_count": 2,
   "id": "e3bcb328",
   "metadata": {
    "execution": {
     "iopub.execute_input": "2025-05-22T08:08:46.646666Z",
     "iopub.status.busy": "2025-05-22T08:08:46.646235Z",
     "iopub.status.idle": "2025-05-22T08:08:46.727517Z",
     "shell.execute_reply": "2025-05-22T08:08:46.726490Z"
    },
    "papermill": {
     "duration": 0.08746,
     "end_time": "2025-05-22T08:08:46.729399",
     "exception": false,
     "start_time": "2025-05-22T08:08:46.641939",
     "status": "completed"
    },
    "tags": []
   },
   "outputs": [],
   "source": [
    "train = pd.read_csv('/kaggle/input/prediction-of-e-commerce-users/train_df.csv', parse_dates=['datetime'])\n",
    "test = pd.read_csv('/kaggle/input/prediction-of-e-commerce-users/test_df.csv', parse_dates=['datetime'])"
   ]
  },
  {
   "cell_type": "code",
   "execution_count": 3,
   "id": "2a031542",
   "metadata": {
    "execution": {
     "iopub.execute_input": "2025-05-22T08:08:46.739347Z",
     "iopub.status.busy": "2025-05-22T08:08:46.738975Z",
     "iopub.status.idle": "2025-05-22T08:08:46.746399Z",
     "shell.execute_reply": "2025-05-22T08:08:46.745488Z"
    },
    "papermill": {
     "duration": 0.014358,
     "end_time": "2025-05-22T08:08:46.747982",
     "exception": false,
     "start_time": "2025-05-22T08:08:46.733624",
     "status": "completed"
    },
    "tags": []
   },
   "outputs": [
    {
     "data": {
      "text/plain": [
       "(23376, 5)"
      ]
     },
     "execution_count": 3,
     "metadata": {},
     "output_type": "execute_result"
    }
   ],
   "source": [
    "train.shape"
   ]
  },
  {
   "cell_type": "code",
   "execution_count": 4,
   "id": "6dbbee97",
   "metadata": {
    "execution": {
     "iopub.execute_input": "2025-05-22T08:08:46.759657Z",
     "iopub.status.busy": "2025-05-22T08:08:46.758730Z",
     "iopub.status.idle": "2025-05-22T08:08:46.764262Z",
     "shell.execute_reply": "2025-05-22T08:08:46.763477Z"
    },
    "papermill": {
     "duration": 0.011242,
     "end_time": "2025-05-22T08:08:46.765494",
     "exception": false,
     "start_time": "2025-05-22T08:08:46.754252",
     "status": "completed"
    },
    "tags": []
   },
   "outputs": [
    {
     "data": {
      "text/plain": [
       "(2928, 4)"
      ]
     },
     "execution_count": 4,
     "metadata": {},
     "output_type": "execute_result"
    }
   ],
   "source": [
    "test.shape"
   ]
  },
  {
   "cell_type": "code",
   "execution_count": 5,
   "id": "6e7e27fa",
   "metadata": {
    "execution": {
     "iopub.execute_input": "2025-05-22T08:08:46.773936Z",
     "iopub.status.busy": "2025-05-22T08:08:46.773630Z",
     "iopub.status.idle": "2025-05-22T08:08:46.804810Z",
     "shell.execute_reply": "2025-05-22T08:08:46.803591Z"
    },
    "papermill": {
     "duration": 0.037029,
     "end_time": "2025-05-22T08:08:46.806378",
     "exception": false,
     "start_time": "2025-05-22T08:08:46.769349",
     "status": "completed"
    },
    "tags": []
   },
   "outputs": [
    {
     "data": {
      "text/html": [
       "<div>\n",
       "<style scoped>\n",
       "    .dataframe tbody tr th:only-of-type {\n",
       "        vertical-align: middle;\n",
       "    }\n",
       "\n",
       "    .dataframe tbody tr th {\n",
       "        vertical-align: top;\n",
       "    }\n",
       "\n",
       "    .dataframe thead th {\n",
       "        text-align: right;\n",
       "    }\n",
       "</style>\n",
       "<table border=\"1\" class=\"dataframe\">\n",
       "  <thead>\n",
       "    <tr style=\"text-align: right;\">\n",
       "      <th></th>\n",
       "      <th>datetime</th>\n",
       "      <th>e_users</th>\n",
       "      <th>promotion_1</th>\n",
       "      <th>promotion_2</th>\n",
       "      <th>promotion_3</th>\n",
       "    </tr>\n",
       "  </thead>\n",
       "  <tbody>\n",
       "    <tr>\n",
       "      <th>20881</th>\n",
       "      <td>2024-05-20 01:00:00</td>\n",
       "      <td>39902</td>\n",
       "      <td>14.54</td>\n",
       "      <td>78.56</td>\n",
       "      <td>75.64</td>\n",
       "    </tr>\n",
       "    <tr>\n",
       "      <th>12903</th>\n",
       "      <td>2023-06-22 15:00:00</td>\n",
       "      <td>43455</td>\n",
       "      <td>23.58</td>\n",
       "      <td>78.84</td>\n",
       "      <td>58.75</td>\n",
       "    </tr>\n",
       "    <tr>\n",
       "      <th>16684</th>\n",
       "      <td>2023-11-27 04:00:00</td>\n",
       "      <td>49039</td>\n",
       "      <td>13.46</td>\n",
       "      <td>96.38</td>\n",
       "      <td>86.84</td>\n",
       "    </tr>\n",
       "    <tr>\n",
       "      <th>15002</th>\n",
       "      <td>2023-09-18 02:00:00</td>\n",
       "      <td>39062</td>\n",
       "      <td>16.53</td>\n",
       "      <td>67.26</td>\n",
       "      <td>77.10</td>\n",
       "    </tr>\n",
       "    <tr>\n",
       "      <th>4780</th>\n",
       "      <td>2022-07-19 04:00:00</td>\n",
       "      <td>38320</td>\n",
       "      <td>16.86</td>\n",
       "      <td>74.73</td>\n",
       "      <td>78.62</td>\n",
       "    </tr>\n",
       "    <tr>\n",
       "      <th>14831</th>\n",
       "      <td>2023-09-10 23:00:00</td>\n",
       "      <td>47175</td>\n",
       "      <td>14.72</td>\n",
       "      <td>75.09</td>\n",
       "      <td>77.08</td>\n",
       "    </tr>\n",
       "    <tr>\n",
       "      <th>2510</th>\n",
       "      <td>2022-04-15 14:00:00</td>\n",
       "      <td>45704</td>\n",
       "      <td>17.88</td>\n",
       "      <td>86.97</td>\n",
       "      <td>60.85</td>\n",
       "    </tr>\n",
       "    <tr>\n",
       "      <th>8739</th>\n",
       "      <td>2022-12-31 03:00:00</td>\n",
       "      <td>56034</td>\n",
       "      <td>9.57</td>\n",
       "      <td>95.14</td>\n",
       "      <td>85.15</td>\n",
       "    </tr>\n",
       "  </tbody>\n",
       "</table>\n",
       "</div>"
      ],
      "text/plain": [
       "                 datetime  e_users  promotion_1  promotion_2  promotion_3\n",
       "20881 2024-05-20 01:00:00    39902        14.54        78.56        75.64\n",
       "12903 2023-06-22 15:00:00    43455        23.58        78.84        58.75\n",
       "16684 2023-11-27 04:00:00    49039        13.46        96.38        86.84\n",
       "15002 2023-09-18 02:00:00    39062        16.53        67.26        77.10\n",
       "4780  2022-07-19 04:00:00    38320        16.86        74.73        78.62\n",
       "14831 2023-09-10 23:00:00    47175        14.72        75.09        77.08\n",
       "2510  2022-04-15 14:00:00    45704        17.88        86.97        60.85\n",
       "8739  2022-12-31 03:00:00    56034         9.57        95.14        85.15"
      ]
     },
     "execution_count": 5,
     "metadata": {},
     "output_type": "execute_result"
    }
   ],
   "source": [
    "train.sample(8)"
   ]
  },
  {
   "cell_type": "code",
   "execution_count": 6,
   "id": "fccd5f10",
   "metadata": {
    "execution": {
     "iopub.execute_input": "2025-05-22T08:08:46.816426Z",
     "iopub.status.busy": "2025-05-22T08:08:46.815685Z",
     "iopub.status.idle": "2025-05-22T08:08:46.824617Z",
     "shell.execute_reply": "2025-05-22T08:08:46.823665Z"
    },
    "papermill": {
     "duration": 0.015344,
     "end_time": "2025-05-22T08:08:46.826017",
     "exception": false,
     "start_time": "2025-05-22T08:08:46.810673",
     "status": "completed"
    },
    "tags": []
   },
   "outputs": [
    {
     "data": {
      "text/plain": [
       "datetime       0\n",
       "e_users        0\n",
       "promotion_1    0\n",
       "promotion_2    0\n",
       "promotion_3    0\n",
       "dtype: int64"
      ]
     },
     "execution_count": 6,
     "metadata": {},
     "output_type": "execute_result"
    }
   ],
   "source": [
    "train.isnull().sum()"
   ]
  },
  {
   "cell_type": "code",
   "execution_count": 7,
   "id": "b57ec65b",
   "metadata": {
    "execution": {
     "iopub.execute_input": "2025-05-22T08:08:46.834879Z",
     "iopub.status.busy": "2025-05-22T08:08:46.834570Z",
     "iopub.status.idle": "2025-05-22T08:08:46.841926Z",
     "shell.execute_reply": "2025-05-22T08:08:46.841072Z"
    },
    "papermill": {
     "duration": 0.0135,
     "end_time": "2025-05-22T08:08:46.843466",
     "exception": false,
     "start_time": "2025-05-22T08:08:46.829966",
     "status": "completed"
    },
    "tags": []
   },
   "outputs": [
    {
     "data": {
      "text/plain": [
       "datetime       0\n",
       "promotion_1    0\n",
       "promotion_2    0\n",
       "promotion_3    0\n",
       "dtype: int64"
      ]
     },
     "execution_count": 7,
     "metadata": {},
     "output_type": "execute_result"
    }
   ],
   "source": [
    "test.isnull().sum()"
   ]
  },
  {
   "cell_type": "code",
   "execution_count": 8,
   "id": "66edc66e",
   "metadata": {
    "execution": {
     "iopub.execute_input": "2025-05-22T08:08:46.852539Z",
     "iopub.status.busy": "2025-05-22T08:08:46.852249Z",
     "iopub.status.idle": "2025-05-22T08:08:46.883049Z",
     "shell.execute_reply": "2025-05-22T08:08:46.882144Z"
    },
    "papermill": {
     "duration": 0.03698,
     "end_time": "2025-05-22T08:08:46.884473",
     "exception": false,
     "start_time": "2025-05-22T08:08:46.847493",
     "status": "completed"
    },
    "tags": []
   },
   "outputs": [
    {
     "data": {
      "text/html": [
       "<div>\n",
       "<style scoped>\n",
       "    .dataframe tbody tr th:only-of-type {\n",
       "        vertical-align: middle;\n",
       "    }\n",
       "\n",
       "    .dataframe tbody tr th {\n",
       "        vertical-align: top;\n",
       "    }\n",
       "\n",
       "    .dataframe thead th {\n",
       "        text-align: right;\n",
       "    }\n",
       "</style>\n",
       "<table border=\"1\" class=\"dataframe\">\n",
       "  <thead>\n",
       "    <tr style=\"text-align: right;\">\n",
       "      <th></th>\n",
       "      <th>datetime</th>\n",
       "      <th>e_users</th>\n",
       "      <th>promotion_1</th>\n",
       "      <th>promotion_2</th>\n",
       "      <th>promotion_3</th>\n",
       "    </tr>\n",
       "  </thead>\n",
       "  <tbody>\n",
       "    <tr>\n",
       "      <th>count</th>\n",
       "      <td>23376</td>\n",
       "      <td>23376.000000</td>\n",
       "      <td>23376.000000</td>\n",
       "      <td>23376.000000</td>\n",
       "      <td>23376.000000</td>\n",
       "    </tr>\n",
       "    <tr>\n",
       "      <th>mean</th>\n",
       "      <td>2023-05-02 23:29:59.999999744</td>\n",
       "      <td>52846.660207</td>\n",
       "      <td>15.598461</td>\n",
       "      <td>81.392785</td>\n",
       "      <td>74.453931</td>\n",
       "    </tr>\n",
       "    <tr>\n",
       "      <th>min</th>\n",
       "      <td>2022-01-01 00:00:00</td>\n",
       "      <td>29365.000000</td>\n",
       "      <td>1.050000</td>\n",
       "      <td>15.930000</td>\n",
       "      <td>41.600000</td>\n",
       "    </tr>\n",
       "    <tr>\n",
       "      <th>25%</th>\n",
       "      <td>2022-09-01 11:45:00</td>\n",
       "      <td>43573.750000</td>\n",
       "      <td>11.890000</td>\n",
       "      <td>75.200000</td>\n",
       "      <td>67.880000</td>\n",
       "    </tr>\n",
       "    <tr>\n",
       "      <th>50%</th>\n",
       "      <td>2023-05-02 23:30:00</td>\n",
       "      <td>51071.500000</td>\n",
       "      <td>15.130000</td>\n",
       "      <td>86.310000</td>\n",
       "      <td>76.715000</td>\n",
       "    </tr>\n",
       "    <tr>\n",
       "      <th>75%</th>\n",
       "      <td>2024-01-01 11:15:00</td>\n",
       "      <td>61238.250000</td>\n",
       "      <td>18.972500</td>\n",
       "      <td>91.640000</td>\n",
       "      <td>82.360000</td>\n",
       "    </tr>\n",
       "    <tr>\n",
       "      <th>max</th>\n",
       "      <td>2024-08-31 23:00:00</td>\n",
       "      <td>96130.000000</td>\n",
       "      <td>31.480000</td>\n",
       "      <td>100.050000</td>\n",
       "      <td>92.480000</td>\n",
       "    </tr>\n",
       "    <tr>\n",
       "      <th>std</th>\n",
       "      <td>NaN</td>\n",
       "      <td>11911.319411</td>\n",
       "      <td>4.827803</td>\n",
       "      <td>14.246880</td>\n",
       "      <td>9.991424</td>\n",
       "    </tr>\n",
       "  </tbody>\n",
       "</table>\n",
       "</div>"
      ],
      "text/plain": [
       "                            datetime       e_users   promotion_1  \\\n",
       "count                          23376  23376.000000  23376.000000   \n",
       "mean   2023-05-02 23:29:59.999999744  52846.660207     15.598461   \n",
       "min              2022-01-01 00:00:00  29365.000000      1.050000   \n",
       "25%              2022-09-01 11:45:00  43573.750000     11.890000   \n",
       "50%              2023-05-02 23:30:00  51071.500000     15.130000   \n",
       "75%              2024-01-01 11:15:00  61238.250000     18.972500   \n",
       "max              2024-08-31 23:00:00  96130.000000     31.480000   \n",
       "std                              NaN  11911.319411      4.827803   \n",
       "\n",
       "        promotion_2   promotion_3  \n",
       "count  23376.000000  23376.000000  \n",
       "mean      81.392785     74.453931  \n",
       "min       15.930000     41.600000  \n",
       "25%       75.200000     67.880000  \n",
       "50%       86.310000     76.715000  \n",
       "75%       91.640000     82.360000  \n",
       "max      100.050000     92.480000  \n",
       "std       14.246880      9.991424  "
      ]
     },
     "execution_count": 8,
     "metadata": {},
     "output_type": "execute_result"
    }
   ],
   "source": [
    "train.describe()"
   ]
  },
  {
   "cell_type": "code",
   "execution_count": 9,
   "id": "95a2d80f",
   "metadata": {
    "execution": {
     "iopub.execute_input": "2025-05-22T08:08:46.894250Z",
     "iopub.status.busy": "2025-05-22T08:08:46.893948Z",
     "iopub.status.idle": "2025-05-22T08:08:46.911128Z",
     "shell.execute_reply": "2025-05-22T08:08:46.910126Z"
    },
    "papermill": {
     "duration": 0.023693,
     "end_time": "2025-05-22T08:08:46.912615",
     "exception": false,
     "start_time": "2025-05-22T08:08:46.888922",
     "status": "completed"
    },
    "tags": []
   },
   "outputs": [
    {
     "name": "stdout",
     "output_type": "stream",
     "text": [
      "<class 'pandas.core.frame.DataFrame'>\n",
      "RangeIndex: 23376 entries, 0 to 23375\n",
      "Data columns (total 5 columns):\n",
      " #   Column       Non-Null Count  Dtype         \n",
      "---  ------       --------------  -----         \n",
      " 0   datetime     23376 non-null  datetime64[ns]\n",
      " 1   e_users      23376 non-null  int64         \n",
      " 2   promotion_1  23376 non-null  float64       \n",
      " 3   promotion_2  23376 non-null  float64       \n",
      " 4   promotion_3  23376 non-null  float64       \n",
      "dtypes: datetime64[ns](1), float64(3), int64(1)\n",
      "memory usage: 913.3 KB\n"
     ]
    }
   ],
   "source": [
    "train.info()"
   ]
  },
  {
   "cell_type": "code",
   "execution_count": 10,
   "id": "30e1b432",
   "metadata": {
    "execution": {
     "iopub.execute_input": "2025-05-22T08:08:46.922114Z",
     "iopub.status.busy": "2025-05-22T08:08:46.921850Z",
     "iopub.status.idle": "2025-05-22T08:08:46.928283Z",
     "shell.execute_reply": "2025-05-22T08:08:46.927569Z"
    },
    "papermill": {
     "duration": 0.012565,
     "end_time": "2025-05-22T08:08:46.929517",
     "exception": false,
     "start_time": "2025-05-22T08:08:46.916952",
     "status": "completed"
    },
    "tags": []
   },
   "outputs": [],
   "source": [
    "def fe(df):\n",
    "    df['day_of_year'] = df['datetime'].dt.dayofyear\n",
    "    df['year_sin'] = np.sin(2 * np.pi * df['day_of_year'] / 365)\n",
    "    df['year_cos'] = np.cos(2 * np.pi * df['day_of_year'] / 365)\n",
    "    \n",
    "    df['month'] = df['datetime'].dt.month\n",
    "    df['month_sin'] = np.sin(2 * np.pi * df['month'] / 12)\n",
    "    df['month_cos'] = np.cos(2 * np.pi * df['month'] / 12)\n",
    "    \n",
    "    df['hour'] = df['datetime'].dt.hour\n",
    "    df['hour_sin'] = np.sin(2 * np.pi * df['hour'] / 24)\n",
    "    df['hour_cos'] = np.cos(2 * np.pi * df['hour'] / 24)\n",
    "\n",
    "    df['day'] = df['datetime'].dt.day\n",
    "    df['year'] = df['datetime'].dt.year\n",
    "    \n",
    "    df.drop(['datetime'], axis=1, inplace=True)\n",
    "\n",
    "    return df"
   ]
  },
  {
   "cell_type": "code",
   "execution_count": 11,
   "id": "adef675a",
   "metadata": {
    "execution": {
     "iopub.execute_input": "2025-05-22T08:08:46.939747Z",
     "iopub.status.busy": "2025-05-22T08:08:46.938762Z",
     "iopub.status.idle": "2025-05-22T08:08:46.945114Z",
     "shell.execute_reply": "2025-05-22T08:08:46.944353Z"
    },
    "papermill": {
     "duration": 0.012639,
     "end_time": "2025-05-22T08:08:46.946547",
     "exception": false,
     "start_time": "2025-05-22T08:08:46.933908",
     "status": "completed"
    },
    "tags": []
   },
   "outputs": [
    {
     "data": {
      "text/plain": [
       "Index(['datetime', 'e_users', 'promotion_1', 'promotion_2', 'promotion_3'], dtype='object')"
      ]
     },
     "execution_count": 11,
     "metadata": {},
     "output_type": "execute_result"
    }
   ],
   "source": [
    "train.columns"
   ]
  },
  {
   "cell_type": "code",
   "execution_count": 12,
   "id": "e77b271a",
   "metadata": {
    "execution": {
     "iopub.execute_input": "2025-05-22T08:08:46.956439Z",
     "iopub.status.busy": "2025-05-22T08:08:46.956170Z",
     "iopub.status.idle": "2025-05-22T08:08:46.960545Z",
     "shell.execute_reply": "2025-05-22T08:08:46.959661Z"
    },
    "papermill": {
     "duration": 0.010931,
     "end_time": "2025-05-22T08:08:46.961944",
     "exception": false,
     "start_time": "2025-05-22T08:08:46.951013",
     "status": "completed"
    },
    "tags": []
   },
   "outputs": [],
   "source": [
    "features = ['promotion_1', 'promotion_2', 'promotion_3']"
   ]
  },
  {
   "cell_type": "code",
   "execution_count": 13,
   "id": "dc5d5c30",
   "metadata": {
    "execution": {
     "iopub.execute_input": "2025-05-22T08:08:46.971944Z",
     "iopub.status.busy": "2025-05-22T08:08:46.971631Z",
     "iopub.status.idle": "2025-05-22T08:08:46.977214Z",
     "shell.execute_reply": "2025-05-22T08:08:46.976293Z"
    },
    "papermill": {
     "duration": 0.011942,
     "end_time": "2025-05-22T08:08:46.978483",
     "exception": false,
     "start_time": "2025-05-22T08:08:46.966541",
     "status": "completed"
    },
    "tags": []
   },
   "outputs": [],
   "source": [
    "def add_interact(df):\n",
    "    for i, c1 in enumerate(features):\n",
    "        for c2 in (features[i+1:]):\n",
    "            m = f'{c1}*{c2}'\n",
    "            df[m] = df[c1] * df[c2]\n",
    "            d = f'{c1}/{c2}'\n",
    "            df[d] = df[c1] / (df[c2] + 1e-3)\n",
    "            r = f'{c2}/{c1}'\n",
    "            df[r] = df[c2] / (df[c1] + 1e-3)\n",
    "    return df"
   ]
  },
  {
   "cell_type": "code",
   "execution_count": 14,
   "id": "71f35bb4",
   "metadata": {
    "execution": {
     "iopub.execute_input": "2025-05-22T08:08:46.988413Z",
     "iopub.status.busy": "2025-05-22T08:08:46.988150Z",
     "iopub.status.idle": "2025-05-22T08:08:47.046619Z",
     "shell.execute_reply": "2025-05-22T08:08:47.045798Z"
    },
    "papermill": {
     "duration": 0.065364,
     "end_time": "2025-05-22T08:08:47.048284",
     "exception": false,
     "start_time": "2025-05-22T08:08:46.982920",
     "status": "completed"
    },
    "tags": []
   },
   "outputs": [],
   "source": [
    "X = train.copy()\n",
    "y = X.pop('e_users')\n",
    "X = fe(X)\n",
    "X = add_interact(X)\n",
    "\n",
    "X_test = test.copy()\n",
    "X_test = fe(X_test)\n",
    "X_test = add_interact(X_test)\n",
    "\n",
    "oof_preds = {}\n",
    "test_preds = {}"
   ]
  },
  {
   "cell_type": "code",
   "execution_count": 15,
   "id": "fe78074b",
   "metadata": {
    "execution": {
     "iopub.execute_input": "2025-05-22T08:08:47.058318Z",
     "iopub.status.busy": "2025-05-22T08:08:47.058024Z",
     "iopub.status.idle": "2025-05-22T08:08:47.071943Z",
     "shell.execute_reply": "2025-05-22T08:08:47.070492Z"
    },
    "papermill": {
     "duration": 0.020782,
     "end_time": "2025-05-22T08:08:47.073589",
     "exception": false,
     "start_time": "2025-05-22T08:08:47.052807",
     "status": "completed"
    },
    "tags": []
   },
   "outputs": [
    {
     "name": "stdout",
     "output_type": "stream",
     "text": [
      "<class 'pandas.core.frame.DataFrame'>\n",
      "RangeIndex: 23376 entries, 0 to 23375\n",
      "Data columns (total 23 columns):\n",
      " #   Column                   Non-Null Count  Dtype  \n",
      "---  ------                   --------------  -----  \n",
      " 0   promotion_1              23376 non-null  float64\n",
      " 1   promotion_2              23376 non-null  float64\n",
      " 2   promotion_3              23376 non-null  float64\n",
      " 3   day_of_year              23376 non-null  int32  \n",
      " 4   year_sin                 23376 non-null  float64\n",
      " 5   year_cos                 23376 non-null  float64\n",
      " 6   month                    23376 non-null  int32  \n",
      " 7   month_sin                23376 non-null  float64\n",
      " 8   month_cos                23376 non-null  float64\n",
      " 9   hour                     23376 non-null  int32  \n",
      " 10  hour_sin                 23376 non-null  float64\n",
      " 11  hour_cos                 23376 non-null  float64\n",
      " 12  day                      23376 non-null  int32  \n",
      " 13  year                     23376 non-null  int32  \n",
      " 14  promotion_1*promotion_2  23376 non-null  float64\n",
      " 15  promotion_1/promotion_2  23376 non-null  float64\n",
      " 16  promotion_2/promotion_1  23376 non-null  float64\n",
      " 17  promotion_1*promotion_3  23376 non-null  float64\n",
      " 18  promotion_1/promotion_3  23376 non-null  float64\n",
      " 19  promotion_3/promotion_1  23376 non-null  float64\n",
      " 20  promotion_2*promotion_3  23376 non-null  float64\n",
      " 21  promotion_2/promotion_3  23376 non-null  float64\n",
      " 22  promotion_3/promotion_2  23376 non-null  float64\n",
      "dtypes: float64(18), int32(5)\n",
      "memory usage: 3.7 MB\n"
     ]
    }
   ],
   "source": [
    "X.info()"
   ]
  },
  {
   "cell_type": "code",
   "execution_count": 16,
   "id": "2f6aa63d",
   "metadata": {
    "execution": {
     "iopub.execute_input": "2025-05-22T08:08:47.083916Z",
     "iopub.status.busy": "2025-05-22T08:08:47.083252Z",
     "iopub.status.idle": "2025-05-22T08:08:47.106797Z",
     "shell.execute_reply": "2025-05-22T08:08:47.105631Z"
    },
    "papermill": {
     "duration": 0.030159,
     "end_time": "2025-05-22T08:08:47.108243",
     "exception": false,
     "start_time": "2025-05-22T08:08:47.078084",
     "status": "completed"
    },
    "tags": []
   },
   "outputs": [
    {
     "data": {
      "text/html": [
       "<div>\n",
       "<style scoped>\n",
       "    .dataframe tbody tr th:only-of-type {\n",
       "        vertical-align: middle;\n",
       "    }\n",
       "\n",
       "    .dataframe tbody tr th {\n",
       "        vertical-align: top;\n",
       "    }\n",
       "\n",
       "    .dataframe thead th {\n",
       "        text-align: right;\n",
       "    }\n",
       "</style>\n",
       "<table border=\"1\" class=\"dataframe\">\n",
       "  <thead>\n",
       "    <tr style=\"text-align: right;\">\n",
       "      <th></th>\n",
       "      <th>promotion_1</th>\n",
       "      <th>promotion_2</th>\n",
       "      <th>promotion_3</th>\n",
       "      <th>day_of_year</th>\n",
       "      <th>year_sin</th>\n",
       "      <th>year_cos</th>\n",
       "      <th>month</th>\n",
       "      <th>month_sin</th>\n",
       "      <th>month_cos</th>\n",
       "      <th>hour</th>\n",
       "      <th>...</th>\n",
       "      <th>year</th>\n",
       "      <th>promotion_1*promotion_2</th>\n",
       "      <th>promotion_1/promotion_2</th>\n",
       "      <th>promotion_2/promotion_1</th>\n",
       "      <th>promotion_1*promotion_3</th>\n",
       "      <th>promotion_1/promotion_3</th>\n",
       "      <th>promotion_3/promotion_1</th>\n",
       "      <th>promotion_2*promotion_3</th>\n",
       "      <th>promotion_2/promotion_3</th>\n",
       "      <th>promotion_3/promotion_2</th>\n",
       "    </tr>\n",
       "  </thead>\n",
       "  <tbody>\n",
       "    <tr>\n",
       "      <th>0</th>\n",
       "      <td>11.67</td>\n",
       "      <td>95.28</td>\n",
       "      <td>80.76</td>\n",
       "      <td>1</td>\n",
       "      <td>0.017213</td>\n",
       "      <td>0.999852</td>\n",
       "      <td>1</td>\n",
       "      <td>0.5</td>\n",
       "      <td>0.866025</td>\n",
       "      <td>0</td>\n",
       "      <td>...</td>\n",
       "      <td>2022</td>\n",
       "      <td>1111.9176</td>\n",
       "      <td>0.122480</td>\n",
       "      <td>8.163825</td>\n",
       "      <td>942.4692</td>\n",
       "      <td>0.144500</td>\n",
       "      <td>6.919716</td>\n",
       "      <td>7694.8128</td>\n",
       "      <td>1.179777</td>\n",
       "      <td>0.847598</td>\n",
       "    </tr>\n",
       "    <tr>\n",
       "      <th>1</th>\n",
       "      <td>11.33</td>\n",
       "      <td>93.25</td>\n",
       "      <td>80.81</td>\n",
       "      <td>1</td>\n",
       "      <td>0.017213</td>\n",
       "      <td>0.999852</td>\n",
       "      <td>1</td>\n",
       "      <td>0.5</td>\n",
       "      <td>0.866025</td>\n",
       "      <td>1</td>\n",
       "      <td>...</td>\n",
       "      <td>2022</td>\n",
       "      <td>1056.5225</td>\n",
       "      <td>0.121500</td>\n",
       "      <td>8.229636</td>\n",
       "      <td>915.5773</td>\n",
       "      <td>0.140204</td>\n",
       "      <td>7.131762</td>\n",
       "      <td>7535.5325</td>\n",
       "      <td>1.153927</td>\n",
       "      <td>0.866586</td>\n",
       "    </tr>\n",
       "    <tr>\n",
       "      <th>2</th>\n",
       "      <td>11.01</td>\n",
       "      <td>91.23</td>\n",
       "      <td>80.85</td>\n",
       "      <td>1</td>\n",
       "      <td>0.017213</td>\n",
       "      <td>0.999852</td>\n",
       "      <td>1</td>\n",
       "      <td>0.5</td>\n",
       "      <td>0.866025</td>\n",
       "      <td>2</td>\n",
       "      <td>...</td>\n",
       "      <td>2022</td>\n",
       "      <td>1004.4423</td>\n",
       "      <td>0.120683</td>\n",
       "      <td>8.285351</td>\n",
       "      <td>890.1585</td>\n",
       "      <td>0.136176</td>\n",
       "      <td>7.342657</td>\n",
       "      <td>7375.9455</td>\n",
       "      <td>1.128372</td>\n",
       "      <td>0.886212</td>\n",
       "    </tr>\n",
       "    <tr>\n",
       "      <th>3</th>\n",
       "      <td>10.82</td>\n",
       "      <td>89.40</td>\n",
       "      <td>80.89</td>\n",
       "      <td>1</td>\n",
       "      <td>0.017213</td>\n",
       "      <td>0.999852</td>\n",
       "      <td>1</td>\n",
       "      <td>0.5</td>\n",
       "      <td>0.866025</td>\n",
       "      <td>3</td>\n",
       "      <td>...</td>\n",
       "      <td>2022</td>\n",
       "      <td>967.3080</td>\n",
       "      <td>0.121028</td>\n",
       "      <td>8.261713</td>\n",
       "      <td>875.2298</td>\n",
       "      <td>0.133760</td>\n",
       "      <td>7.475280</td>\n",
       "      <td>7231.5660</td>\n",
       "      <td>1.105191</td>\n",
       "      <td>0.904800</td>\n",
       "    </tr>\n",
       "    <tr>\n",
       "      <th>4</th>\n",
       "      <td>10.80</td>\n",
       "      <td>88.14</td>\n",
       "      <td>80.94</td>\n",
       "      <td>1</td>\n",
       "      <td>0.017213</td>\n",
       "      <td>0.999852</td>\n",
       "      <td>1</td>\n",
       "      <td>0.5</td>\n",
       "      <td>0.866025</td>\n",
       "      <td>4</td>\n",
       "      <td>...</td>\n",
       "      <td>2022</td>\n",
       "      <td>951.9120</td>\n",
       "      <td>0.122531</td>\n",
       "      <td>8.160356</td>\n",
       "      <td>874.1520</td>\n",
       "      <td>0.133431</td>\n",
       "      <td>7.493751</td>\n",
       "      <td>7134.0516</td>\n",
       "      <td>1.088941</td>\n",
       "      <td>0.918301</td>\n",
       "    </tr>\n",
       "  </tbody>\n",
       "</table>\n",
       "<p>5 rows × 23 columns</p>\n",
       "</div>"
      ],
      "text/plain": [
       "   promotion_1  promotion_2  promotion_3  day_of_year  year_sin  year_cos  \\\n",
       "0        11.67        95.28        80.76            1  0.017213  0.999852   \n",
       "1        11.33        93.25        80.81            1  0.017213  0.999852   \n",
       "2        11.01        91.23        80.85            1  0.017213  0.999852   \n",
       "3        10.82        89.40        80.89            1  0.017213  0.999852   \n",
       "4        10.80        88.14        80.94            1  0.017213  0.999852   \n",
       "\n",
       "   month  month_sin  month_cos  hour  ...  year  promotion_1*promotion_2  \\\n",
       "0      1        0.5   0.866025     0  ...  2022                1111.9176   \n",
       "1      1        0.5   0.866025     1  ...  2022                1056.5225   \n",
       "2      1        0.5   0.866025     2  ...  2022                1004.4423   \n",
       "3      1        0.5   0.866025     3  ...  2022                 967.3080   \n",
       "4      1        0.5   0.866025     4  ...  2022                 951.9120   \n",
       "\n",
       "   promotion_1/promotion_2  promotion_2/promotion_1  promotion_1*promotion_3  \\\n",
       "0                 0.122480                 8.163825                 942.4692   \n",
       "1                 0.121500                 8.229636                 915.5773   \n",
       "2                 0.120683                 8.285351                 890.1585   \n",
       "3                 0.121028                 8.261713                 875.2298   \n",
       "4                 0.122531                 8.160356                 874.1520   \n",
       "\n",
       "   promotion_1/promotion_3  promotion_3/promotion_1  promotion_2*promotion_3  \\\n",
       "0                 0.144500                 6.919716                7694.8128   \n",
       "1                 0.140204                 7.131762                7535.5325   \n",
       "2                 0.136176                 7.342657                7375.9455   \n",
       "3                 0.133760                 7.475280                7231.5660   \n",
       "4                 0.133431                 7.493751                7134.0516   \n",
       "\n",
       "   promotion_2/promotion_3  promotion_3/promotion_2  \n",
       "0                 1.179777                 0.847598  \n",
       "1                 1.153927                 0.866586  \n",
       "2                 1.128372                 0.886212  \n",
       "3                 1.105191                 0.904800  \n",
       "4                 1.088941                 0.918301  \n",
       "\n",
       "[5 rows x 23 columns]"
      ]
     },
     "execution_count": 16,
     "metadata": {},
     "output_type": "execute_result"
    }
   ],
   "source": [
    "X.head()"
   ]
  },
  {
   "cell_type": "code",
   "execution_count": 17,
   "id": "e9afff2f",
   "metadata": {
    "execution": {
     "iopub.execute_input": "2025-05-22T08:08:47.120475Z",
     "iopub.status.busy": "2025-05-22T08:08:47.119352Z",
     "iopub.status.idle": "2025-05-22T08:09:04.403075Z",
     "shell.execute_reply": "2025-05-22T08:09:04.402351Z"
    },
    "papermill": {
     "duration": 17.290989,
     "end_time": "2025-05-22T08:09:04.404785",
     "exception": false,
     "start_time": "2025-05-22T08:08:47.113796",
     "status": "completed"
    },
    "tags": []
   },
   "outputs": [
    {
     "name": "stdout",
     "output_type": "stream",
     "text": [
      "Fold 1 RMSE: 6546.547806\n",
      "Fold 2 RMSE: 7034.829956\n",
      "Fold 3 RMSE: 4310.793711\n",
      "Fold 4 RMSE: 5289.315027\n",
      "Fold 5 RMSE: 4453.972422\n",
      "\n",
      "Overall OOF RMSLE: 25054.2131490\n"
     ]
    }
   ],
   "source": [
    "from sklearn.model_selection import TimeSeriesSplit\n",
    "from xgboost import XGBRegressor\n",
    "from sklearn.metrics import mean_squared_error\n",
    "from sklearn.preprocessing import RobustScaler\n",
    "\n",
    "tscv = TimeSeriesSplit(n_splits=5)\n",
    "oof_xgb = np.zeros(len(y))\n",
    "test_xgb = np.zeros(len(X_test))\n",
    "\n",
    "for fold, (train_index, valid_index) in enumerate(tscv.split(X, y), start=1):\n",
    "    X_train, X_valid = X.iloc[train_index].copy(), X.iloc[valid_index].copy()\n",
    "    y_train, y_valid = y.iloc[train_index], y.iloc[valid_index]\n",
    "\n",
    "    \n",
    "    xgb = XGBRegressor(n_estimators=1000, learning_rate=0.05, objective='reg:squarederror', eval_metric='rmse').fit(X_train, y_train)\n",
    "    valid_pred = xgb.predict(X_valid)\n",
    "    oof_xgb[valid_index] = valid_pred\n",
    "    test_xgb += xgb.predict(X_test) / 5\n",
    "\n",
    "    fold_rmse = np.sqrt(mean_squared_error(y_valid, valid_pred))\n",
    "    print(f\"Fold {fold} RMSE: {fold_rmse:.6f}\")\n",
    "    \n",
    "oof_preds['XGB'] = oof_xgb\n",
    "test_preds['XGB'] = test_xgb\n",
    "\n",
    "overall_rmse = np.sqrt(mean_squared_error(y, oof_xgb))\n",
    "print(f\"\\nOverall OOF RMSLE: {overall_rmse:.7f}\")  \n"
   ]
  },
  {
   "cell_type": "code",
   "execution_count": 18,
   "id": "e5bdea71",
   "metadata": {
    "execution": {
     "iopub.execute_input": "2025-05-22T08:09:04.418253Z",
     "iopub.status.busy": "2025-05-22T08:09:04.417007Z",
     "iopub.status.idle": "2025-05-22T08:09:04.445922Z",
     "shell.execute_reply": "2025-05-22T08:09:04.444584Z"
    },
    "papermill": {
     "duration": 0.036164,
     "end_time": "2025-05-22T08:09:04.447384",
     "exception": false,
     "start_time": "2025-05-22T08:09:04.411220",
     "status": "completed"
    },
    "tags": []
   },
   "outputs": [
    {
     "name": "stdout",
     "output_type": "stream",
     "text": [
      "Your submission was successfully saved!\n",
      "              datetime       e_users\n",
      "0  2024-09-01 00:00:00  43031.228516\n",
      "1  2024-09-01 01:00:00  39281.670410\n",
      "2  2024-09-01 02:00:00  37808.028809\n",
      "3  2024-09-01 03:00:00  35372.660156\n",
      "4  2024-09-01 04:00:00  34019.045898\n",
      "5  2024-09-01 05:00:00  34032.298828\n",
      "6  2024-09-01 06:00:00  35496.968750\n",
      "7  2024-09-01 07:00:00  37363.539551\n"
     ]
    }
   ],
   "source": [
    "sub = pd.read_csv('/kaggle/input/prediction-of-e-commerce-users/submission.csv')\n",
    "sub['e_users'] = test_xgb\n",
    "sub.to_csv('submission.csv', index=False)\n",
    "print(\"Your submission was successfully saved!\")\n",
    "print(sub.head(8))"
   ]
  }
 ],
 "metadata": {
  "kaggle": {
   "accelerator": "none",
   "dataSources": [
    {
     "databundleVersionId": 11515802,
     "sourceId": 96904,
     "sourceType": "competition"
    }
   ],
   "dockerImageVersionId": 31040,
   "isGpuEnabled": false,
   "isInternetEnabled": true,
   "language": "python",
   "sourceType": "notebook"
  },
  "kernelspec": {
   "display_name": "Python 3",
   "language": "python",
   "name": "python3"
  },
  "language_info": {
   "codemirror_mode": {
    "name": "ipython",
    "version": 3
   },
   "file_extension": ".py",
   "mimetype": "text/x-python",
   "name": "python",
   "nbconvert_exporter": "python",
   "pygments_lexer": "ipython3",
   "version": "3.11.11"
  },
  "papermill": {
   "default_parameters": {},
   "duration": 25.961945,
   "end_time": "2025-05-22T08:09:05.172840",
   "environment_variables": {},
   "exception": null,
   "input_path": "__notebook__.ipynb",
   "output_path": "__notebook__.ipynb",
   "parameters": {},
   "start_time": "2025-05-22T08:08:39.210895",
   "version": "2.6.0"
  }
 },
 "nbformat": 4,
 "nbformat_minor": 5
}
