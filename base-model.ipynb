{
 "cells": [
  {
   "cell_type": "code",
   "execution_count": 1,
   "id": "af84b636",
   "metadata": {
    "_cell_guid": "b1076dfc-b9ad-4769-8c92-a6c4dae69d19",
    "_uuid": "8f2839f25d086af736a60e9eeb907d3b93b6e0e5",
    "execution": {
     "iopub.execute_input": "2025-06-01T10:14:34.475804Z",
     "iopub.status.busy": "2025-06-01T10:14:34.475364Z",
     "iopub.status.idle": "2025-06-01T10:14:37.261991Z",
     "shell.execute_reply": "2025-06-01T10:14:37.260817Z"
    },
    "papermill": {
     "duration": 2.79475,
     "end_time": "2025-06-01T10:14:37.263842",
     "exception": false,
     "start_time": "2025-06-01T10:14:34.469092",
     "status": "completed"
    },
    "tags": []
   },
   "outputs": [
    {
     "name": "stdout",
     "output_type": "stream",
     "text": [
      "/kaggle/input/prediction-of-e-commerce-users/submission.csv\n",
      "/kaggle/input/prediction-of-e-commerce-users/train_df.csv\n",
      "/kaggle/input/prediction-of-e-commerce-users/test_df.csv\n"
     ]
    }
   ],
   "source": [
    "# This Python 3 environment comes with many helpful analytics libraries installed\n",
    "# It is defined by the kaggle/python Docker image: https://github.com/kaggle/docker-python\n",
    "# For example, here's several helpful packages to load\n",
    "#%load_ext cudf.pandas\n",
    "import numpy as np # linear algebra\n",
    "import pandas as pd # data processing, CSV file I/O (e.g. pd.read_csv)\n",
    "\n",
    "import optuna\n",
    "\n",
    "# Input data files are available in the read-only \"../input/\" directory\n",
    "# For example, running this (by clicking run or pressing Shift+Enter) will list all files under the input directory\n",
    "\n",
    "import os\n",
    "for dirname, _, filenames in os.walk('/kaggle/input'):\n",
    "    for filename in filenames:\n",
    "        print(os.path.join(dirname, filename))\n",
    "\n",
    "# You can write up to 20GB to the current directory (/kaggle/working/) that gets preserved as output when you create a version using \"Save & Run All\" \n",
    "# You can also write temporary files to /kaggle/temp/, but they won't be saved outside of the current session"
   ]
  },
  {
   "cell_type": "code",
   "execution_count": 2,
   "id": "43c832e9",
   "metadata": {
    "execution": {
     "iopub.execute_input": "2025-06-01T10:14:37.274095Z",
     "iopub.status.busy": "2025-06-01T10:14:37.273661Z",
     "iopub.status.idle": "2025-06-01T10:14:37.371964Z",
     "shell.execute_reply": "2025-06-01T10:14:37.370862Z"
    },
    "papermill": {
     "duration": 0.105237,
     "end_time": "2025-06-01T10:14:37.373817",
     "exception": false,
     "start_time": "2025-06-01T10:14:37.268580",
     "status": "completed"
    },
    "tags": []
   },
   "outputs": [],
   "source": [
    "train = pd.read_csv('/kaggle/input/prediction-of-e-commerce-users/train_df.csv', parse_dates=['datetime'])\n",
    "test = pd.read_csv('/kaggle/input/prediction-of-e-commerce-users/test_df.csv', parse_dates=['datetime'])"
   ]
  },
  {
   "cell_type": "code",
   "execution_count": 3,
   "id": "00261506",
   "metadata": {
    "execution": {
     "iopub.execute_input": "2025-06-01T10:14:37.383389Z",
     "iopub.status.busy": "2025-06-01T10:14:37.383071Z",
     "iopub.status.idle": "2025-06-01T10:14:37.390026Z",
     "shell.execute_reply": "2025-06-01T10:14:37.388871Z"
    },
    "papermill": {
     "duration": 0.014107,
     "end_time": "2025-06-01T10:14:37.392164",
     "exception": false,
     "start_time": "2025-06-01T10:14:37.378057",
     "status": "completed"
    },
    "tags": []
   },
   "outputs": [
    {
     "data": {
      "text/plain": [
       "(23376, 5)"
      ]
     },
     "execution_count": 3,
     "metadata": {},
     "output_type": "execute_result"
    }
   ],
   "source": [
    "train.shape"
   ]
  },
  {
   "cell_type": "code",
   "execution_count": 4,
   "id": "73705923",
   "metadata": {
    "execution": {
     "iopub.execute_input": "2025-06-01T10:14:37.402372Z",
     "iopub.status.busy": "2025-06-01T10:14:37.401604Z",
     "iopub.status.idle": "2025-06-01T10:14:37.407806Z",
     "shell.execute_reply": "2025-06-01T10:14:37.406807Z"
    },
    "papermill": {
     "duration": 0.013061,
     "end_time": "2025-06-01T10:14:37.409361",
     "exception": false,
     "start_time": "2025-06-01T10:14:37.396300",
     "status": "completed"
    },
    "tags": []
   },
   "outputs": [
    {
     "data": {
      "text/plain": [
       "(2928, 4)"
      ]
     },
     "execution_count": 4,
     "metadata": {},
     "output_type": "execute_result"
    }
   ],
   "source": [
    "test.shape"
   ]
  },
  {
   "cell_type": "code",
   "execution_count": 5,
   "id": "b645320a",
   "metadata": {
    "execution": {
     "iopub.execute_input": "2025-06-01T10:14:37.419068Z",
     "iopub.status.busy": "2025-06-01T10:14:37.418731Z",
     "iopub.status.idle": "2025-06-01T10:14:37.454160Z",
     "shell.execute_reply": "2025-06-01T10:14:37.453064Z"
    },
    "papermill": {
     "duration": 0.042269,
     "end_time": "2025-06-01T10:14:37.455918",
     "exception": false,
     "start_time": "2025-06-01T10:14:37.413649",
     "status": "completed"
    },
    "tags": []
   },
   "outputs": [
    {
     "data": {
      "text/html": [
       "<div>\n",
       "<style scoped>\n",
       "    .dataframe tbody tr th:only-of-type {\n",
       "        vertical-align: middle;\n",
       "    }\n",
       "\n",
       "    .dataframe tbody tr th {\n",
       "        vertical-align: top;\n",
       "    }\n",
       "\n",
       "    .dataframe thead th {\n",
       "        text-align: right;\n",
       "    }\n",
       "</style>\n",
       "<table border=\"1\" class=\"dataframe\">\n",
       "  <thead>\n",
       "    <tr style=\"text-align: right;\">\n",
       "      <th></th>\n",
       "      <th>datetime</th>\n",
       "      <th>e_users</th>\n",
       "      <th>promotion_1</th>\n",
       "      <th>promotion_2</th>\n",
       "      <th>promotion_3</th>\n",
       "    </tr>\n",
       "  </thead>\n",
       "  <tbody>\n",
       "    <tr>\n",
       "      <th>2333</th>\n",
       "      <td>2022-04-08 05:00:00</td>\n",
       "      <td>39385</td>\n",
       "      <td>11.70</td>\n",
       "      <td>89.19</td>\n",
       "      <td>80.79</td>\n",
       "    </tr>\n",
       "    <tr>\n",
       "      <th>18979</th>\n",
       "      <td>2024-03-01 19:00:00</td>\n",
       "      <td>63680</td>\n",
       "      <td>12.27</td>\n",
       "      <td>89.76</td>\n",
       "      <td>77.54</td>\n",
       "    </tr>\n",
       "    <tr>\n",
       "      <th>597</th>\n",
       "      <td>2022-01-25 21:00:00</td>\n",
       "      <td>65202</td>\n",
       "      <td>11.44</td>\n",
       "      <td>94.44</td>\n",
       "      <td>84.88</td>\n",
       "    </tr>\n",
       "    <tr>\n",
       "      <th>9424</th>\n",
       "      <td>2023-01-28 16:00:00</td>\n",
       "      <td>73756</td>\n",
       "      <td>10.91</td>\n",
       "      <td>85.08</td>\n",
       "      <td>71.03</td>\n",
       "    </tr>\n",
       "    <tr>\n",
       "      <th>20685</th>\n",
       "      <td>2024-05-11 21:00:00</td>\n",
       "      <td>44808</td>\n",
       "      <td>12.57</td>\n",
       "      <td>94.56</td>\n",
       "      <td>79.91</td>\n",
       "    </tr>\n",
       "    <tr>\n",
       "      <th>18789</th>\n",
       "      <td>2024-02-22 21:00:00</td>\n",
       "      <td>57758</td>\n",
       "      <td>12.65</td>\n",
       "      <td>90.73</td>\n",
       "      <td>78.78</td>\n",
       "    </tr>\n",
       "    <tr>\n",
       "      <th>4176</th>\n",
       "      <td>2022-06-24 00:00:00</td>\n",
       "      <td>43064</td>\n",
       "      <td>14.92</td>\n",
       "      <td>80.73</td>\n",
       "      <td>72.64</td>\n",
       "    </tr>\n",
       "    <tr>\n",
       "      <th>12223</th>\n",
       "      <td>2023-05-25 07:00:00</td>\n",
       "      <td>36971</td>\n",
       "      <td>16.10</td>\n",
       "      <td>89.86</td>\n",
       "      <td>78.97</td>\n",
       "    </tr>\n",
       "  </tbody>\n",
       "</table>\n",
       "</div>"
      ],
      "text/plain": [
       "                 datetime  e_users  promotion_1  promotion_2  promotion_3\n",
       "2333  2022-04-08 05:00:00    39385        11.70        89.19        80.79\n",
       "18979 2024-03-01 19:00:00    63680        12.27        89.76        77.54\n",
       "597   2022-01-25 21:00:00    65202        11.44        94.44        84.88\n",
       "9424  2023-01-28 16:00:00    73756        10.91        85.08        71.03\n",
       "20685 2024-05-11 21:00:00    44808        12.57        94.56        79.91\n",
       "18789 2024-02-22 21:00:00    57758        12.65        90.73        78.78\n",
       "4176  2022-06-24 00:00:00    43064        14.92        80.73        72.64\n",
       "12223 2023-05-25 07:00:00    36971        16.10        89.86        78.97"
      ]
     },
     "execution_count": 5,
     "metadata": {},
     "output_type": "execute_result"
    }
   ],
   "source": [
    "train.sample(8)"
   ]
  },
  {
   "cell_type": "code",
   "execution_count": 6,
   "id": "ed745276",
   "metadata": {
    "execution": {
     "iopub.execute_input": "2025-06-01T10:14:37.466959Z",
     "iopub.status.busy": "2025-06-01T10:14:37.466632Z",
     "iopub.status.idle": "2025-06-01T10:14:37.475891Z",
     "shell.execute_reply": "2025-06-01T10:14:37.474872Z"
    },
    "papermill": {
     "duration": 0.016771,
     "end_time": "2025-06-01T10:14:37.477738",
     "exception": false,
     "start_time": "2025-06-01T10:14:37.460967",
     "status": "completed"
    },
    "tags": []
   },
   "outputs": [
    {
     "data": {
      "text/plain": [
       "datetime       0\n",
       "e_users        0\n",
       "promotion_1    0\n",
       "promotion_2    0\n",
       "promotion_3    0\n",
       "dtype: int64"
      ]
     },
     "execution_count": 6,
     "metadata": {},
     "output_type": "execute_result"
    }
   ],
   "source": [
    "train.isnull().sum()"
   ]
  },
  {
   "cell_type": "code",
   "execution_count": 7,
   "id": "01c57537",
   "metadata": {
    "execution": {
     "iopub.execute_input": "2025-06-01T10:14:37.487979Z",
     "iopub.status.busy": "2025-06-01T10:14:37.487643Z",
     "iopub.status.idle": "2025-06-01T10:14:37.495408Z",
     "shell.execute_reply": "2025-06-01T10:14:37.494323Z"
    },
    "papermill": {
     "duration": 0.014938,
     "end_time": "2025-06-01T10:14:37.497218",
     "exception": false,
     "start_time": "2025-06-01T10:14:37.482280",
     "status": "completed"
    },
    "tags": []
   },
   "outputs": [
    {
     "data": {
      "text/plain": [
       "datetime       0\n",
       "promotion_1    0\n",
       "promotion_2    0\n",
       "promotion_3    0\n",
       "dtype: int64"
      ]
     },
     "execution_count": 7,
     "metadata": {},
     "output_type": "execute_result"
    }
   ],
   "source": [
    "test.isnull().sum()"
   ]
  },
  {
   "cell_type": "code",
   "execution_count": 8,
   "id": "5bb26425",
   "metadata": {
    "execution": {
     "iopub.execute_input": "2025-06-01T10:14:37.507981Z",
     "iopub.status.busy": "2025-06-01T10:14:37.507611Z",
     "iopub.status.idle": "2025-06-01T10:14:37.544621Z",
     "shell.execute_reply": "2025-06-01T10:14:37.543560Z"
    },
    "papermill": {
     "duration": 0.044271,
     "end_time": "2025-06-01T10:14:37.546229",
     "exception": false,
     "start_time": "2025-06-01T10:14:37.501958",
     "status": "completed"
    },
    "tags": []
   },
   "outputs": [
    {
     "data": {
      "text/html": [
       "<div>\n",
       "<style scoped>\n",
       "    .dataframe tbody tr th:only-of-type {\n",
       "        vertical-align: middle;\n",
       "    }\n",
       "\n",
       "    .dataframe tbody tr th {\n",
       "        vertical-align: top;\n",
       "    }\n",
       "\n",
       "    .dataframe thead th {\n",
       "        text-align: right;\n",
       "    }\n",
       "</style>\n",
       "<table border=\"1\" class=\"dataframe\">\n",
       "  <thead>\n",
       "    <tr style=\"text-align: right;\">\n",
       "      <th></th>\n",
       "      <th>datetime</th>\n",
       "      <th>e_users</th>\n",
       "      <th>promotion_1</th>\n",
       "      <th>promotion_2</th>\n",
       "      <th>promotion_3</th>\n",
       "    </tr>\n",
       "  </thead>\n",
       "  <tbody>\n",
       "    <tr>\n",
       "      <th>count</th>\n",
       "      <td>23376</td>\n",
       "      <td>23376.000000</td>\n",
       "      <td>23376.000000</td>\n",
       "      <td>23376.000000</td>\n",
       "      <td>23376.000000</td>\n",
       "    </tr>\n",
       "    <tr>\n",
       "      <th>mean</th>\n",
       "      <td>2023-05-02 23:29:59.999999744</td>\n",
       "      <td>52846.660207</td>\n",
       "      <td>15.598461</td>\n",
       "      <td>81.392785</td>\n",
       "      <td>74.453931</td>\n",
       "    </tr>\n",
       "    <tr>\n",
       "      <th>min</th>\n",
       "      <td>2022-01-01 00:00:00</td>\n",
       "      <td>29365.000000</td>\n",
       "      <td>1.050000</td>\n",
       "      <td>15.930000</td>\n",
       "      <td>41.600000</td>\n",
       "    </tr>\n",
       "    <tr>\n",
       "      <th>25%</th>\n",
       "      <td>2022-09-01 11:45:00</td>\n",
       "      <td>43573.750000</td>\n",
       "      <td>11.890000</td>\n",
       "      <td>75.200000</td>\n",
       "      <td>67.880000</td>\n",
       "    </tr>\n",
       "    <tr>\n",
       "      <th>50%</th>\n",
       "      <td>2023-05-02 23:30:00</td>\n",
       "      <td>51071.500000</td>\n",
       "      <td>15.130000</td>\n",
       "      <td>86.310000</td>\n",
       "      <td>76.715000</td>\n",
       "    </tr>\n",
       "    <tr>\n",
       "      <th>75%</th>\n",
       "      <td>2024-01-01 11:15:00</td>\n",
       "      <td>61238.250000</td>\n",
       "      <td>18.972500</td>\n",
       "      <td>91.640000</td>\n",
       "      <td>82.360000</td>\n",
       "    </tr>\n",
       "    <tr>\n",
       "      <th>max</th>\n",
       "      <td>2024-08-31 23:00:00</td>\n",
       "      <td>96130.000000</td>\n",
       "      <td>31.480000</td>\n",
       "      <td>100.050000</td>\n",
       "      <td>92.480000</td>\n",
       "    </tr>\n",
       "    <tr>\n",
       "      <th>std</th>\n",
       "      <td>NaN</td>\n",
       "      <td>11911.319411</td>\n",
       "      <td>4.827803</td>\n",
       "      <td>14.246880</td>\n",
       "      <td>9.991424</td>\n",
       "    </tr>\n",
       "  </tbody>\n",
       "</table>\n",
       "</div>"
      ],
      "text/plain": [
       "                            datetime       e_users   promotion_1  \\\n",
       "count                          23376  23376.000000  23376.000000   \n",
       "mean   2023-05-02 23:29:59.999999744  52846.660207     15.598461   \n",
       "min              2022-01-01 00:00:00  29365.000000      1.050000   \n",
       "25%              2022-09-01 11:45:00  43573.750000     11.890000   \n",
       "50%              2023-05-02 23:30:00  51071.500000     15.130000   \n",
       "75%              2024-01-01 11:15:00  61238.250000     18.972500   \n",
       "max              2024-08-31 23:00:00  96130.000000     31.480000   \n",
       "std                              NaN  11911.319411      4.827803   \n",
       "\n",
       "        promotion_2   promotion_3  \n",
       "count  23376.000000  23376.000000  \n",
       "mean      81.392785     74.453931  \n",
       "min       15.930000     41.600000  \n",
       "25%       75.200000     67.880000  \n",
       "50%       86.310000     76.715000  \n",
       "75%       91.640000     82.360000  \n",
       "max      100.050000     92.480000  \n",
       "std       14.246880      9.991424  "
      ]
     },
     "execution_count": 8,
     "metadata": {},
     "output_type": "execute_result"
    }
   ],
   "source": [
    "train.describe()"
   ]
  },
  {
   "cell_type": "code",
   "execution_count": 9,
   "id": "2b7e94b5",
   "metadata": {
    "execution": {
     "iopub.execute_input": "2025-06-01T10:14:37.557637Z",
     "iopub.status.busy": "2025-06-01T10:14:37.556692Z",
     "iopub.status.idle": "2025-06-01T10:14:37.576431Z",
     "shell.execute_reply": "2025-06-01T10:14:37.575351Z"
    },
    "papermill": {
     "duration": 0.027272,
     "end_time": "2025-06-01T10:14:37.578262",
     "exception": false,
     "start_time": "2025-06-01T10:14:37.550990",
     "status": "completed"
    },
    "tags": []
   },
   "outputs": [
    {
     "name": "stdout",
     "output_type": "stream",
     "text": [
      "<class 'pandas.core.frame.DataFrame'>\n",
      "RangeIndex: 23376 entries, 0 to 23375\n",
      "Data columns (total 5 columns):\n",
      " #   Column       Non-Null Count  Dtype         \n",
      "---  ------       --------------  -----         \n",
      " 0   datetime     23376 non-null  datetime64[ns]\n",
      " 1   e_users      23376 non-null  int64         \n",
      " 2   promotion_1  23376 non-null  float64       \n",
      " 3   promotion_2  23376 non-null  float64       \n",
      " 4   promotion_3  23376 non-null  float64       \n",
      "dtypes: datetime64[ns](1), float64(3), int64(1)\n",
      "memory usage: 913.3 KB\n"
     ]
    }
   ],
   "source": [
    "train.info()"
   ]
  },
  {
   "cell_type": "code",
   "execution_count": 10,
   "id": "689d8fa4",
   "metadata": {
    "execution": {
     "iopub.execute_input": "2025-06-01T10:14:37.589103Z",
     "iopub.status.busy": "2025-06-01T10:14:37.588802Z",
     "iopub.status.idle": "2025-06-01T10:14:37.598829Z",
     "shell.execute_reply": "2025-06-01T10:14:37.597640Z"
    },
    "papermill": {
     "duration": 0.017698,
     "end_time": "2025-06-01T10:14:37.600672",
     "exception": false,
     "start_time": "2025-06-01T10:14:37.582974",
     "status": "completed"
    },
    "tags": []
   },
   "outputs": [],
   "source": [
    "def fe(df):\n",
    "    df['day_of_year'] = df['datetime'].dt.dayofyear\n",
    "    df['year_sin'] = np.sin(2 * np.pi * df['day_of_year'] / 365)\n",
    "    df['year_cos'] = np.cos(2 * np.pi * df['day_of_year'] / 365)\n",
    "    \n",
    "    df['month'] = df['datetime'].dt.month\n",
    "    df['month_sin'] = np.sin(2 * np.pi * df['month'] / 12)\n",
    "    df['month_cos'] = np.cos(2 * np.pi * df['month'] / 12)\n",
    "    \n",
    "    df['hour'] = df['datetime'].dt.hour\n",
    "    df['hour_sin'] = np.sin(2 * np.pi * df['hour'] / 24)\n",
    "    df['hour_cos'] = np.cos(2 * np.pi * df['hour'] / 24)\n",
    "\n",
    "    df['week'] = df['datetime'].dt.isocalendar().week\n",
    "    df['sin_week'] = np.sin(2 * np.pi * df['week'] / 52).astype(float)\n",
    "    df['cos_week'] = np.cos(2 * np.pi * df['week'] / 52).astype(float)\n",
    "    del df['week']\n",
    "\n",
    "    df['day'] = df['datetime'].dt.day\n",
    "    df['year'] = df['datetime'].dt.year\n",
    "\n",
    "    df['on_season'] = np.where(df['datetime'].dt.month.isin([11, 12, 1, 2, 3, 4]), 1, 0)\n",
    "\n",
    "    df['is_off_week'] = np.where(df['datetime'].dt.dayofweek.isin([2,3,4]), 1, 0)\n",
    "    \n",
    "    df.drop(['datetime'], axis=1, inplace=True)\n",
    "\n",
    "    return df"
   ]
  },
  {
   "cell_type": "code",
   "execution_count": 11,
   "id": "3fc1c408",
   "metadata": {
    "execution": {
     "iopub.execute_input": "2025-06-01T10:14:37.611230Z",
     "iopub.status.busy": "2025-06-01T10:14:37.610908Z",
     "iopub.status.idle": "2025-06-01T10:14:37.617180Z",
     "shell.execute_reply": "2025-06-01T10:14:37.616218Z"
    },
    "papermill": {
     "duration": 0.013231,
     "end_time": "2025-06-01T10:14:37.618606",
     "exception": false,
     "start_time": "2025-06-01T10:14:37.605375",
     "status": "completed"
    },
    "tags": []
   },
   "outputs": [
    {
     "data": {
      "text/plain": [
       "Index(['datetime', 'e_users', 'promotion_1', 'promotion_2', 'promotion_3'], dtype='object')"
      ]
     },
     "execution_count": 11,
     "metadata": {},
     "output_type": "execute_result"
    }
   ],
   "source": [
    "train.columns"
   ]
  },
  {
   "cell_type": "code",
   "execution_count": 12,
   "id": "c45eb64f",
   "metadata": {
    "execution": {
     "iopub.execute_input": "2025-06-01T10:14:37.629382Z",
     "iopub.status.busy": "2025-06-01T10:14:37.629090Z",
     "iopub.status.idle": "2025-06-01T10:14:37.634253Z",
     "shell.execute_reply": "2025-06-01T10:14:37.632926Z"
    },
    "papermill": {
     "duration": 0.012691,
     "end_time": "2025-06-01T10:14:37.636163",
     "exception": false,
     "start_time": "2025-06-01T10:14:37.623472",
     "status": "completed"
    },
    "tags": []
   },
   "outputs": [],
   "source": [
    "features = ['promotion_1', 'promotion_2', 'promotion_3']"
   ]
  },
  {
   "cell_type": "code",
   "execution_count": 13,
   "id": "b6c63f4c",
   "metadata": {
    "execution": {
     "iopub.execute_input": "2025-06-01T10:14:37.647386Z",
     "iopub.status.busy": "2025-06-01T10:14:37.647099Z",
     "iopub.status.idle": "2025-06-01T10:14:37.653575Z",
     "shell.execute_reply": "2025-06-01T10:14:37.652606Z"
    },
    "papermill": {
     "duration": 0.013952,
     "end_time": "2025-06-01T10:14:37.655141",
     "exception": false,
     "start_time": "2025-06-01T10:14:37.641189",
     "status": "completed"
    },
    "tags": []
   },
   "outputs": [],
   "source": [
    "def add_interact(df):\n",
    "    for i, c1 in enumerate(features):\n",
    "        for c2 in (features[i+1:]):\n",
    "            m = f'{c1}*{c2}'\n",
    "            df[m] = df[c1] * df[c2]\n",
    "            a = f'{c1}+{c2}'\n",
    "            df[a] = df[c1] + df[c2]\n",
    "            d = f'{c1}/{c2}'\n",
    "            df[d] = df[c1] / (df[c2] + 1e-3)\n",
    "            r = f'{c2}/{c1}'\n",
    "            df[r] = df[c2] / (df[c1] + 1e-3)\n",
    "    return df"
   ]
  },
  {
   "cell_type": "code",
   "execution_count": 14,
   "id": "8b50ec8d",
   "metadata": {
    "execution": {
     "iopub.execute_input": "2025-06-01T10:14:37.666296Z",
     "iopub.status.busy": "2025-06-01T10:14:37.665992Z",
     "iopub.status.idle": "2025-06-01T10:14:37.749615Z",
     "shell.execute_reply": "2025-06-01T10:14:37.748578Z"
    },
    "papermill": {
     "duration": 0.090987,
     "end_time": "2025-06-01T10:14:37.751295",
     "exception": false,
     "start_time": "2025-06-01T10:14:37.660308",
     "status": "completed"
    },
    "tags": []
   },
   "outputs": [],
   "source": [
    "X = train.copy()\n",
    "y = X.pop('e_users')\n",
    "X = fe(X)\n",
    "X = add_interact(X)\n",
    "\n",
    "X_test = test.copy()\n",
    "X_test = fe(X_test)\n",
    "X_test = add_interact(X_test)\n",
    "\n",
    "oof_preds = {}\n",
    "test_preds = {}"
   ]
  },
  {
   "cell_type": "code",
   "execution_count": 15,
   "id": "c96512f7",
   "metadata": {
    "execution": {
     "iopub.execute_input": "2025-06-01T10:14:37.761887Z",
     "iopub.status.busy": "2025-06-01T10:14:37.761443Z",
     "iopub.status.idle": "2025-06-01T10:14:37.777109Z",
     "shell.execute_reply": "2025-06-01T10:14:37.775782Z"
    },
    "papermill": {
     "duration": 0.022962,
     "end_time": "2025-06-01T10:14:37.778926",
     "exception": false,
     "start_time": "2025-06-01T10:14:37.755964",
     "status": "completed"
    },
    "tags": []
   },
   "outputs": [
    {
     "name": "stdout",
     "output_type": "stream",
     "text": [
      "<class 'pandas.core.frame.DataFrame'>\n",
      "RangeIndex: 23376 entries, 0 to 23375\n",
      "Data columns (total 30 columns):\n",
      " #   Column                   Non-Null Count  Dtype  \n",
      "---  ------                   --------------  -----  \n",
      " 0   promotion_1              23376 non-null  float64\n",
      " 1   promotion_2              23376 non-null  float64\n",
      " 2   promotion_3              23376 non-null  float64\n",
      " 3   day_of_year              23376 non-null  int32  \n",
      " 4   year_sin                 23376 non-null  float64\n",
      " 5   year_cos                 23376 non-null  float64\n",
      " 6   month                    23376 non-null  int32  \n",
      " 7   month_sin                23376 non-null  float64\n",
      " 8   month_cos                23376 non-null  float64\n",
      " 9   hour                     23376 non-null  int32  \n",
      " 10  hour_sin                 23376 non-null  float64\n",
      " 11  hour_cos                 23376 non-null  float64\n",
      " 12  sin_week                 23376 non-null  float64\n",
      " 13  cos_week                 23376 non-null  float64\n",
      " 14  day                      23376 non-null  int32  \n",
      " 15  year                     23376 non-null  int32  \n",
      " 16  on_season                23376 non-null  int64  \n",
      " 17  is_off_week              23376 non-null  int64  \n",
      " 18  promotion_1*promotion_2  23376 non-null  float64\n",
      " 19  promotion_1+promotion_2  23376 non-null  float64\n",
      " 20  promotion_1/promotion_2  23376 non-null  float64\n",
      " 21  promotion_2/promotion_1  23376 non-null  float64\n",
      " 22  promotion_1*promotion_3  23376 non-null  float64\n",
      " 23  promotion_1+promotion_3  23376 non-null  float64\n",
      " 24  promotion_1/promotion_3  23376 non-null  float64\n",
      " 25  promotion_3/promotion_1  23376 non-null  float64\n",
      " 26  promotion_2*promotion_3  23376 non-null  float64\n",
      " 27  promotion_2+promotion_3  23376 non-null  float64\n",
      " 28  promotion_2/promotion_3  23376 non-null  float64\n",
      " 29  promotion_3/promotion_2  23376 non-null  float64\n",
      "dtypes: float64(23), int32(5), int64(2)\n",
      "memory usage: 4.9 MB\n"
     ]
    }
   ],
   "source": [
    "X.info()"
   ]
  },
  {
   "cell_type": "code",
   "execution_count": 16,
   "id": "a6ffbd4a",
   "metadata": {
    "execution": {
     "iopub.execute_input": "2025-06-01T10:14:37.790255Z",
     "iopub.status.busy": "2025-06-01T10:14:37.789983Z",
     "iopub.status.idle": "2025-06-01T10:14:37.813808Z",
     "shell.execute_reply": "2025-06-01T10:14:37.812845Z"
    },
    "papermill": {
     "duration": 0.030966,
     "end_time": "2025-06-01T10:14:37.815429",
     "exception": false,
     "start_time": "2025-06-01T10:14:37.784463",
     "status": "completed"
    },
    "tags": []
   },
   "outputs": [
    {
     "data": {
      "text/html": [
       "<div>\n",
       "<style scoped>\n",
       "    .dataframe tbody tr th:only-of-type {\n",
       "        vertical-align: middle;\n",
       "    }\n",
       "\n",
       "    .dataframe tbody tr th {\n",
       "        vertical-align: top;\n",
       "    }\n",
       "\n",
       "    .dataframe thead th {\n",
       "        text-align: right;\n",
       "    }\n",
       "</style>\n",
       "<table border=\"1\" class=\"dataframe\">\n",
       "  <thead>\n",
       "    <tr style=\"text-align: right;\">\n",
       "      <th></th>\n",
       "      <th>promotion_1</th>\n",
       "      <th>promotion_2</th>\n",
       "      <th>promotion_3</th>\n",
       "      <th>day_of_year</th>\n",
       "      <th>year_sin</th>\n",
       "      <th>year_cos</th>\n",
       "      <th>month</th>\n",
       "      <th>month_sin</th>\n",
       "      <th>month_cos</th>\n",
       "      <th>hour</th>\n",
       "      <th>...</th>\n",
       "      <th>promotion_1/promotion_2</th>\n",
       "      <th>promotion_2/promotion_1</th>\n",
       "      <th>promotion_1*promotion_3</th>\n",
       "      <th>promotion_1+promotion_3</th>\n",
       "      <th>promotion_1/promotion_3</th>\n",
       "      <th>promotion_3/promotion_1</th>\n",
       "      <th>promotion_2*promotion_3</th>\n",
       "      <th>promotion_2+promotion_3</th>\n",
       "      <th>promotion_2/promotion_3</th>\n",
       "      <th>promotion_3/promotion_2</th>\n",
       "    </tr>\n",
       "  </thead>\n",
       "  <tbody>\n",
       "    <tr>\n",
       "      <th>0</th>\n",
       "      <td>11.67</td>\n",
       "      <td>95.28</td>\n",
       "      <td>80.76</td>\n",
       "      <td>1</td>\n",
       "      <td>0.017213</td>\n",
       "      <td>0.999852</td>\n",
       "      <td>1</td>\n",
       "      <td>0.5</td>\n",
       "      <td>0.866025</td>\n",
       "      <td>0</td>\n",
       "      <td>...</td>\n",
       "      <td>0.122480</td>\n",
       "      <td>8.163825</td>\n",
       "      <td>942.4692</td>\n",
       "      <td>92.43</td>\n",
       "      <td>0.144500</td>\n",
       "      <td>6.919716</td>\n",
       "      <td>7694.8128</td>\n",
       "      <td>176.04</td>\n",
       "      <td>1.179777</td>\n",
       "      <td>0.847598</td>\n",
       "    </tr>\n",
       "    <tr>\n",
       "      <th>1</th>\n",
       "      <td>11.33</td>\n",
       "      <td>93.25</td>\n",
       "      <td>80.81</td>\n",
       "      <td>1</td>\n",
       "      <td>0.017213</td>\n",
       "      <td>0.999852</td>\n",
       "      <td>1</td>\n",
       "      <td>0.5</td>\n",
       "      <td>0.866025</td>\n",
       "      <td>1</td>\n",
       "      <td>...</td>\n",
       "      <td>0.121500</td>\n",
       "      <td>8.229636</td>\n",
       "      <td>915.5773</td>\n",
       "      <td>92.14</td>\n",
       "      <td>0.140204</td>\n",
       "      <td>7.131762</td>\n",
       "      <td>7535.5325</td>\n",
       "      <td>174.06</td>\n",
       "      <td>1.153927</td>\n",
       "      <td>0.866586</td>\n",
       "    </tr>\n",
       "    <tr>\n",
       "      <th>2</th>\n",
       "      <td>11.01</td>\n",
       "      <td>91.23</td>\n",
       "      <td>80.85</td>\n",
       "      <td>1</td>\n",
       "      <td>0.017213</td>\n",
       "      <td>0.999852</td>\n",
       "      <td>1</td>\n",
       "      <td>0.5</td>\n",
       "      <td>0.866025</td>\n",
       "      <td>2</td>\n",
       "      <td>...</td>\n",
       "      <td>0.120683</td>\n",
       "      <td>8.285351</td>\n",
       "      <td>890.1585</td>\n",
       "      <td>91.86</td>\n",
       "      <td>0.136176</td>\n",
       "      <td>7.342657</td>\n",
       "      <td>7375.9455</td>\n",
       "      <td>172.08</td>\n",
       "      <td>1.128372</td>\n",
       "      <td>0.886212</td>\n",
       "    </tr>\n",
       "    <tr>\n",
       "      <th>3</th>\n",
       "      <td>10.82</td>\n",
       "      <td>89.40</td>\n",
       "      <td>80.89</td>\n",
       "      <td>1</td>\n",
       "      <td>0.017213</td>\n",
       "      <td>0.999852</td>\n",
       "      <td>1</td>\n",
       "      <td>0.5</td>\n",
       "      <td>0.866025</td>\n",
       "      <td>3</td>\n",
       "      <td>...</td>\n",
       "      <td>0.121028</td>\n",
       "      <td>8.261713</td>\n",
       "      <td>875.2298</td>\n",
       "      <td>91.71</td>\n",
       "      <td>0.133760</td>\n",
       "      <td>7.475280</td>\n",
       "      <td>7231.5660</td>\n",
       "      <td>170.29</td>\n",
       "      <td>1.105191</td>\n",
       "      <td>0.904800</td>\n",
       "    </tr>\n",
       "    <tr>\n",
       "      <th>4</th>\n",
       "      <td>10.80</td>\n",
       "      <td>88.14</td>\n",
       "      <td>80.94</td>\n",
       "      <td>1</td>\n",
       "      <td>0.017213</td>\n",
       "      <td>0.999852</td>\n",
       "      <td>1</td>\n",
       "      <td>0.5</td>\n",
       "      <td>0.866025</td>\n",
       "      <td>4</td>\n",
       "      <td>...</td>\n",
       "      <td>0.122531</td>\n",
       "      <td>8.160356</td>\n",
       "      <td>874.1520</td>\n",
       "      <td>91.74</td>\n",
       "      <td>0.133431</td>\n",
       "      <td>7.493751</td>\n",
       "      <td>7134.0516</td>\n",
       "      <td>169.08</td>\n",
       "      <td>1.088941</td>\n",
       "      <td>0.918301</td>\n",
       "    </tr>\n",
       "  </tbody>\n",
       "</table>\n",
       "<p>5 rows × 30 columns</p>\n",
       "</div>"
      ],
      "text/plain": [
       "   promotion_1  promotion_2  promotion_3  day_of_year  year_sin  year_cos  \\\n",
       "0        11.67        95.28        80.76            1  0.017213  0.999852   \n",
       "1        11.33        93.25        80.81            1  0.017213  0.999852   \n",
       "2        11.01        91.23        80.85            1  0.017213  0.999852   \n",
       "3        10.82        89.40        80.89            1  0.017213  0.999852   \n",
       "4        10.80        88.14        80.94            1  0.017213  0.999852   \n",
       "\n",
       "   month  month_sin  month_cos  hour  ...  promotion_1/promotion_2  \\\n",
       "0      1        0.5   0.866025     0  ...                 0.122480   \n",
       "1      1        0.5   0.866025     1  ...                 0.121500   \n",
       "2      1        0.5   0.866025     2  ...                 0.120683   \n",
       "3      1        0.5   0.866025     3  ...                 0.121028   \n",
       "4      1        0.5   0.866025     4  ...                 0.122531   \n",
       "\n",
       "   promotion_2/promotion_1  promotion_1*promotion_3  promotion_1+promotion_3  \\\n",
       "0                 8.163825                 942.4692                    92.43   \n",
       "1                 8.229636                 915.5773                    92.14   \n",
       "2                 8.285351                 890.1585                    91.86   \n",
       "3                 8.261713                 875.2298                    91.71   \n",
       "4                 8.160356                 874.1520                    91.74   \n",
       "\n",
       "   promotion_1/promotion_3  promotion_3/promotion_1  promotion_2*promotion_3  \\\n",
       "0                 0.144500                 6.919716                7694.8128   \n",
       "1                 0.140204                 7.131762                7535.5325   \n",
       "2                 0.136176                 7.342657                7375.9455   \n",
       "3                 0.133760                 7.475280                7231.5660   \n",
       "4                 0.133431                 7.493751                7134.0516   \n",
       "\n",
       "   promotion_2+promotion_3  promotion_2/promotion_3  promotion_3/promotion_2  \n",
       "0                   176.04                 1.179777                 0.847598  \n",
       "1                   174.06                 1.153927                 0.866586  \n",
       "2                   172.08                 1.128372                 0.886212  \n",
       "3                   170.29                 1.105191                 0.904800  \n",
       "4                   169.08                 1.088941                 0.918301  \n",
       "\n",
       "[5 rows x 30 columns]"
      ]
     },
     "execution_count": 16,
     "metadata": {},
     "output_type": "execute_result"
    }
   ],
   "source": [
    "X.head()"
   ]
  },
  {
   "cell_type": "code",
   "execution_count": 17,
   "id": "8b1c5e1c",
   "metadata": {
    "execution": {
     "iopub.execute_input": "2025-06-01T10:14:37.827039Z",
     "iopub.status.busy": "2025-06-01T10:14:37.826715Z",
     "iopub.status.idle": "2025-06-01T10:16:14.905689Z",
     "shell.execute_reply": "2025-06-01T10:16:14.904865Z"
    },
    "papermill": {
     "duration": 97.086506,
     "end_time": "2025-06-01T10:16:14.907084",
     "exception": false,
     "start_time": "2025-06-01T10:14:37.820578",
     "status": "completed"
    },
    "tags": []
   },
   "outputs": [
    {
     "name": "stderr",
     "output_type": "stream",
     "text": [
      "[I 2025-06-01 10:14:40,200] A new study created in memory with name: XGB-RMSE-Optimization\n",
      "[I 2025-06-01 10:14:45,203] Trial 0 finished with value: 5666.36947834308 and parameters: {'n_estimators': 1757, 'learning_rate': 0.05293766275028138, 'max_depth': 9, 'min_child_weight': 5, 'alpha': 2.904366088438459, 'lambda': 0.5824824169679047, 'subsample': 0.8990037232339464, 'colsample_bytree': 0.542351218854296, 'gamma': 0.0058640317644126}. Best is trial 0 with value: 5666.36947834308.\n",
      "[I 2025-06-01 10:14:48,539] Trial 1 finished with value: 5455.99483738274 and parameters: {'n_estimators': 3414, 'learning_rate': 0.03839347971685261, 'max_depth': 6, 'min_child_weight': 3, 'alpha': 0.1793695607552481, 'lambda': 1.913832546623206, 'subsample': 0.9160907081896379, 'colsample_bytree': 0.5959275419560863, 'gamma': 6.877353589871887e-06}. Best is trial 1 with value: 5455.99483738274.\n",
      "[I 2025-06-01 10:14:49,667] Trial 2 finished with value: 6068.377665595668 and parameters: {'n_estimators': 778, 'learning_rate': 0.23049052199393225, 'max_depth': 3, 'min_child_weight': 1, 'alpha': 1.7400275990576737, 'lambda': 0.19324139483539887, 'subsample': 0.5011072968829464, 'colsample_bytree': 0.8405536856297041, 'gamma': 0.002233989318915851}. Best is trial 1 with value: 5455.99483738274.\n",
      "[I 2025-06-01 10:14:51,304] Trial 3 finished with value: 5575.899087714523 and parameters: {'n_estimators': 1496, 'learning_rate': 0.08098162681308131, 'max_depth': 4, 'min_child_weight': 9, 'alpha': 3.9757084549285002, 'lambda': 1.0153636201072815, 'subsample': 0.5290364376610586, 'colsample_bytree': 0.6819378997445182, 'gamma': 0.4581635745964911}. Best is trial 1 with value: 5455.99483738274.\n",
      "[I 2025-06-01 10:15:04,981] Trial 4 finished with value: 5648.255902223209 and parameters: {'n_estimators': 3890, 'learning_rate': 0.01945248693603503, 'max_depth': 10, 'min_child_weight': 10, 'alpha': 0.41223806131523216, 'lambda': 3.1548055039846656, 'subsample': 0.6612766422216029, 'colsample_bytree': 0.7532455904843363, 'gamma': 0.0007102008536164507}. Best is trial 1 with value: 5455.99483738274.\n",
      "[I 2025-06-01 10:15:06,570] Trial 5 finished with value: 5311.032960034042 and parameters: {'n_estimators': 7573, 'learning_rate': 0.26829593212154473, 'max_depth': 7, 'min_child_weight': 4, 'alpha': 0.09632662953868265, 'lambda': 0.2033476759339869, 'subsample': 0.9425621811106453, 'colsample_bytree': 0.5004294647565821, 'gamma': 0.003128816261620583}. Best is trial 5 with value: 5311.032960034042.\n",
      "[I 2025-06-01 10:15:23,751] Trial 6 finished with value: 5894.48788844865 and parameters: {'n_estimators': 2346, 'learning_rate': 0.006687806478799257, 'max_depth': 7, 'min_child_weight': 10, 'alpha': 0.0012164943628022494, 'lambda': 8.751754979816797, 'subsample': 0.7863329258479254, 'colsample_bytree': 0.9372966886643722, 'gamma': 0.00742306817582791}. Best is trial 5 with value: 5311.032960034042.\n",
      "[I 2025-06-01 10:15:27,067] Trial 7 finished with value: 5205.9631062754515 and parameters: {'n_estimators': 4197, 'learning_rate': 0.055547701096660906, 'max_depth': 3, 'min_child_weight': 1, 'alpha': 0.6808274646749001, 'lambda': 5.293941459268186, 'subsample': 0.816350991467793, 'colsample_bytree': 0.5581913774852758, 'gamma': 5.060897618924767e-07}. Best is trial 7 with value: 5205.9631062754515.\n",
      "[I 2025-06-01 10:15:30,383] Trial 8 finished with value: 6250.008543004445 and parameters: {'n_estimators': 3373, 'learning_rate': 0.15483168845846498, 'max_depth': 9, 'min_child_weight': 1, 'alpha': 1.4970864007701774, 'lambda': 0.03130668629246933, 'subsample': 0.857614067123555, 'colsample_bytree': 0.6179557522971869, 'gamma': 1.016379016955249e-06}. Best is trial 7 with value: 5205.9631062754515.\n",
      "[I 2025-06-01 10:15:32,399] Trial 9 finished with value: 5417.66124880078 and parameters: {'n_estimators': 1903, 'learning_rate': 0.06705651346644305, 'max_depth': 5, 'min_child_weight': 2, 'alpha': 0.061784866627597405, 'lambda': 0.025513806923169836, 'subsample': 0.843369133708985, 'colsample_bytree': 0.5685588451176197, 'gamma': 0.0005119828838754392}. Best is trial 7 with value: 5205.9631062754515.\n",
      "[I 2025-06-01 10:15:41,163] Trial 10 finished with value: 5543.210912484487 and parameters: {'n_estimators': 6589, 'learning_rate': 0.01438350777661426, 'max_depth': 3, 'min_child_weight': 7, 'alpha': 0.015078326896987413, 'lambda': 0.002096532712782311, 'subsample': 0.683699830773162, 'colsample_bytree': 0.7562418850247173, 'gamma': 1.2206168634235298e-08}. Best is trial 7 with value: 5205.9631062754515.\n",
      "[I 2025-06-01 10:15:42,539] Trial 11 finished with value: 5463.977386223766 and parameters: {'n_estimators': 9635, 'learning_rate': 0.29927708063078867, 'max_depth': 7, 'min_child_weight': 4, 'alpha': 0.029076483522619496, 'lambda': 0.0833786280516704, 'subsample': 0.9522509235506763, 'colsample_bytree': 0.5159212482968387, 'gamma': 8.500335124684928e-06}. Best is trial 7 with value: 5205.9631062754515.\n",
      "[I 2025-06-01 10:15:44,170] Trial 12 finished with value: 5771.838993450547 and parameters: {'n_estimators': 6731, 'learning_rate': 0.11404068696949621, 'max_depth': 6, 'min_child_weight': 7, 'alpha': 0.3384500084215775, 'lambda': 0.001983860671590601, 'subsample': 0.9887499920098796, 'colsample_bytree': 0.6664317574499958, 'gamma': 3.206507355258436e-08}. Best is trial 7 with value: 5205.9631062754515.\n",
      "[I 2025-06-01 10:15:51,494] Trial 13 finished with value: 5454.4162282882 and parameters: {'n_estimators': 8564, 'learning_rate': 0.028468663532551893, 'max_depth': 8, 'min_child_weight': 3, 'alpha': 0.006614920932085629, 'lambda': 0.2840740041413922, 'subsample': 0.7701203517011266, 'colsample_bytree': 0.5029646506083232, 'gamma': 0.16110465445573852}. Best is trial 7 with value: 5205.9631062754515.\n",
      "[I 2025-06-01 10:15:53,088] Trial 14 finished with value: 5819.5800592974 and parameters: {'n_estimators': 5555, 'learning_rate': 0.14363059294009423, 'max_depth': 5, 'min_child_weight': 6, 'alpha': 0.5166483419916049, 'lambda': 8.324940462729195, 'subsample': 0.7025247501239097, 'colsample_bytree': 0.6696814021895402, 'gamma': 2.3944671315493236e-07}. Best is trial 7 with value: 5205.9631062754515.\n",
      "[I 2025-06-01 10:16:00,811] Trial 15 finished with value: 5834.114067509919 and parameters: {'n_estimators': 8109, 'learning_rate': 0.010267524273804271, 'max_depth': 5, 'min_child_weight': 4, 'alpha': 9.60724213776798, 'lambda': 0.009468138954344936, 'subsample': 0.8248991545028882, 'colsample_bytree': 0.8374808131276087, 'gamma': 7.078698179935426e-05}. Best is trial 7 with value: 5205.9631062754515.\n",
      "[I 2025-06-01 10:16:09,710] Trial 16 finished with value: 5636.276135136631 and parameters: {'n_estimators': 4910, 'learning_rate': 0.029316162647883687, 'max_depth': 8, 'min_child_weight': 2, 'alpha': 0.0877768547869613, 'lambda': 0.08317592020660584, 'subsample': 0.9770837813755655, 'colsample_bytree': 0.6023530930331935, 'gamma': 0.05227999690326871}. Best is trial 7 with value: 5205.9631062754515.\n",
      "[I 2025-06-01 10:16:11,273] Trial 17 finished with value: 5038.799677445804 and parameters: {'n_estimators': 6997, 'learning_rate': 0.10475586215396379, 'max_depth': 4, 'min_child_weight': 5, 'alpha': 0.8073042254123297, 'lambda': 3.4289739927114273, 'subsample': 0.9008408451716037, 'colsample_bytree': 0.5072475787712835, 'gamma': 5.15257817272365e-05}. Best is trial 17 with value: 5038.799677445804.\n",
      "[I 2025-06-01 10:16:12,717] Trial 18 finished with value: 5949.146785867092 and parameters: {'n_estimators': 5165, 'learning_rate': 0.09514224427805366, 'max_depth': 4, 'min_child_weight': 8, 'alpha': 1.089851742190514, 'lambda': 3.053063991399167, 'subsample': 0.6157809859127394, 'colsample_bytree': 0.9590945363132419, 'gamma': 3.826283325670388e-05}. Best is trial 17 with value: 5038.799677445804.\n",
      "[I 2025-06-01 10:16:14,900] Trial 19 finished with value: 5652.74350089338 and parameters: {'n_estimators': 6106, 'learning_rate': 0.04886946850823819, 'max_depth': 4, 'min_child_weight': 6, 'alpha': 6.622035864264385, 'lambda': 0.7601152122157981, 'subsample': 0.8782824222004498, 'colsample_bytree': 0.7041372322720063, 'gamma': 3.587445096434816e-07}. Best is trial 17 with value: 5038.799677445804.\n"
     ]
    },
    {
     "name": "stdout",
     "output_type": "stream",
     "text": [
      "Best cross-validation RMSE: 5,038.79968\n",
      "Best parameters: {'n_estimators': 6997, 'learning_rate': 0.10475586215396379, 'max_depth': 4, 'min_child_weight': 5, 'alpha': 0.8073042254123297, 'lambda': 3.4289739927114273, 'subsample': 0.9008408451716037, 'colsample_bytree': 0.5072475787712835, 'gamma': 5.15257817272365e-05}\n"
     ]
    }
   ],
   "source": [
    "from sklearn.model_selection import TimeSeriesSplit\n",
    "from xgboost import XGBRegressor\n",
    "from sklearn.metrics import mean_squared_error\n",
    "from sklearn.preprocessing import RobustScaler\n",
    "\n",
    "tscv = TimeSeriesSplit(n_splits=3)\n",
    "oof_xgb = np.zeros(len(y))\n",
    "test_xgb = np.zeros(len(X_test))\n",
    "\n",
    "def objective(trial):\n",
    "    params = {\n",
    "        'objective': 'reg:squarederror', 'eval_metric': 'rmse',\n",
    "        'n_estimators': trial.suggest_int('n_estimators', 500, 10000),\n",
    "        'learning_rate': trial.suggest_float('learning_rate', 0.005, 0.3, log=True),\n",
    "        'max_depth': trial.suggest_int('max_depth', 3, 10),\n",
    "        'min_child_weight': trial.suggest_int('min_child_weight', 1, 10),\n",
    "        'alpha': trial.suggest_float('alpha', 1e-3, 10, log=True),\n",
    "        'lambda': trial.suggest_float('lambda', 1e-3, 10, log=True),\n",
    "        'subsample': trial.suggest_float('subsample', 0.5, 1.0),\n",
    "        'colsample_bytree': trial.suggest_float('colsample_bytree', 0.5, 1.0),\n",
    "        'gamma': trial.suggest_float('gamma', 1e-8, 1.0, log=True),\n",
    "        'eval_metric': 'rmse',\n",
    "        'seed': 100\n",
    "    }\n",
    "\n",
    "    scores = []\n",
    "    \n",
    "    for fold, (train_index, valid_index) in enumerate(tscv.split(X, y), start=1):\n",
    "        X_train, X_valid = X.iloc[train_index].copy(), X.iloc[valid_index].copy()\n",
    "        y_train, y_valid = y.iloc[train_index], y.iloc[valid_index]\n",
    "    \n",
    "        xgb = XGBRegressor(**params, early_stopping_rounds=50, random_state=100).fit(X_train, y_train, eval_set=[(X_valid, y_valid)], verbose=0)\n",
    "        xgb_pred = xgb.predict(X_valid)\n",
    "        fold_rmse = np.sqrt(mean_squared_error(y_valid, xgb_pred))\n",
    "        scores.append(fold_rmse)\n",
    "    \n",
    "    return np.mean(scores)\n",
    "    \n",
    "study = optuna.create_study(direction='minimize', study_name='XGB-RMSE-Optimization')\n",
    "study.optimize(objective, n_trials=20)\n",
    "\n",
    "print(f'Best cross-validation RMSE: {study.best_value:,.5f}')\n",
    "print(f'Best parameters: {study.best_params}')\n"
   ]
  },
  {
   "cell_type": "code",
   "execution_count": 18,
   "id": "e60d2e65",
   "metadata": {
    "execution": {
     "iopub.execute_input": "2025-06-01T10:16:14.923722Z",
     "iopub.status.busy": "2025-06-01T10:16:14.923153Z",
     "iopub.status.idle": "2025-06-01T10:16:26.951017Z",
     "shell.execute_reply": "2025-06-01T10:16:26.950182Z"
    },
    "papermill": {
     "duration": 12.036997,
     "end_time": "2025-06-01T10:16:26.952571",
     "exception": false,
     "start_time": "2025-06-01T10:16:14.915574",
     "status": "completed"
    },
    "tags": []
   },
   "outputs": [],
   "source": [
    "final_model = XGBRegressor(**study.best_params).fit(X, y)\n",
    "test_xgb = final_model.predict(X_test)"
   ]
  },
  {
   "cell_type": "code",
   "execution_count": 19,
   "id": "f6fffa9b",
   "metadata": {
    "execution": {
     "iopub.execute_input": "2025-06-01T10:16:26.969940Z",
     "iopub.status.busy": "2025-06-01T10:16:26.969150Z",
     "iopub.status.idle": "2025-06-01T10:16:26.999585Z",
     "shell.execute_reply": "2025-06-01T10:16:26.998432Z"
    },
    "papermill": {
     "duration": 0.040835,
     "end_time": "2025-06-01T10:16:27.001263",
     "exception": false,
     "start_time": "2025-06-01T10:16:26.960428",
     "status": "completed"
    },
    "tags": []
   },
   "outputs": [
    {
     "name": "stdout",
     "output_type": "stream",
     "text": [
      "Your submission was successfully saved!\n",
      "              datetime       e_users\n",
      "0  2024-09-01 00:00:00  41241.968750\n",
      "1  2024-09-01 01:00:00  37196.851562\n",
      "2  2024-09-01 02:00:00  35705.703125\n",
      "3  2024-09-01 03:00:00  32623.773438\n",
      "4  2024-09-01 04:00:00  31936.003906\n",
      "5  2024-09-01 05:00:00  32502.173828\n",
      "6  2024-09-01 06:00:00  35552.734375\n",
      "7  2024-09-01 07:00:00  37682.941406\n"
     ]
    }
   ],
   "source": [
    "sub = pd.read_csv('/kaggle/input/prediction-of-e-commerce-users/submission.csv')\n",
    "sub['e_users'] = test_xgb\n",
    "sub.to_csv('submission.csv', index=False)\n",
    "print(\"Your submission was successfully saved!\")\n",
    "print(sub.head(8))"
   ]
  }
 ],
 "metadata": {
  "kaggle": {
   "accelerator": "none",
   "dataSources": [
    {
     "databundleVersionId": 11515802,
     "sourceId": 96904,
     "sourceType": "competition"
    }
   ],
   "dockerImageVersionId": 31040,
   "isGpuEnabled": false,
   "isInternetEnabled": true,
   "language": "python",
   "sourceType": "notebook"
  },
  "kernelspec": {
   "display_name": "Python 3",
   "language": "python",
   "name": "python3"
  },
  "language_info": {
   "codemirror_mode": {
    "name": "ipython",
    "version": 3
   },
   "file_extension": ".py",
   "mimetype": "text/x-python",
   "name": "python",
   "nbconvert_exporter": "python",
   "pygments_lexer": "ipython3",
   "version": "3.11.11"
  },
  "papermill": {
   "default_parameters": {},
   "duration": 118.797369,
   "end_time": "2025-06-01T10:16:27.829718",
   "environment_variables": {},
   "exception": null,
   "input_path": "__notebook__.ipynb",
   "output_path": "__notebook__.ipynb",
   "parameters": {},
   "start_time": "2025-06-01T10:14:29.032349",
   "version": "2.6.0"
  }
 },
 "nbformat": 4,
 "nbformat_minor": 5
}
